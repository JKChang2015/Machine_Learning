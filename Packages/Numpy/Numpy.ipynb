{
 "cells": [
  {
   "cell_type": "markdown",
   "metadata": {},
   "source": [
    "# Chapter 2. Numpy 科学计算库"
   ]
  },
  {
   "cell_type": "code",
   "execution_count": null,
   "metadata": {},
   "outputs": [
    {
     "name": "stdout",
     "output_type": "stream",
     "text": [
      "<class 'numpy.ndarray'>\n",
      "[['Year' 'WHO region' 'Country' 'Beverage Types' 'Display Value']\n",
      " ['1986' 'Western Pacific' 'Viet Nam' 'Wine' '0']\n",
      " ['1986' 'Americas' 'Uruguay' 'Other' '0.5']\n",
      " ...\n",
      " ['1987' 'Africa' 'Malawi' 'Other' '0.75']\n",
      " ['1989' 'Americas' 'Bahamas' 'Wine' '1.5']\n",
      " ['1985' 'Africa' 'Malawi' 'Spirits' '0.31']]\n"
     ]
    }
   ],
   "source": [
    "import numpy as np\n",
    "\n",
    "# load data from txt file\n",
    "world_alcohol = np.genfromtxt(\"world_alcohol.txt\", delimiter=\",\", dtype=str)\n",
    "print(type(world_alcohol))\n",
    "print(world_alcohol)"
   ]
  },
  {
   "cell_type": "code",
   "execution_count": 2,
   "metadata": {},
   "outputs": [
    {
     "name": "stdout",
     "output_type": "stream",
     "text": [
      "[ 5 10 15 20]\n",
      "[[ 5 10 15]\n",
      " [20 25 30]\n",
      " [35 40 45]]\n"
     ]
    }
   ],
   "source": [
    "# create a one-Demension matrix from a list\n",
    "vector = np.array([5, 10, 15, 20])\n",
    "\n",
    "#create a two-Demension matrix from a 2-D list\n",
    "matrix = np.array([[5, 10, 15], [20, 25, 30], [35, 40, 45]])\n",
    "\n",
    "print(vector)\n",
    "print(matrix)"
   ]
  },
  {
   "cell_type": "code",
   "execution_count": 3,
   "metadata": {},
   "outputs": [
    {
     "name": "stdout",
     "output_type": "stream",
     "text": [
      "(4,)\n",
      "(2, 3)\n"
     ]
    }
   ],
   "source": [
    "#numpy ndarray shapes\n",
    "vector = np.array([5, 10, 15, 20])\n",
    "print(vector.shape)\n",
    "matrix = np.array([[5, 10, 15], [20, 25, 30]])\n",
    "print(matrix.shape)"
   ]
  },
  {
   "cell_type": "code",
   "execution_count": 4,
   "metadata": {},
   "outputs": [
    {
     "name": "stdout",
     "output_type": "stream",
     "text": [
      "[1 2 3 4]\n",
      "int64\n",
      "[1. 2. 3. 4.]\n",
      "float64\n",
      "['1' '2' '3' '4']\n",
      "<U21\n"
     ]
    }
   ],
   "source": [
    "# in the numpy array, only one datatype is allowed\n",
    "# different data type will be normalized to the same one\n",
    "\n",
    "nums = np.array([1, 2, 3, 4])\n",
    "print(nums)\n",
    "print(nums.dtype)\n",
    "\n",
    "nums = np.array([1, 2, 3, 4.0])\n",
    "print(nums)\n",
    "print(nums.dtype)\n",
    "\n",
    "nums = np.array([1, 2, 3, '4'])\n",
    "print(nums)\n",
    "print(nums.dtype)\n"
   ]
  },
  {
   "cell_type": "code",
   "execution_count": 5,
   "metadata": {},
   "outputs": [
    {
     "name": "stdout",
     "output_type": "stream",
     "text": [
      "[['1986' 'Western Pacific' 'Viet Nam' 'Wine' '0']\n",
      " ['1986' 'Americas' 'Uruguay' 'Other' '0.5']\n",
      " ['1985' 'Africa' \"Cte d'Ivoire\" 'Wine' '1.62']\n",
      " ...\n",
      " ['1987' 'Africa' 'Malawi' 'Other' '0.75']\n",
      " ['1989' 'Americas' 'Bahamas' 'Wine' '1.5']\n",
      " ['1985' 'Africa' 'Malawi' 'Spirits' '0.31']]\n",
      "----------------------------\n",
      "0.5\n",
      "Cte d'Ivoire\n"
     ]
    }
   ],
   "source": [
    "# Load the data according to the index of the array\n",
    "world_alcohol = np.genfromtxt(\"world_alcohol.txt\", delimiter=\",\", \n",
    "                              dtype=str, skip_header=1)\n",
    "print(world_alcohol)\n",
    "print('----------------------------')\n",
    "uruguay_other_1986 = world_alcohol[1, 4]\n",
    "third_country = world_alcohol[2, 2]\n",
    "\n",
    "print(uruguay_other_1986)\n",
    "print(third_country)\n"
   ]
  },
  {
   "cell_type": "code",
   "execution_count": 6,
   "metadata": {},
   "outputs": [
    {
     "name": "stdout",
     "output_type": "stream",
     "text": [
      "[ 5 10]\n"
     ]
    }
   ],
   "source": [
    "# cut the array\n",
    "vector = np.array([5, 10, 15, 20])\n",
    "print(vector[:2])\n"
   ]
  },
  {
   "cell_type": "code",
   "execution_count": 7,
   "metadata": {},
   "outputs": [
    {
     "name": "stdout",
     "output_type": "stream",
     "text": [
      "[10 25 40]\n",
      "[[ 5 10]\n",
      " [20 25]\n",
      " [35 40]]\n",
      "[[20 25]\n",
      " [35 40]]\n"
     ]
    }
   ],
   "source": [
    "# cut the matrix\n",
    "matrix = np.array([[5, 10, 15],\n",
    "                   [20, 25, 30],\n",
    "                   [35, 40, 45]])\n",
    "\n",
    "# matrix(row,column,index)\n",
    "\n",
    "# single column:\n",
    "print(matrix[:, 1])\n",
    "\n",
    "# double columns:\n",
    "print(matrix[:, :2])\n",
    "\n",
    "# some row and some column\n",
    "print(matrix[1:, :2])\n"
   ]
  },
  {
   "cell_type": "code",
   "execution_count": 8,
   "metadata": {},
   "outputs": [
    {
     "name": "stdout",
     "output_type": "stream",
     "text": [
      "[False  True False False]\n",
      "----------------------------\n",
      "[[False False False]\n",
      " [False  True False]\n",
      " [ True False False]]\n",
      "[25 25]\n"
     ]
    }
   ],
   "source": [
    "# judgement in array\n",
    "vector = np.array([5, 10, 15, 20])\n",
    "print(vector == 10)\n",
    "print('----------------------------')\n",
    "# judgement in matrix\n",
    "matrix = np.array([[5, 10, 15], [20, 25, 30], [25, 40, 45]])\n",
    "print(matrix == 25)\n",
    "print(matrix[matrix == 25])\n"
   ]
  },
  {
   "cell_type": "code",
   "execution_count": 9,
   "metadata": {},
   "outputs": [
    {
     "name": "stdout",
     "output_type": "stream",
     "text": [
      "[False  True False]\n",
      "[[20 25 30]]\n"
     ]
    }
   ],
   "source": [
    "# Judgement, and return a row that contain certain values\n",
    "matrix = np.array([[5, 10, 15], [20, 25, 30], [35, 40, 45]])\n",
    "second_column = (matrix[:, 1] == 25)\n",
    "print(second_column)\n",
    "print(matrix[second_column, :])\n"
   ]
  },
  {
   "cell_type": "code",
   "execution_count": 10,
   "metadata": {},
   "outputs": [
    {
     "name": "stdout",
     "output_type": "stream",
     "text": [
      "[False False False False]\n",
      "[ True  True False False]\n"
     ]
    }
   ],
   "source": [
    "# Logic operation\n",
    "vector = np.array([5, 10, 15, 20])\n",
    "print((vector == 5) & (vector == 10))\n",
    "print((vector == 5) | (vector == 10))\n"
   ]
  },
  {
   "cell_type": "code",
   "execution_count": 11,
   "metadata": {},
   "outputs": [
    {
     "name": "stdout",
     "output_type": "stream",
     "text": [
      "[50 50 15 20]\n",
      "----------------------------\n",
      "[False  True False]\n",
      "[[  5  10  15]\n",
      " [100 100 100]\n",
      " [ 35  40  45]]\n"
     ]
    }
   ],
   "source": [
    "# conditional change value, using true/false as a index\n",
    "vector = np.array([5, 10, 15, 20])\n",
    "equal_to_ten_or_five = (vector == 10) | (vector == 5)\n",
    "vector[equal_to_ten_or_five] = 50\n",
    "print(vector)\n",
    "print('----------------------------')\n",
    "\n",
    "matrix = np.array([[5, 10, 15],\n",
    "                   [20, 25, 30],\n",
    "                   [35, 40, 45]])\n",
    "\n",
    "second_column = (matrix[:, 1] == 25)\n",
    "print(second_column)\n",
    "matrix[second_column, :] = 100\n",
    "print(matrix)\n"
   ]
  },
  {
   "cell_type": "code",
   "execution_count": 12,
   "metadata": {},
   "outputs": [
    {
     "name": "stdout",
     "output_type": "stream",
     "text": [
      "<U1\n",
      "['1' '2' '3']\n",
      "float64\n",
      "[1. 2. 3.]\n"
     ]
    }
   ],
   "source": [
    "vector = np.array(['1', '2', '3'])\n",
    "print(vector.dtype)\n",
    "print(vector)\n",
    "\n",
    "# change the data type\n",
    "vector = vector.astype(float)\n",
    "print(vector.dtype)\n",
    "print(vector)\n"
   ]
  },
  {
   "cell_type": "code",
   "execution_count": 13,
   "metadata": {},
   "outputs": [
    {
     "name": "stdout",
     "output_type": "stream",
     "text": [
      "5\n",
      "20\n"
     ]
    }
   ],
   "source": [
    "# minimum\n",
    "vector = np.array([5, 10, 15, 20])\n",
    "print(vector.min())\n",
    "\n",
    "# maximum\n",
    "print(vector.max())\n"
   ]
  },
  {
   "cell_type": "code",
   "execution_count": 14,
   "metadata": {},
   "outputs": [
    {
     "name": "stdout",
     "output_type": "stream",
     "text": [
      "[ 30  75 120]\n",
      "[60 75 90]\n"
     ]
    }
   ],
   "source": [
    "# sum\n",
    "matrix = np.array([[5, 10, 15],\n",
    "                   [20, 25, 30],\n",
    "                   [35, 40, 45]])\n",
    "\n",
    "# sum of every row, dimension=1\n",
    "print(matrix.sum(axis=1))\n",
    "\n",
    "# sum of each column,dimension=0\n",
    "print(matrix.sum(axis=0))\n"
   ]
  },
  {
   "cell_type": "code",
   "execution_count": 15,
   "metadata": {},
   "outputs": [
    {
     "name": "stdout",
     "output_type": "stream",
     "text": [
      "[ 0  1  2  3  4  5  6  7  8  9 10 11 12 13 14]\n",
      "[[ 0  1  2  3  4]\n",
      " [ 5  6  7  8  9]\n",
      " [10 11 12 13 14]]\n",
      "\n",
      "[[ 0  1  2]\n",
      " [ 3  4  5]\n",
      " [ 6  7  8]\n",
      " [ 9 10 11]\n",
      " [12 13 14]]\n"
     ]
    }
   ],
   "source": [
    "# reshape\n",
    "print(np.arange(15))\n",
    "\n",
    "matrix = np.arange(15).reshape(3, 5)\n",
    "matrix2 = np.arange(15).reshape(5, 3)\n",
    "\n",
    "print(matrix)\n",
    "print()\n",
    "print(matrix2)\n"
   ]
  },
  {
   "cell_type": "code",
   "execution_count": 16,
   "metadata": {},
   "outputs": [
    {
     "name": "stdout",
     "output_type": "stream",
     "text": [
      "(3, 5)\n",
      "2\n",
      "int64\n",
      "15\n"
     ]
    }
   ],
   "source": [
    "# get basic information of a matrix\n",
    "# shape\n",
    "print(matrix.shape)\n",
    "\n",
    "# dimension\n",
    "print(matrix.ndim)\n",
    "\n",
    "# data type\n",
    "print(matrix.dtype)\n",
    "\n",
    "# matrix size\n",
    "print(matrix.size)\n"
   ]
  },
  {
   "cell_type": "code",
   "execution_count": 17,
   "metadata": {},
   "outputs": [
    {
     "name": "stdout",
     "output_type": "stream",
     "text": [
      "[[0. 0. 0. 0.]\n",
      " [0. 0. 0. 0.]\n",
      " [0. 0. 0. 0.]]\n",
      "[[1. 1. 1.]\n",
      " [1. 1. 1.]]\n",
      "[[1 1 1]\n",
      " [1 1 1]]\n"
     ]
    }
   ],
   "source": [
    "# ZERO\n",
    "zero = np.zeros((3, 4))  #float, the size arg should be a tuple\n",
    "print(zero)\n",
    "\n",
    "# ONE\n",
    "one = np.ones((2, 3))  #float\n",
    "print(one)\n",
    "\n",
    "one = np.ones((2, 3), dtype=np.int64)  #int64\n",
    "print(one)\n"
   ]
  },
  {
   "cell_type": "code",
   "execution_count": 18,
   "metadata": {},
   "outputs": [
    {
     "name": "stdout",
     "output_type": "stream",
     "text": [
      "[10 15 20 25]\n",
      "[0.  0.3 0.6 0.9 1.2 1.5 1.8]\n",
      "[[ 0  1  2]\n",
      " [ 3  4  5]\n",
      " [ 6  7  8]\n",
      " [ 9 10 11]]\n"
     ]
    }
   ],
   "source": [
    "# arange\n",
    "print(np.arange(10, 30, 5))\n",
    "print(np.arange(0, 2, 0.3))\n",
    "print(np.arange(12).reshape(4, 3))\n"
   ]
  },
  {
   "cell_type": "code",
   "execution_count": 19,
   "metadata": {},
   "outputs": [
    {
     "name": "stdout",
     "output_type": "stream",
     "text": [
      "[[0.81128485 0.75854628 0.00968269]\n",
      " [0.44593597 0.50593454 0.50431435]]\n"
     ]
    }
   ],
   "source": [
    "# random\n",
    "print(np.random.random((2, 3)))\n"
   ]
  },
  {
   "cell_type": "code",
   "execution_count": 20,
   "metadata": {},
   "outputs": [
    {
     "data": {
      "text/plain": [
       "array([0.        , 0.06346652, 0.12693304, 0.19039955, 0.25386607,\n",
       "       0.31733259, 0.38079911, 0.44426563, 0.50773215, 0.57119866,\n",
       "       0.63466518, 0.6981317 , 0.76159822, 0.82506474, 0.88853126,\n",
       "       0.95199777, 1.01546429, 1.07893081, 1.14239733, 1.20586385,\n",
       "       1.26933037, 1.33279688, 1.3962634 , 1.45972992, 1.52319644,\n",
       "       1.58666296, 1.65012947, 1.71359599, 1.77706251, 1.84052903,\n",
       "       1.90399555, 1.96746207, 2.03092858, 2.0943951 , 2.15786162,\n",
       "       2.22132814, 2.28479466, 2.34826118, 2.41172769, 2.47519421,\n",
       "       2.53866073, 2.60212725, 2.66559377, 2.72906028, 2.7925268 ,\n",
       "       2.85599332, 2.91945984, 2.98292636, 3.04639288, 3.10985939,\n",
       "       3.17332591, 3.23679243, 3.30025895, 3.36372547, 3.42719199,\n",
       "       3.4906585 , 3.55412502, 3.61759154, 3.68105806, 3.74452458,\n",
       "       3.8079911 , 3.87145761, 3.93492413, 3.99839065, 4.06185717,\n",
       "       4.12532369, 4.1887902 , 4.25225672, 4.31572324, 4.37918976,\n",
       "       4.44265628, 4.5061228 , 4.56958931, 4.63305583, 4.69652235,\n",
       "       4.75998887, 4.82345539, 4.88692191, 4.95038842, 5.01385494,\n",
       "       5.07732146, 5.14078798, 5.2042545 , 5.26772102, 5.33118753,\n",
       "       5.39465405, 5.45812057, 5.52158709, 5.58505361, 5.64852012,\n",
       "       5.71198664, 5.77545316, 5.83891968, 5.9023862 , 5.96585272,\n",
       "       6.02931923, 6.09278575, 6.15625227, 6.21971879, 6.28318531])"
      ]
     },
     "execution_count": 20,
     "metadata": {},
     "output_type": "execute_result"
    }
   ],
   "source": [
    "# Linespace\n",
    "from numpy import pi\n",
    "\n",
    "# linspace(start,end, totalNum)\n",
    "np.linspace(0, 2 * pi, 100)\n"
   ]
  },
  {
   "cell_type": "code",
   "execution_count": 21,
   "metadata": {},
   "outputs": [
    {
     "data": {
      "text/plain": [
       "array([ 0.00000000e+00,  6.34239197e-02,  1.26592454e-01,  1.89251244e-01,\n",
       "        2.51147987e-01,  3.12033446e-01,  3.71662456e-01,  4.29794912e-01,\n",
       "        4.86196736e-01,  5.40640817e-01,  5.92907929e-01,  6.42787610e-01,\n",
       "        6.90079011e-01,  7.34591709e-01,  7.76146464e-01,  8.14575952e-01,\n",
       "        8.49725430e-01,  8.81453363e-01,  9.09631995e-01,  9.34147860e-01,\n",
       "        9.54902241e-01,  9.71811568e-01,  9.84807753e-01,  9.93838464e-01,\n",
       "        9.98867339e-01,  9.99874128e-01,  9.96854776e-01,  9.89821442e-01,\n",
       "        9.78802446e-01,  9.63842159e-01,  9.45000819e-01,  9.22354294e-01,\n",
       "        8.95993774e-01,  8.66025404e-01,  8.32569855e-01,  7.95761841e-01,\n",
       "        7.55749574e-01,  7.12694171e-01,  6.66769001e-01,  6.18158986e-01,\n",
       "        5.67059864e-01,  5.13677392e-01,  4.58226522e-01,  4.00930535e-01,\n",
       "        3.42020143e-01,  2.81732557e-01,  2.20310533e-01,  1.58001396e-01,\n",
       "        9.50560433e-02,  3.17279335e-02, -3.17279335e-02, -9.50560433e-02,\n",
       "       -1.58001396e-01, -2.20310533e-01, -2.81732557e-01, -3.42020143e-01,\n",
       "       -4.00930535e-01, -4.58226522e-01, -5.13677392e-01, -5.67059864e-01,\n",
       "       -6.18158986e-01, -6.66769001e-01, -7.12694171e-01, -7.55749574e-01,\n",
       "       -7.95761841e-01, -8.32569855e-01, -8.66025404e-01, -8.95993774e-01,\n",
       "       -9.22354294e-01, -9.45000819e-01, -9.63842159e-01, -9.78802446e-01,\n",
       "       -9.89821442e-01, -9.96854776e-01, -9.99874128e-01, -9.98867339e-01,\n",
       "       -9.93838464e-01, -9.84807753e-01, -9.71811568e-01, -9.54902241e-01,\n",
       "       -9.34147860e-01, -9.09631995e-01, -8.81453363e-01, -8.49725430e-01,\n",
       "       -8.14575952e-01, -7.76146464e-01, -7.34591709e-01, -6.90079011e-01,\n",
       "       -6.42787610e-01, -5.92907929e-01, -5.40640817e-01, -4.86196736e-01,\n",
       "       -4.29794912e-01, -3.71662456e-01, -3.12033446e-01, -2.51147987e-01,\n",
       "       -1.89251244e-01, -1.26592454e-01, -6.34239197e-02, -2.44929360e-16])"
      ]
     },
     "execution_count": 21,
     "metadata": {},
     "output_type": "execute_result"
    }
   ],
   "source": [
    "# sine value of angle\n",
    "np.sin(np.linspace(0, 2 * pi, 100))\n"
   ]
  },
  {
   "cell_type": "code",
   "execution_count": 22,
   "metadata": {},
   "outputs": [
    {
     "name": "stdout",
     "output_type": "stream",
     "text": [
      "[20 30 40 50]\n",
      "[0 1 2 3]\n",
      "[20 31 42 53]\n",
      "[20 29 38 47]\n",
      "[0 1 4 9]\n",
      "[ 1.          2.71828183  7.3890561  20.08553692]\n",
      "[0.         1.         1.41421356 1.73205081]\n"
     ]
    }
   ],
   "source": [
    "#Operations\n",
    "a = np.array([20, 30, 40, 50])\n",
    "b = np.arange(4)\n",
    "print(a)\n",
    "print(b)\n",
    "\n",
    "print(a + b)\n",
    "print(a - b)\n",
    "\n",
    "#square\n",
    "print(b ** 2)\n",
    "#exponential\n",
    "print(np.exp(b))\n",
    "# square root\n",
    "print(np.sqrt(b))\n"
   ]
  },
  {
   "cell_type": "code",
   "execution_count": 23,
   "metadata": {},
   "outputs": [
    {
     "name": "stdout",
     "output_type": "stream",
     "text": [
      "-------A:---------\n",
      "[[1 1]\n",
      " [0 1]]\n",
      "-------B:---------\n",
      "[[2 0]\n",
      " [3 4]]\n",
      "-------A*B:-------\n",
      "[[2 0]\n",
      " [0 4]]\n",
      "-----A.dot(B)-----\n",
      "[[5 4]\n",
      " [3 4]]\n",
      "---np.dot(A,B)----\n",
      "[[5 4]\n",
      " [3 4]]\n"
     ]
    }
   ],
   "source": [
    "# matrix production\n",
    "A = np.array([[1, 1],\n",
    "              [0, 1]])\n",
    "B = np.array([[2, 0],\n",
    "              [3, 4]])\n",
    "print('-------A:---------')\n",
    "print(A)\n",
    "print('-------B:---------')\n",
    "print(B)\n",
    "print('-------A*B:-------')  # coresponding position mutiple\n",
    "print(A * B)\n",
    "print('-----A.dot(B)-----')  # matrix mutiple\n",
    "print(A.dot(B))\n",
    "print('---np.dot(A,B)----')  # matrix mutiple\n",
    "print(np.dot(A, B))\n"
   ]
  },
  {
   "cell_type": "code",
   "execution_count": 24,
   "metadata": {},
   "outputs": [
    {
     "name": "stdout",
     "output_type": "stream",
     "text": [
      "[[2. 1. 9. 1.]\n",
      " [5. 4. 6. 1.]\n",
      " [2. 8. 3. 2.]]\n",
      "-------------------------\n",
      "[2. 1. 9. 1. 5. 4. 6. 1. 2. 8. 3. 2.]\n",
      "--------reshape----------\n",
      "[[2. 1. 9. 1. 5. 4.]\n",
      " [6. 1. 2. 8. 3. 2.]]\n",
      "--------reshape----------\n",
      "[[2. 1. 9. 1. 5. 4.]\n",
      " [6. 1. 2. 8. 3. 2.]]\n",
      "--------shape------------\n",
      "[[2. 1. 9. 1. 5. 4.]\n",
      " [6. 1. 2. 8. 3. 2.]]\n",
      "--------Transfer--------\n",
      "[[2. 6.]\n",
      " [1. 1.]\n",
      " [9. 2.]\n",
      " [1. 8.]\n",
      " [5. 3.]\n",
      " [4. 2.]]\n"
     ]
    }
   ],
   "source": [
    "# floor: keep integer\n",
    "a = np.floor(10 * np.random.random((3, 4)))\n",
    "print(a)\n",
    "print('-------------------------')\n",
    "\n",
    "# ravel a matrix to a vector\n",
    "print(a.ravel())\n",
    "\n",
    "print('--------reshape----------')\n",
    "print(a.reshape(2, 6))\n",
    "\n",
    "print('--------reshape----------')\n",
    "print(a.reshape(2, -1))  #auto cal column\n",
    "\n",
    "print('--------shape------------')\n",
    "# permanently change the shape of the matrix \n",
    "a.shape = (2, 6)\n",
    "print(a)\n",
    "\n",
    "print('--------Transfer--------')\n",
    "# transfer\n",
    "print(a.T)\n"
   ]
  },
  {
   "cell_type": "code",
   "execution_count": 25,
   "metadata": {},
   "outputs": [
    {
     "name": "stdout",
     "output_type": "stream",
     "text": [
      "[[7. 2.]\n",
      " [9. 1.]]\n",
      "[[4. 9.]\n",
      " [1. 8.]]\n",
      "-------horizontally stack----------\n",
      "[[7. 2. 4. 9.]\n",
      " [9. 1. 1. 8.]]\n",
      "---------vertical stack------------\n",
      "[[7. 2.]\n",
      " [9. 1.]\n",
      " [4. 9.]\n",
      " [1. 8.]]\n"
     ]
    }
   ],
   "source": [
    "# Combinations & Connection\n",
    "A = np.floor(10 * np.random.random((2, 2)))\n",
    "B = np.floor(10 * np.random.random((2, 2)))\n",
    "print(A)\n",
    "print(B)\n",
    "\n",
    "print('-------horizontally stack----------')\n",
    "# horizontally stack\n",
    "print(np.hstack((A, B)))\n",
    "\n",
    "print('---------vertical stack------------')\n",
    "# vertical stack\n",
    "print(np.vstack((A, B)))\n"
   ]
  },
  {
   "cell_type": "code",
   "execution_count": 26,
   "metadata": {},
   "outputs": [
    {
     "name": "stdout",
     "output_type": "stream",
     "text": [
      "[[4. 7. 2. 8. 0. 9.]\n",
      " [0. 0. 6. 9. 9. 1.]\n",
      " [8. 3. 3. 8. 4. 7.]\n",
      " [4. 5. 3. 9. 8. 6.]]\n",
      "-------average horizontally split----------\n",
      "[[4. 7.]\n",
      " [0. 0.]\n",
      " [8. 3.]\n",
      " [4. 5.]]\n",
      "\n",
      "[[2. 8.]\n",
      " [6. 9.]\n",
      " [3. 8.]\n",
      " [3. 9.]]\n",
      "\n",
      "[[0. 9.]\n",
      " [9. 1.]\n",
      " [4. 7.]\n",
      " [8. 6.]]\n",
      "\n",
      "-------certain horizontally split----------\n",
      "[[4. 7. 2.]\n",
      " [0. 0. 6.]\n",
      " [8. 3. 3.]\n",
      " [4. 5. 3.]]\n",
      "\n",
      "[[8. 0.]\n",
      " [9. 9.]\n",
      " [8. 4.]\n",
      " [9. 8.]]\n",
      "\n",
      "[[9.]\n",
      " [1.]\n",
      " [7.]\n",
      " [6.]]\n",
      "\n",
      "-------average vertical split----------\n",
      "[[4. 7. 2. 8. 0. 9.]\n",
      " [0. 0. 6. 9. 9. 1.]]\n",
      "\n",
      "[[8. 3. 3. 8. 4. 7.]\n",
      " [4. 5. 3. 9. 8. 6.]]\n",
      "\n",
      "-------certain vertical split----------\n",
      "[[4. 7. 2. 8. 0. 9.]]\n",
      "\n",
      "[[0. 0. 6. 9. 9. 1.]\n",
      " [8. 3. 3. 8. 4. 7.]]\n",
      "\n",
      "[[4. 5. 3. 9. 8. 6.]]\n",
      "\n"
     ]
    }
   ],
   "source": [
    "# Split\n",
    "C = np.floor(10 * np.random.random((4, 6)))\n",
    "print(C)\n",
    "\n",
    "print('-------average horizontally split----------')\n",
    "# horizontally split\n",
    "hs1 = np.hsplit(C, 3)  #average split into 3 parts\n",
    "for s in hs1:\n",
    "    print(s)\n",
    "    print()\n",
    "\n",
    "print('-------certain horizontally split----------')\n",
    "hs2 = np.hsplit(C, (3, 5))  #tuple is the split location\n",
    "for s in hs2:\n",
    "    print(s)\n",
    "    print()\n",
    "\n",
    "print('-------average vertical split----------')\n",
    "# vertical split\n",
    "vs1 = np.vsplit(C, 2)  #average split into 3 parts\n",
    "for v in vs1:\n",
    "    print(v)\n",
    "    print()\n",
    "\n",
    "print('-------certain vertical split----------')\n",
    "vs2 = np.vsplit(C, (1, 3))  #tuple is the split location\n",
    "for v in vs2:\n",
    "    print(v)\n",
    "    print()\n"
   ]
  },
  {
   "cell_type": "code",
   "execution_count": 34,
   "metadata": {},
   "outputs": [
    {
     "name": "stdout",
     "output_type": "stream",
     "text": [
      "b is a True\n",
      "a shape (3, 4)\n",
      "4381908384\n",
      "4381908384\n"
     ]
    }
   ],
   "source": [
    "# Soft COPY\n",
    "#Simple assignments make no copy of array objects or of their data.\n",
    "a = np.arange(12)\n",
    "b = a  #Soft copy: same value same location with differnt name\n",
    "print('b is a', b is a)\n",
    "b.shape = (3, 4)\n",
    "\n",
    "print('a shape', str(a.shape))\n",
    "print(id(a))\n",
    "print(id(b))\n"
   ]
  },
  {
   "cell_type": "code",
   "execution_count": 42,
   "metadata": {},
   "outputs": [
    {
     "name": "stdout",
     "output_type": "stream",
     "text": [
      "c is a False\n",
      "[ 0  1  2  3  4  5  6  7  8  9 10 11]\n",
      "[ 0  1  2  3  4  5  6  7  8  9 10 11]\n",
      "---reshape----\n",
      "[ 0  1  2  3  4  5  6  7  8  9 10 11]\n",
      "[[ 0  1  2  3  4  5]\n",
      " [ 6  7  8  9 10 11]]\n",
      "---change value----\n",
      "[   0    1    2    3 1234    5    6    7    8    9   10   11]\n",
      "[[   0    1    2    3 1234    5]\n",
      " [   6    7    8    9   10   11]]\n"
     ]
    }
   ],
   "source": [
    "# Shallow Copy\n",
    "#The view method creates a new array object that looks at the same data.\n",
    "a = np.arange(12)\n",
    "c = a.view()\n",
    "print('c is a', c is a)\n",
    "print(a)\n",
    "print(c)\n",
    "\n",
    "print('---reshape----')\n",
    "c.shape = (2, 6)\n",
    "print(a)\n",
    "print(c)\n",
    "\n",
    "print('---change value----')\n",
    "c[0, 4] = 1234\n",
    "print(a)\n",
    "print(c)\n"
   ]
  },
  {
   "cell_type": "code",
   "execution_count": 43,
   "metadata": {},
   "outputs": [
    {
     "name": "stdout",
     "output_type": "stream",
     "text": [
      "d is a False\n",
      "[[999   1   2   3]\n",
      " [  4   5   6   7]\n",
      " [  8   9  10  11]]\n",
      "[[ 0  1  2  3]\n",
      " [ 4  5  6  7]\n",
      " [ 8  9 10 11]]\n"
     ]
    }
   ],
   "source": [
    "# Hard Copy\n",
    "#The copy method makes a complete copy of the array and its data.\n",
    "a = np.arange(12).reshape(3, 4)\n",
    "d = a.copy()\n",
    "print('d is a', d is a)\n",
    "d[0, 0] = 999\n",
    "print(a)\n",
    "print(d)\n"
   ]
  },
  {
   "cell_type": "code",
   "execution_count": 49,
   "metadata": {},
   "outputs": [
    {
     "name": "stdout",
     "output_type": "stream",
     "text": [
      "[[ 0.          0.84147098  0.90929743  0.14112001]\n",
      " [-0.7568025  -0.95892427 -0.2794155   0.6569866 ]\n",
      " [ 0.98935825  0.41211849 -0.54402111 -0.99999021]\n",
      " [-0.53657292  0.42016704  0.99060736  0.65028784]\n",
      " [-0.28790332 -0.96139749 -0.75098725  0.14987721]]\n",
      "[2 0 3 1]\n",
      "[0.98935825 0.84147098 0.99060736 0.6569866 ]\n"
     ]
    }
   ],
   "source": [
    "# print maximum value for each column\n",
    "data = np.sin(np.arange(20)).reshape(5, 4)\n",
    "print(data)\n",
    "index = data.argmax(axis=0)  #index of the maximum value for each column\n",
    "print(index)\n",
    "\n",
    "data_max = data[index, range(data.shape[1])]  #data.shape[1] is the number of the column\n",
    "print(data_max)\n"
   ]
  },
  {
   "cell_type": "code",
   "execution_count": 59,
   "metadata": {},
   "outputs": [
    {
     "name": "stdout",
     "output_type": "stream",
     "text": [
      "[[ 0 10]\n",
      " [20 30]]\n",
      "[[ 0 10  0 10]\n",
      " [20 30 20 30]\n",
      " [ 0 10  0 10]\n",
      " [20 30 20 30]]\n",
      "(2, 2)\n",
      "(4, 4)\n"
     ]
    }
   ],
   "source": [
    "# extension，tile the origin matrix as a unit\n",
    "a = np.arange(0, 40, 10).reshape(2, -1)\n",
    "b = np.tile(a, (2, 2))\n",
    "print(a)\n",
    "print(b)\n",
    "print(a.shape)\n",
    "print(b.shape)\n"
   ]
  },
  {
   "cell_type": "code",
   "execution_count": 64,
   "metadata": {},
   "outputs": [
    {
     "name": "stdout",
     "output_type": "stream",
     "text": [
      "[[4 3 5]\n",
      " [1 2 1]]\n",
      "----------------------\n",
      "[[3 4 5]\n",
      " [1 1 2]]\n",
      "----------------------\n",
      "[[1 2 1]\n",
      " [4 3 5]]\n",
      "----------------------\n",
      "[2 3 1 0]\n",
      "[1 2 3 4]\n"
     ]
    }
   ],
   "source": [
    "# sort\n",
    "a = np.array([[4, 3, 5], [1, 2, 1]])\n",
    "print(a)\n",
    "print('----------------------')\n",
    "b = np.sort(a, axis=1)  #ranking for each row\n",
    "print(b)\n",
    "print('----------------------')\n",
    "c = np.sort(a, axis=0)  #ranking for each row\n",
    "print(c)\n",
    "print('----------------------')\n",
    "a = np.array([4, 3, 1, 2])\n",
    "d = np.argsort(a)  #the sorted index for orginal data\n",
    "print(d)\n",
    "print(a[d])\n"
   ]
  },
  {
   "cell_type": "code",
   "execution_count": null,
   "metadata": {},
   "outputs": [],
   "source": []
  }
 ],
 "metadata": {
  "kernelspec": {
   "display_name": "Python 3",
   "language": "python",
   "name": "python3"
  },
  "language_info": {
   "codemirror_mode": {
    "name": "ipython",
    "version": 3
   },
   "file_extension": ".py",
   "mimetype": "text/x-python",
   "name": "python",
   "nbconvert_exporter": "python",
   "pygments_lexer": "ipython3",
   "version": "3.6.3"
  }
 },
 "nbformat": 4,
 "nbformat_minor": 2
}
