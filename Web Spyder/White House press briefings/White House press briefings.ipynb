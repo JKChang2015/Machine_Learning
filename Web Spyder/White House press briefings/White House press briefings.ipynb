{
 "cells": [
  {
   "cell_type": "markdown",
   "metadata": {},
   "source": [
    "# White House press briefings"
   ]
  },
  {
   "cell_type": "code",
   "execution_count": 1,
   "metadata": {},
   "outputs": [],
   "source": [
    "import requests\n",
    "url = 'https://www.whitehouse.gov/briefings-statements/page/0/'\n",
    "resp = requests.get(url)"
   ]
  },
  {
   "cell_type": "markdown",
   "metadata": {},
   "source": [
    "## 1. Fetching and saving each index page"
   ]
  },
  {
   "cell_type": "code",
   "execution_count": 2,
   "metadata": {},
   "outputs": [],
   "source": [
    "with open('./index-pages/0.html','w') as wf:\n",
    "    wf.write(resp.text)"
   ]
  },
  {
   "cell_type": "code",
   "execution_count": 3,
   "metadata": {},
   "outputs": [
    {
     "name": "stdout",
     "output_type": "stream",
     "text": [
      "downloading https://www.whitehouse.gov/briefings-statements/page/0/\n",
      "Saving to 0.html\n",
      "downloading https://www.whitehouse.gov/briefings-statements/page/1/\n",
      "Saving to 1.html\n",
      "downloading https://www.whitehouse.gov/briefings-statements/page/2/\n",
      "Saving to 2.html\n",
      "downloading https://www.whitehouse.gov/briefings-statements/page/3/\n",
      "Saving to 3.html\n",
      "downloading https://www.whitehouse.gov/briefings-statements/page/4/\n",
      "Saving to 4.html\n",
      "downloading https://www.whitehouse.gov/briefings-statements/page/5/\n",
      "Saving to 5.html\n",
      "downloading https://www.whitehouse.gov/briefings-statements/page/6/\n",
      "Saving to 6.html\n",
      "downloading https://www.whitehouse.gov/briefings-statements/page/7/\n",
      "Saving to 7.html\n",
      "downloading https://www.whitehouse.gov/briefings-statements/page/8/\n",
      "Saving to 8.html\n",
      "downloading https://www.whitehouse.gov/briefings-statements/page/9/\n",
      "Saving to 9.html\n",
      "downloading https://www.whitehouse.gov/briefings-statements/page/10/\n",
      "Saving to 10.html\n",
      "downloading https://www.whitehouse.gov/briefings-statements/page/11/\n",
      "Saving to 11.html\n",
      "downloading https://www.whitehouse.gov/briefings-statements/page/12/\n",
      "Saving to 12.html\n",
      "downloading https://www.whitehouse.gov/briefings-statements/page/13/\n",
      "Saving to 13.html\n",
      "downloading https://www.whitehouse.gov/briefings-statements/page/14/\n",
      "Saving to 14.html\n",
      "downloading https://www.whitehouse.gov/briefings-statements/page/15/\n",
      "Saving to 15.html\n",
      "downloading https://www.whitehouse.gov/briefings-statements/page/16/\n",
      "Saving to 16.html\n",
      "downloading https://www.whitehouse.gov/briefings-statements/page/17/\n",
      "Saving to 17.html\n",
      "downloading https://www.whitehouse.gov/briefings-statements/page/18/\n",
      "Saving to 18.html\n",
      "downloading https://www.whitehouse.gov/briefings-statements/page/19/\n",
      "Saving to 19.html\n",
      "downloading https://www.whitehouse.gov/briefings-statements/page/20/\n",
      "Saving to 20.html\n",
      "downloading https://www.whitehouse.gov/briefings-statements/page/21/\n",
      "Saving to 21.html\n",
      "downloading https://www.whitehouse.gov/briefings-statements/page/22/\n",
      "Saving to 22.html\n",
      "downloading https://www.whitehouse.gov/briefings-statements/page/23/\n",
      "Saving to 23.html\n",
      "downloading https://www.whitehouse.gov/briefings-statements/page/24/\n",
      "Saving to 24.html\n",
      "downloading https://www.whitehouse.gov/briefings-statements/page/25/\n",
      "Saving to 25.html\n",
      "downloading https://www.whitehouse.gov/briefings-statements/page/26/\n",
      "Saving to 26.html\n",
      "downloading https://www.whitehouse.gov/briefings-statements/page/27/\n",
      "Saving to 27.html\n",
      "downloading https://www.whitehouse.gov/briefings-statements/page/28/\n",
      "Saving to 28.html\n",
      "downloading https://www.whitehouse.gov/briefings-statements/page/29/\n",
      "Saving to 29.html\n",
      "downloading https://www.whitehouse.gov/briefings-statements/page/30/\n",
      "Saving to 30.html\n",
      "downloading https://www.whitehouse.gov/briefings-statements/page/31/\n",
      "Saving to 31.html\n",
      "downloading https://www.whitehouse.gov/briefings-statements/page/32/\n",
      "Saving to 32.html\n",
      "downloading https://www.whitehouse.gov/briefings-statements/page/33/\n",
      "Saving to 33.html\n",
      "downloading https://www.whitehouse.gov/briefings-statements/page/34/\n",
      "Saving to 34.html\n",
      "downloading https://www.whitehouse.gov/briefings-statements/page/35/\n",
      "Saving to 35.html\n",
      "downloading https://www.whitehouse.gov/briefings-statements/page/36/\n",
      "Saving to 36.html\n",
      "downloading https://www.whitehouse.gov/briefings-statements/page/37/\n",
      "Saving to 37.html\n",
      "downloading https://www.whitehouse.gov/briefings-statements/page/38/\n",
      "Saving to 38.html\n",
      "downloading https://www.whitehouse.gov/briefings-statements/page/39/\n",
      "Saving to 39.html\n",
      "downloading https://www.whitehouse.gov/briefings-statements/page/40/\n",
      "Saving to 40.html\n",
      "downloading https://www.whitehouse.gov/briefings-statements/page/41/\n",
      "Saving to 41.html\n",
      "downloading https://www.whitehouse.gov/briefings-statements/page/42/\n",
      "Saving to 42.html\n",
      "downloading https://www.whitehouse.gov/briefings-statements/page/43/\n",
      "Saving to 43.html\n",
      "downloading https://www.whitehouse.gov/briefings-statements/page/44/\n",
      "Saving to 44.html\n",
      "downloading https://www.whitehouse.gov/briefings-statements/page/45/\n",
      "Saving to 45.html\n",
      "downloading https://www.whitehouse.gov/briefings-statements/page/46/\n",
      "Saving to 46.html\n",
      "downloading https://www.whitehouse.gov/briefings-statements/page/47/\n",
      "Saving to 47.html\n",
      "downloading https://www.whitehouse.gov/briefings-statements/page/48/\n",
      "Saving to 48.html\n",
      "downloading https://www.whitehouse.gov/briefings-statements/page/49/\n",
      "Saving to 49.html\n"
     ]
    }
   ],
   "source": [
    "import requests\n",
    "from os import makedirs\n",
    "INDEX_PAGES_DIR = 'index-pages'\n",
    "makedirs(INDEX_PAGES_DIR, exist_ok=True)\n",
    "\n",
    "THE_URL = 'https://www.whitehouse.gov/briefings-statements/page/'\n",
    "MAX_PAGE_NUM = 50\n",
    "\n",
    "for pagenum in range(MAX_PAGE_NUM):\n",
    "    url = THE_URL + str(pagenum)+'/'\n",
    "    print('downloading', url)\n",
    "    resp = requests.get(url)\n",
    "    \n",
    "    fname = str(pagenum) + '.html'\n",
    "    print('Saving to',fname)\n",
    "    with open('index-pages/'+fname,'w') as wf:\n",
    "        wf.write(resp.text)"
   ]
  },
  {
   "cell_type": "markdown",
   "metadata": {},
   "source": [
    "#### Join function"
   ]
  },
  {
   "cell_type": "code",
   "execution_count": 4,
   "metadata": {},
   "outputs": [
    {
     "data": {
      "text/plain": [
       "'this/is/a/really/nested/file.txt'"
      ]
     },
     "execution_count": 4,
     "metadata": {},
     "output_type": "execute_result"
    }
   ],
   "source": [
    "from os.path import join\n",
    "join('index-pages', '42.html')\n",
    "# 'index-pages/42.html'\n",
    "join(\"this\", \"is\", \"a\", \"really\", \"nested\", \"file.txt\")"
   ]
  },
  {
   "cell_type": "code",
   "execution_count": 5,
   "metadata": {},
   "outputs": [
    {
     "name": "stdout",
     "output_type": "stream",
     "text": [
      "downloading https://www.whitehouse.gov/briefings-statements/page/0/\n",
      "index-pages/0.html\n",
      "Saving to index-pages/0.html\n",
      "downloading https://www.whitehouse.gov/briefings-statements/page/1/\n",
      "index-pages/1.html\n",
      "Saving to index-pages/1.html\n",
      "downloading https://www.whitehouse.gov/briefings-statements/page/2/\n",
      "index-pages/2.html\n",
      "Saving to index-pages/2.html\n",
      "downloading https://www.whitehouse.gov/briefings-statements/page/3/\n",
      "index-pages/3.html\n",
      "Saving to index-pages/3.html\n",
      "downloading https://www.whitehouse.gov/briefings-statements/page/4/\n",
      "index-pages/4.html\n",
      "Saving to index-pages/4.html\n"
     ]
    }
   ],
   "source": [
    "import requests\n",
    "from os import makedirs\n",
    "\n",
    "INDEX_PAGES_DIR = 'index-pages'\n",
    "makedirs(INDEX_PAGES_DIR, exist_ok=True)\n",
    "\n",
    "THE_URL = 'https://www.whitehouse.gov/briefings-statements/page/{}/'\n",
    "MAX_PAGE_NUM = 5\n",
    "\n",
    "for pagenum in range(MAX_PAGE_NUM):\n",
    "    url = THE_URL.format(pagenum) \n",
    "    print('downloading', url)\n",
    "    resp = requests.get(url)\n",
    "    \n",
    "    fname = join(INDEX_PAGES_DIR,'{}.html'.format(pagenum))\n",
    "    print(fname)\n",
    "    print('Saving to',fname)\n",
    "    with open(fname,'w') as wf:\n",
    "        wf.write(resp.text)"
   ]
  },
  {
   "cell_type": "code",
   "execution_count": 6,
   "metadata": {},
   "outputs": [
    {
     "data": {
      "text/plain": [
       "'https://www.whitehouse.gov/briefings-statements/page/123/'"
      ]
     },
     "execution_count": 6,
     "metadata": {},
     "output_type": "execute_result"
    }
   ],
   "source": [
    "THE_URL = 'https://www.whitehouse.gov/briefings-statements/page/{}/'\n",
    "a= '123'\n",
    "\n",
    "THE_URL.format(a)"
   ]
  },
  {
   "cell_type": "markdown",
   "metadata": {},
   "source": [
    "### Format example"
   ]
  },
  {
   "cell_type": "code",
   "execution_count": 7,
   "metadata": {},
   "outputs": [
    {
     "name": "stdout",
     "output_type": "stream",
     "text": [
      "https://maps.googleapis.com/maps/api/streetview?size=400x400&location=New_York&heading=0\n"
     ]
    }
   ],
   "source": [
    "URL_ENDPOINT = 'https://maps.googleapis.com/maps/api/streetview'\n",
    "QUERY_STRING = 'size={size}&location={location}&heading={heading}'\n",
    "\n",
    "q_str = QUERY_STRING.format(size='400x400', location='New_York', heading=0)\n",
    "url = URL_ENDPOINT + '?' + q_str\n",
    "print(url)"
   ]
  },
  {
   "cell_type": "code",
   "execution_count": 8,
   "metadata": {},
   "outputs": [
    {
     "name": "stdout",
     "output_type": "stream",
     "text": [
      "https://maps.googleapis.com/maps/api/streetview?size=400x400location=Chicago&heading=\n"
     ]
    }
   ],
   "source": [
    "URL_ENDPOINT = 'https://maps.googleapis.com/maps/api/streetview'\n",
    "QUERY_STRING = 'size={size}location={location}&heading={heading}'\n",
    "q_str = QUERY_STRING.format(size='400x400', location='Chicago', heading=\"\")\n",
    "url = URL_ENDPOINT + '?' + q_str\n",
    "print(url)"
   ]
  },
  {
   "cell_type": "code",
   "execution_count": 9,
   "metadata": {},
   "outputs": [
    {
     "name": "stdout",
     "output_type": "stream",
     "text": [
      "https://maps.googleapis.com/maps/api/streetview?size=600x300&location=Stanford%2C+CA\n"
     ]
    }
   ],
   "source": [
    "import requests\n",
    "URL_ENDPOINT = 'https://maps.googleapis.com/maps/api/streetview'\n",
    "resp = requests.get(URL_ENDPOINT, params={'size': '600x300', 'location': 'Stanford, CA'})\n",
    "print(resp.url)"
   ]
  },
  {
   "cell_type": "markdown",
   "metadata": {},
   "source": [
    "### request.get() with parameters"
   ]
  },
  {
   "cell_type": "code",
   "execution_count": 10,
   "metadata": {},
   "outputs": [
    {
     "name": "stdout",
     "output_type": "stream",
     "text": [
      "http://httpbin.org/get?key1=value1&key2=value2\n"
     ]
    }
   ],
   "source": [
    "payload = {'key1': 'value1', 'key2': 'value2'}\n",
    "r = requests.get('http://httpbin.org/get', params=payload)\n",
    "print(r.url)"
   ]
  },
  {
   "cell_type": "markdown",
   "metadata": {},
   "source": [
    "## 2. Converting HTML text into a data object"
   ]
  },
  {
   "cell_type": "code",
   "execution_count": 11,
   "metadata": {},
   "outputs": [
    {
     "data": {
      "text/plain": [
       "'Hello World'"
      ]
     },
     "execution_count": 11,
     "metadata": {},
     "output_type": "execute_result"
    }
   ],
   "source": [
    "from bs4 import BeautifulSoup\n",
    "htmltxt = '<p>Hello World</p>'\n",
    "# name of parser = lxml\n",
    "soup = BeautifulSoup(htmltxt,'lxml')\n",
    "soup.text"
   ]
  },
  {
   "cell_type": "markdown",
   "metadata": {},
   "source": [
    "Basically, the BeautifulSoup's text attribute will return a string stripped of any HTML tags and metadata."
   ]
  },
  {
   "cell_type": "code",
   "execution_count": 12,
   "metadata": {},
   "outputs": [
    {
     "data": {
      "text/plain": [
       "'HelloWorld'"
      ]
     },
     "execution_count": 12,
     "metadata": {},
     "output_type": "execute_result"
    }
   ],
   "source": [
    "# header\n",
    "soup = BeautifulSoup(\"\"\"<h1>Hello</h1><p>World</p>\"\"\", 'lxml')\n",
    "soup.text"
   ]
  },
  {
   "cell_type": "code",
   "execution_count": 13,
   "metadata": {},
   "outputs": [
    {
     "data": {
      "text/plain": [
       "'Hello World\\nThis is a link'"
      ]
     },
     "execution_count": 13,
     "metadata": {},
     "output_type": "execute_result"
    }
   ],
   "source": [
    "# hyper link\n",
    "mytxt = \"\"\"\n",
    "<h1>Hello World</h1>\n",
    "<p>This is a <a href=\"http://example.com\">link</a></p>\"\"\"\n",
    "\n",
    "soup = BeautifulSoup(mytxt,'lxml')\n",
    "soup.text"
   ]
  },
  {
   "cell_type": "markdown",
   "metadata": {},
   "source": [
    "#### Basically, the BeautifulSoup's text attribute will return a string stripped of any HTML tags and metadata."
   ]
  },
  {
   "cell_type": "markdown",
   "metadata": {},
   "source": [
    "### 利用find() 抓去tag"
   ]
  },
  {
   "cell_type": "code",
   "execution_count": 14,
   "metadata": {},
   "outputs": [
    {
     "name": "stdout",
     "output_type": "stream",
     "text": [
      "<h1>Hello World</h1>\n",
      "<p>This is a <a href=\"http://example.com\">link</a></p>\n",
      "<a href=\"http://example.com\">link</a>\n"
     ]
    }
   ],
   "source": [
    "mytxt = \"\"\"\n",
    "<h1>Hello World</h1>\n",
    "<p>This is a <a href=\"http://example.com\">link</a></p>\"\"\"\n",
    "soup = BeautifulSoup(mytxt,'lxml')\n",
    "print(soup.find('h1'))\n",
    "print(soup.find('p'))\n",
    "print(soup.find('a'))"
   ]
  },
  {
   "cell_type": "code",
   "execution_count": 15,
   "metadata": {},
   "outputs": [
    {
     "data": {
      "text/plain": [
       "bs4.element.Tag"
      ]
     },
     "execution_count": 15,
     "metadata": {},
     "output_type": "execute_result"
    }
   ],
   "source": [
    "type(soup.find('a'))"
   ]
  },
  {
   "cell_type": "code",
   "execution_count": 16,
   "metadata": {},
   "outputs": [
    {
     "data": {
      "text/plain": [
       "'Hello World'"
      ]
     },
     "execution_count": 16,
     "metadata": {},
     "output_type": "execute_result"
    }
   ],
   "source": [
    "soup.find('h1').text"
   ]
  },
  {
   "cell_type": "markdown",
   "metadata": {},
   "source": [
    "### 通过tag抓取特性(attribute)，特性一般用=链接"
   ]
  },
  {
   "cell_type": "code",
   "execution_count": 17,
   "metadata": {},
   "outputs": [],
   "source": [
    "from bs4 import BeautifulSoup\n",
    "mytxt = \"\"\"\n",
    "<h1>Hello World</h1>\n",
    "<p>This is a <a href=\"http://example.com\">link</a></p>\n",
    "\"\"\"\n",
    "\n",
    "soup = BeautifulSoup(mytxt,'lxml')\n",
    "mylink = soup.find('a')"
   ]
  },
  {
   "cell_type": "code",
   "execution_count": 18,
   "metadata": {},
   "outputs": [
    {
     "name": "stdout",
     "output_type": "stream",
     "text": [
      "<class 'bs4.element.Tag'>\n",
      "<class 'dict'>\n",
      "{'href': 'http://example.com'}\n"
     ]
    },
    {
     "data": {
      "text/plain": [
       "'http://example.com'"
      ]
     },
     "execution_count": 18,
     "metadata": {},
     "output_type": "execute_result"
    }
   ],
   "source": [
    "print(type(mylink))\n",
    "print(type(mylink.attrs))\n",
    "# href=\"http://example.com\"\n",
    "# {'href': 'http://example.com'}\n",
    "print(mylink.attrs)\n",
    "mylink.attrs['href']"
   ]
  },
  {
   "cell_type": "markdown",
   "metadata": {},
   "source": [
    "### Finding multiple elements with find_all 查找所有tags"
   ]
  },
  {
   "cell_type": "code",
   "execution_count": 19,
   "metadata": {},
   "outputs": [
    {
     "data": {
      "text/plain": [
       "[<a href=\"http://www.nytimes.com\">New York Times</a>,\n",
       " <a href=\"http://www.wsj.com\">Wall Street Journal</a>]"
      ]
     },
     "execution_count": 19,
     "metadata": {},
     "output_type": "execute_result"
    }
   ],
   "source": [
    "from bs4 import BeautifulSoup\n",
    "moretxt = \"\"\"\n",
    "<p>Visit the <a href='http://www.nytimes.com'>New York Times</a></p>\n",
    "<p>Visit the <a href='http://www.wsj.com'>Wall Street Journal</a></p>\n",
    "\"\"\"\n",
    "soup = BeautifulSoup(moretxt,'lxml')\n",
    "tags = soup.find_all('a')\n",
    "tags"
   ]
  },
  {
   "cell_type": "code",
   "execution_count": 20,
   "metadata": {},
   "outputs": [
    {
     "name": "stdout",
     "output_type": "stream",
     "text": [
      "2\n",
      "New York Times\n",
      "http://www.nytimes.com\n",
      "New York Times http://www.nytimes.com\n",
      "Wall Street Journal http://www.wsj.com\n"
     ]
    }
   ],
   "source": [
    "print(len(tags))\n",
    "print(tags[0].text)\n",
    "print(tags[0].attrs['href'])\n",
    "\n",
    "for t in tags:\n",
    "    print(t.text,t.attrs['href'])"
   ]
  },
  {
   "cell_type": "markdown",
   "metadata": {},
   "source": [
    "However, be careful not to treat the ResultSet as if it were a Tag – try to understand why the following doesn't make much sense (nevermind results in an error):\n",
    "\n",
    "`tags.attrs['href']`\n",
    "\n",
    "AttributeError: 'ResultSet' object has no attribute 'attrs'"
   ]
  },
  {
   "cell_type": "code",
   "execution_count": 21,
   "metadata": {},
   "outputs": [
    {
     "name": "stdout",
     "output_type": "stream",
     "text": [
      "[<a href=\"http://www.nytimes.com\">New York Times</a>, <a href=\"http://www.wsj.com\">Wall Street Journal</a>]\n"
     ]
    },
    {
     "data": {
      "text/plain": [
       "[<a href=\"http://www.nytimes.com\">New York Times</a>,\n",
       " <a href=\"http://www.wsj.com\">Wall Street Journal</a>]"
      ]
     },
     "execution_count": 21,
     "metadata": {},
     "output_type": "execute_result"
    }
   ],
   "source": [
    "print(tags)\n",
    "hrefs = []\n",
    "for t in tags:\n",
    "    hrefs.append(t)\n",
    "hrefs"
   ]
  },
  {
   "cell_type": "markdown",
   "metadata": {},
   "source": [
    "### Finding nested elements 查找嵌套"
   ]
  },
  {
   "cell_type": "code",
   "execution_count": 22,
   "metadata": {},
   "outputs": [],
   "source": [
    "evenmoretxt = \"\"\"\n",
    "<h1><a href=\"http://www.a.com\">Awesome</a></h1>\n",
    "<h1><a href=\"http://www.b.com\">Really Awesome</a></h1>\n",
    "\n",
    "<div><a href=\"http://na.com\">Ignore me</a></div>\n",
    "<div><a href=\"http://127.0.0.1\">Ignore me again</a></div>\n",
    "\"\"\"\n",
    "\n",
    "soup = BeautifulSoup(evenmoretxt, 'lxml')"
   ]
  },
  {
   "cell_type": "code",
   "execution_count": 23,
   "metadata": {},
   "outputs": [],
   "source": [
    "# collect all the <h1> tags using find_all()\n",
    "heds = soup.find_all('h1')"
   ]
  },
  {
   "cell_type": "code",
   "execution_count": 24,
   "metadata": {},
   "outputs": [
    {
     "data": {
      "text/plain": [
       "[<a href=\"http://www.a.com\">Awesome</a>,\n",
       " <a href=\"http://www.b.com\">Really Awesome</a>]"
      ]
     },
     "execution_count": 24,
     "metadata": {},
     "output_type": "execute_result"
    }
   ],
   "source": [
    "links = []\n",
    "for h in heds:\n",
    "    links.append(h.find('a'))\n",
    "links"
   ]
  },
  {
   "cell_type": "markdown",
   "metadata": {},
   "source": [
    "## Example"
   ]
  },
  {
   "cell_type": "code",
   "execution_count": 25,
   "metadata": {},
   "outputs": [],
   "source": [
    "import requests\n",
    "\n",
    "resp = requests.get('http://www.example.com')\n",
    "txt = resp.text"
   ]
  },
  {
   "cell_type": "code",
   "execution_count": 26,
   "metadata": {},
   "outputs": [],
   "source": [
    "from bs4 import BeautifulSoup\n",
    "soup = BeautifulSoup(txt, 'lxml')"
   ]
  },
  {
   "cell_type": "code",
   "execution_count": 27,
   "metadata": {},
   "outputs": [
    {
     "name": "stdout",
     "output_type": "stream",
     "text": [
      "2\n",
      "--------------------\n",
      "This domain is established to be used for illustrative examples in documents. You may use this\n",
      "    domain in examples without prior coordination or asking for permission.\n",
      "--------------------\n",
      "1\n",
      "--------------------\n",
      "More information...\n",
      "http://www.iana.org/domains/example\n"
     ]
    }
   ],
   "source": [
    "print(len(soup.find_all('p')))\n",
    "print('-' * 20)\n",
    "print(soup.find_all('p')[0].text)\n",
    "print('-' * 20)\n",
    "print(len(soup.find_all('h1')))\n",
    "print('-' * 20)\n",
    "print(soup.find_all('a')[0].text)\n",
    "print(soup.find('a').attrs['href'])"
   ]
  },
  {
   "cell_type": "markdown",
   "metadata": {},
   "source": [
    "{{\n",
    "<article class=\"briefing-statement briefing-statement--results\">\n",
    "\t<div class=\"briefing-statement__content\">\n",
    "\t\t\t\t\t<p class=\"briefing-statement__type\">Press Briefings</p>\n",
    "\t\t\n",
    "\t\t<h2 class=\"briefing-statement__title\"><a href=\"https://www.whitehouse.gov/briefings-statements/press-briefing-press-secretary-sarah-sanders-050918/\">\n",
    "                                                    Press Briefing by Press Secretary Sarah Sanders</a></h2>\n",
    "\t\t<div class=\"meta meta--left\">\n",
    "\t\t\t\t\t\t<p class=\"meta__date\">\n",
    "\t\t\t\t<time>May 9, 2018</time>\n",
    "\t\t\t</p>\n",
    "\t\t</div>\n",
    "\t</div>\n",
    "</article>\n",
    "}}"
   ]
  },
  {
   "cell_type": "code",
   "execution_count": 28,
   "metadata": {},
   "outputs": [],
   "source": [
    "import requests\n",
    "from bs4 import BeautifulSoup\n",
    "\n",
    "url = 'https://www.whitehouse.gov/briefings-statements/page/0/'\n",
    "resp = requests.get(url)\n",
    "soup = BeautifulSoup(resp.text,'lxml')"
   ]
  },
  {
   "cell_type": "code",
   "execution_count": 29,
   "metadata": {},
   "outputs": [
    {
     "data": {
      "text/plain": [
       "68"
      ]
     },
     "execution_count": 29,
     "metadata": {},
     "output_type": "execute_result"
    }
   ],
   "source": [
    "len(soup.find_all('a'))"
   ]
  },
  {
   "cell_type": "code",
   "execution_count": 30,
   "metadata": {},
   "outputs": [
    {
     "data": {
      "text/plain": [
       "10"
      ]
     },
     "execution_count": 30,
     "metadata": {},
     "output_type": "execute_result"
    }
   ],
   "source": [
    "len(soup.find_all('h2'))"
   ]
  },
  {
   "cell_type": "code",
   "execution_count": 31,
   "metadata": {},
   "outputs": [
    {
     "data": {
      "text/plain": [
       "['https://www.whitehouse.gov/briefings-statements/statement-regarding-summit-united-states-north-korea/',\n",
       " 'https://www.whitehouse.gov/briefings-statements/readout-president-donald-j-trumps-meeting-prime-minister-lee-hsien-loong-singapore/',\n",
       " 'https://www.whitehouse.gov/briefings-statements/statement-first-lady-melania-trumps-visit-fords-theatre/',\n",
       " 'https://www.whitehouse.gov/briefings-statements/president-donald-j-trump-approves-new-jersey-disaster-declaration/',\n",
       " 'https://www.whitehouse.gov/briefings-statements/press-conference-president-trump-g7-summit/',\n",
       " 'https://www.whitehouse.gov/briefings-statements/president-donald-j-trump-approves-new-hampshire-disaster-declaration-5/',\n",
       " 'https://www.whitehouse.gov/briefings-statements/president-donald-j-trump-approves-alaska-disaster-declaration-2/',\n",
       " 'https://www.whitehouse.gov/briefings-statements/president-donald-j-trump-approves-new-hampshire-disaster-declaration-4/',\n",
       " 'https://www.whitehouse.gov/briefings-statements/remarks-president-trump-prime-minister-trudeau-canada-bilateral-meeting/',\n",
       " 'https://www.whitehouse.gov/briefings-statements/remarks-president-trump-president-macron-france-bilateral-meeting-2/']"
      ]
     },
     "execution_count": 31,
     "metadata": {},
     "output_type": "execute_result"
    }
   ],
   "source": [
    "urls = []\n",
    "for h in soup.find_all('h2'):\n",
    "    urls.append(h.find('a').attrs['href'])\n",
    "urls"
   ]
  },
  {
   "cell_type": "code",
   "execution_count": 32,
   "metadata": {},
   "outputs": [
    {
     "data": {
      "text/plain": [
       "['https://www.whitehouse.gov/briefings-statements/statement-regarding-summit-united-states-north-korea/',\n",
       " 'https://www.whitehouse.gov/briefings-statements/readout-president-donald-j-trumps-meeting-prime-minister-lee-hsien-loong-singapore/',\n",
       " 'https://www.whitehouse.gov/briefings-statements/statement-first-lady-melania-trumps-visit-fords-theatre/',\n",
       " 'https://www.whitehouse.gov/briefings-statements/president-donald-j-trump-approves-new-jersey-disaster-declaration/',\n",
       " 'https://www.whitehouse.gov/briefings-statements/press-conference-president-trump-g7-summit/',\n",
       " 'https://www.whitehouse.gov/briefings-statements/president-donald-j-trump-approves-new-hampshire-disaster-declaration-5/',\n",
       " 'https://www.whitehouse.gov/briefings-statements/president-donald-j-trump-approves-alaska-disaster-declaration-2/',\n",
       " 'https://www.whitehouse.gov/briefings-statements/president-donald-j-trump-approves-new-hampshire-disaster-declaration-4/',\n",
       " 'https://www.whitehouse.gov/briefings-statements/remarks-president-trump-prime-minister-trudeau-canada-bilateral-meeting/',\n",
       " 'https://www.whitehouse.gov/briefings-statements/remarks-president-trump-president-macron-france-bilateral-meeting-2/']"
      ]
     },
     "execution_count": 32,
     "metadata": {},
     "output_type": "execute_result"
    }
   ],
   "source": [
    "import requests\n",
    "from bs4 import BeautifulSoup\n",
    "\n",
    "url = 'https://www.whitehouse.gov/briefings-statements/page/0/'\n",
    "resp = requests.get(url)\n",
    "soup = BeautifulSoup(resp.text, 'lxml')\n",
    "\n",
    "links = []\n",
    "for h in soup.find_all('h2'):\n",
    "    links.append(h.find('a').attrs['href'])\n",
    "links"
   ]
  },
  {
   "cell_type": "code",
   "execution_count": 33,
   "metadata": {},
   "outputs": [
    {
     "name": "stdout",
     "output_type": "stream",
     "text": [
      "https://www.whitehouse.gov/briefings-statements/statement-press-secretary-israels-announcement-related-iranian-nuclear-weapons-development/\n",
      "https://www.whitehouse.gov/briefings-statements/remarks-vice-president-pence-u-s-department-homeland-security-u-s-customs-border-protection-employees-imperial-ca/\n",
      "https://www.whitehouse.gov/briefings-statements/remarks-president-trump-president-buhari-federal-republic-nigeria-joint-press-conference/\n",
      "https://www.whitehouse.gov/briefings-statements/statement-press-secretary-regarding-united-states-delegation-china/\n",
      "https://www.whitehouse.gov/briefings-statements/readout-president-donald-j-trumps-call-president-emmanuel-macron-france-17/\n",
      "https://www.whitehouse.gov/briefings-statements/remarks-president-trump-president-buhari-federal-republic-nigeria-bilateral-meeting/\n",
      "https://www.whitehouse.gov/briefings-statements/president-donald-j-trump-recognizes-importance-small-businesses-2018-small-business-week/\n",
      "https://www.whitehouse.gov/briefings-statements/readout-president-donald-j-trumps-call-prime-minister-benjamin-netanyahu-israel-2/\n",
      "https://www.whitehouse.gov/briefings-statements/readout-president-donald-j-trumps-call-president-moon-jae-republic-korea-8/\n",
      "https://www.whitehouse.gov/briefings-statements/readout-president-donald-j-trumps-call-prime-minister-shinzo-abe-japan-8/\n"
     ]
    }
   ],
   "source": [
    "import os\n",
    "from bs4 import BeautifulSoup\n",
    "\n",
    "INDEX_PAGES_DIR = 'index-pages'\n",
    "\n",
    "some_filename = os.path.join(INDEX_PAGES_DIR,'30.html')\n",
    "with open(some_filename,'r') as rf:\n",
    "    txt = rf.read()\n",
    "\n",
    "soup = BeautifulSoup(txt,'lxml')\n",
    "\n",
    "for h in soup.find_all('h2'):\n",
    "    a = h.find('a')\n",
    "    print(a.attrs['href'])"
   ]
  },
  {
   "cell_type": "markdown",
   "metadata": {},
   "source": [
    "### Using urllib.parse.urljoin()"
   ]
  },
  {
   "cell_type": "code",
   "execution_count": 34,
   "metadata": {},
   "outputs": [
    {
     "data": {
      "text/plain": [
       "'https://www.whitehouse.gov/briefings-statements/president-donald-j-trump-fulfilling-promise-u-s-korea-free-trade-agreement-national-security/'"
      ]
     },
     "execution_count": 34,
     "metadata": {},
     "output_type": "execute_result"
    }
   ],
   "source": [
    "from urllib.parse import urljoin\n",
    "BASE_URL = 'https://www.whitehouse.gov/'\n",
    "url = urljoin(BASE_URL, '/briefings-statements/president-donald-j-trump-fulfilling-promise-u-s-korea-free-trade-agreement-national-security/')\n",
    "url"
   ]
  },
  {
   "cell_type": "code",
   "execution_count": 35,
   "metadata": {},
   "outputs": [
    {
     "data": {
      "text/plain": [
       "'http://www.example.com/helpme'"
      ]
     },
     "execution_count": 35,
     "metadata": {},
     "output_type": "execute_result"
    }
   ],
   "source": [
    "from urllib.parse import urljoin\n",
    "URL_A = 'http://www.example.com'\n",
    "URL_B = 'http://www.example.com/some/fun/page.html'\n",
    "\n",
    "urljoin(URL_A, '/helpme')\n",
    "# http://www.example.com/helpme\n",
    "urljoin(URL_B, '/helpme')\n",
    "# http://www.example.com/helpme"
   ]
  },
  {
   "cell_type": "markdown",
   "metadata": {},
   "source": [
    "### Extracting and resolving absolute URLs"
   ]
  },
  {
   "cell_type": "code",
   "execution_count": 36,
   "metadata": {},
   "outputs": [
    {
     "name": "stdout",
     "output_type": "stream",
     "text": [
      "https://www.whitehouse.gov/briefings-statements/readout-president-donald-j-trumps-call-prime-minister-shinzo-abe-japan-8/\n",
      "https://www.whitehouse.gov/briefings-statements/readout-president-donald-j-trumps-call-prime-minister-shinzo-abe-japan-8/\n",
      "https://www.whitehouse.gov/briefings-statements/readout-president-donald-j-trumps-call-prime-minister-shinzo-abe-japan-8/\n",
      "https://www.whitehouse.gov/briefings-statements/readout-president-donald-j-trumps-call-prime-minister-shinzo-abe-japan-8/\n",
      "https://www.whitehouse.gov/briefings-statements/readout-president-donald-j-trumps-call-prime-minister-shinzo-abe-japan-8/\n",
      "https://www.whitehouse.gov/briefings-statements/readout-president-donald-j-trumps-call-prime-minister-shinzo-abe-japan-8/\n",
      "https://www.whitehouse.gov/briefings-statements/readout-president-donald-j-trumps-call-prime-minister-shinzo-abe-japan-8/\n",
      "https://www.whitehouse.gov/briefings-statements/readout-president-donald-j-trumps-call-prime-minister-shinzo-abe-japan-8/\n",
      "https://www.whitehouse.gov/briefings-statements/readout-president-donald-j-trumps-call-prime-minister-shinzo-abe-japan-8/\n",
      "https://www.whitehouse.gov/briefings-statements/readout-president-donald-j-trumps-call-prime-minister-shinzo-abe-japan-8/\n"
     ]
    }
   ],
   "source": [
    "from bs4 import BeautifulSoup\n",
    "from os.path import join\n",
    "from urllib.parse import urljoin\n",
    "WH_BASE_URL = 'https://www.whitehouse.gov/briefings-statements/'\n",
    "INDEX_PAGES_DIR = 'index-pages'\n",
    "\n",
    "some_filename = join(INDEX_PAGES_DIR,'30.html')\n",
    "with open(some_filename,'r') as rf:\n",
    "    txt = rf.read()\n",
    "    \n",
    "soup = BeautifulSoup(txt,'lxml')\n",
    "\n",
    "for h in soup.find_all('h2'):\n",
    "    url = urljoin(WH_BASE_URL,a.attrs['href'])\n",
    "    print(url)\n"
   ]
  },
  {
   "cell_type": "markdown",
   "metadata": {},
   "source": [
    "### Use glob() to get a list of files"
   ]
  },
  {
   "cell_type": "code",
   "execution_count": 37,
   "metadata": {},
   "outputs": [
    {
     "name": "stdout",
     "output_type": "stream",
     "text": [
      "50\n"
     ]
    },
    {
     "data": {
      "text/plain": [
       "'index-pages/4.html'"
      ]
     },
     "execution_count": 37,
     "metadata": {},
     "output_type": "execute_result"
    }
   ],
   "source": [
    "from glob import glob\n",
    "from os.path import join\n",
    "\n",
    "INDEX_PAGES_DIR = 'index-pages'\n",
    "gp = join(INDEX_PAGES_DIR,'*.html')\n",
    "index_pages_filenames = glob(gp)\n",
    "print(len(index_pages_filenames))\n",
    "index_pages_filenames[10]"
   ]
  },
  {
   "cell_type": "code",
   "execution_count": 38,
   "metadata": {},
   "outputs": [],
   "source": [
    "# ---->\n",
    "from glob import glob\n",
    "from os.path import join\n",
    "INDEX_PAGES_DIR = 'index-pages'\n",
    "index_pages_filenames = glob(join(INDEX_PAGES_DIR,'*.html'))"
   ]
  },
  {
   "cell_type": "markdown",
   "metadata": {},
   "source": [
    "## ALL together"
   ]
  },
  {
   "cell_type": "code",
   "execution_count": 39,
   "metadata": {},
   "outputs": [
    {
     "data": {
      "text/plain": [
       "['https://www.whitehouse.gov/briefings-statements/presidential-message-congress-united-states-7/',\n",
       " 'https://www.whitehouse.gov/briefings-statements/notice-regarding-continuation-national-emergency-respect-actions-government-syria-2/',\n",
       " 'https://www.whitehouse.gov/briefings-statements/statement-vice-president-mike-pence-release-three-americans/',\n",
       " 'https://www.whitehouse.gov/briefings-statements/statement-press-secretary-release-three-americans/',\n",
       " 'https://www.whitehouse.gov/briefings-statements/readout-president-donald-j-trumps-call-president-emmanuel-macron-france-18/',\n",
       " 'https://www.whitehouse.gov/briefings-statements/gina-haspel-defended-national-security/',\n",
       " 'https://www.whitehouse.gov/briefings-statements/press-briefing-national-security-advisor-john-bolton-iran/',\n",
       " 'https://www.whitehouse.gov/briefings-statements/remarks-first-lady-melania-trump-todays-spouses-senate-luncheon/',\n",
       " 'https://www.whitehouse.gov/briefings-statements/presidential-message-congress-united-states-6/',\n",
       " 'https://www.whitehouse.gov/briefings-statements/presidential-message-congress-united-states-5/',\n",
       " 'https://www.whitehouse.gov/briefings-statements/press-briefing-press-secretary-sarah-sanders-042318/',\n",
       " 'https://www.whitehouse.gov/briefings-statements/secretary-carson-unlocking-americas-full-potential/',\n",
       " 'https://www.whitehouse.gov/briefings-statements/remarks-cea-chairman-kevin-hassett-new-york-federal-reserve-bank/',\n",
       " 'https://www.whitehouse.gov/briefings-statements/editorial-boards-across-country-call-mike-pompeos-confirmation/',\n",
       " 'https://www.whitehouse.gov/briefings-statements/first-lady-melania-trump-releases-details-trump-administrations-first-state-visit/',\n",
       " 'https://www.whitehouse.gov/briefings-statements/presidential-message-earth-day-2018/',\n",
       " 'https://www.whitehouse.gov/briefings-statements/statement-first-lady-melania-trump-barbara-bush/',\n",
       " 'https://www.whitehouse.gov/briefings-statements/remarks-vice-president-pence-tax-cuts-put-america-first-event-6/',\n",
       " 'https://www.whitehouse.gov/briefings-statements/photos-of-the-week-042018/',\n",
       " 'https://www.whitehouse.gov/briefings-statements/white-house-national-security-advisor-announces-senior-staff-appointment/',\n",
       " 'https://www.whitehouse.gov/briefings-statements/president-donald-j-trump-sign-right-try-legislation-fulfilling-promise-made-expand-healthcare-options-terminal-americans/',\n",
       " 'https://www.whitehouse.gov/briefings-statements/aeis-marc-thiessen-thank-republicans-right-try/',\n",
       " 'https://www.whitehouse.gov/briefings-statements/cea-report-potential-youth-sports-improve-childhood-outcomes/',\n",
       " 'https://www.whitehouse.gov/briefings-statements/readout-vice-president-mike-pence-canadian-prime-minister-justin-trudeau/',\n",
       " 'https://www.whitehouse.gov/briefings-statements/press-gaggle-by-press-secretary-sarah-sanders-052918/',\n",
       " 'https://www.whitehouse.gov/briefings-statements/president-donald-j-trump-confronting-chinas-unfair-trade-policies/',\n",
       " 'https://www.whitehouse.gov/briefings-statements/statement-steps-protect-domestic-technology-intellectual-property-chinas-discriminatory-burdensome-trade-practices/',\n",
       " 'https://www.whitehouse.gov/briefings-statements/remarks-president-trump-memorial-day-ceremony/',\n",
       " 'https://www.whitehouse.gov/briefings-statements/readout-president-donald-j-trumps-call-prime-minister-shinzo-abe-japan-10/',\n",
       " 'https://www.whitehouse.gov/briefings-statements/remarks-president-trump-meeting-u-s-citizen-freed-venezuela/',\n",
       " 'https://www.whitehouse.gov/briefings-statements/statement-press-secretary-visit-united-nations-secretary-general-antonio-guterres/',\n",
       " 'https://www.whitehouse.gov/briefings-statements/statement-press-secretary-terrorist-attack-paris/',\n",
       " 'https://www.whitehouse.gov/briefings-statements/readout-president-donald-j-trumps-call-president-emmanuel-macron-france-19/',\n",
       " 'https://www.whitehouse.gov/briefings-statements/presidential-message-national-womens-health-week/',\n",
       " 'https://www.whitehouse.gov/briefings-statements/remarks-vice-president-pence-hillsdale-college-166th-commencement-ceremony/',\n",
       " 'https://www.whitehouse.gov/briefings-statements/president-donald-j-trump-approves-hawaii-disaster-declaration-2/',\n",
       " 'https://www.whitehouse.gov/briefings-statements/press-briefing-press-secretary-sarah-sanders-hhs-secretary-alex-azar-051118/',\n",
       " 'https://www.whitehouse.gov/briefings-statements/readout-president-donald-j-trumps-call-prime-minister-theresa-may-united-kingdom-14/',\n",
       " 'https://www.whitehouse.gov/briefings-statements/anthony-tersigni-congresss-chance-right-veterans/',\n",
       " 'https://www.whitehouse.gov/briefings-statements/statement-press-secretary-iranian-aggression-saudi-arabia-israel/',\n",
       " 'https://www.whitehouse.gov/briefings-statements/remarks-vice-president-pence-34th-space-symposium-colorado-springs-co/',\n",
       " 'https://www.whitehouse.gov/briefings-statements/president-trump-announces-presidential-delegation-official-working-visit-prime-minister-abe-japan/',\n",
       " 'https://www.whitehouse.gov/briefings-statements/remarks-president-trump-tax-cuts-florida-small-businesses-roundtable-hialeah-fl/',\n",
       " 'https://www.whitehouse.gov/briefings-statements/president-donald-j-trumps-tax-cuts-will-generate-greater-economic-opportunity/',\n",
       " 'https://www.whitehouse.gov/briefings-statements/press-gaggle-by-press-secretary-sarah-sanders-041618/',\n",
       " 'https://www.whitehouse.gov/briefings-statements/text-letter-president-speaker-house-representatives-president-pro-tempore-senate-3/',\n",
       " 'https://www.whitehouse.gov/briefings-statements/statement-press-secretary-visit-president-muhammadu-buhari-nigeria/',\n",
       " 'https://www.whitehouse.gov/briefings-statements/remarks-by-vice-president-pence-at-first-plenary-session-of-the-summit-of-the-americas/',\n",
       " 'https://www.whitehouse.gov/briefings-statements/readout-of-vice-president-mike-pences-meeting-with-president-martin-vizcarra-of-peru/',\n",
       " 'https://www.whitehouse.gov/briefings-statements/readout-of-vice-president-mike-pences-meeting-with-president-enrique-pena-nieto-of-mexico/',\n",
       " 'https://www.whitehouse.gov/briefings-statements/president-donald-j-trump-signs-s-2372-law/',\n",
       " 'https://www.whitehouse.gov/briefings-statements/president-trump-commutes-sentence-alice-marie-johnson/',\n",
       " 'https://www.whitehouse.gov/briefings-statements/president-donald-j-trump-provides-resources-veterans-get-care-deserve-doctors-want/',\n",
       " 'https://www.whitehouse.gov/briefings-statements/president-donald-j-trumps-500-days-making-government-accountable-american-people/',\n",
       " 'https://www.whitehouse.gov/briefings-statements/president-donald-j-trump-signs-s-292-s-1282-law/',\n",
       " 'https://www.whitehouse.gov/briefings-statements/remarks-president-trump-signing-ceremony-s-292-childhood-cancer-survivorship-treatment-access-research-act-2018/',\n",
       " 'https://www.whitehouse.gov/briefings-statements/presidential-message-congress-united-states-13/',\n",
       " 'https://www.whitehouse.gov/briefings-statements/press-briefing-press-secretary-sarah-sanders-cea-chairman-kevin-hassett-060518/',\n",
       " 'https://www.whitehouse.gov/briefings-statements/remarks-president-trump-celebration-america-event/',\n",
       " 'https://www.whitehouse.gov/briefings-statements/results-president-donald-j-trumps-pro-growth-agenda/',\n",
       " 'https://www.whitehouse.gov/briefings-statements/remarks-vice-president-pence-visit-members-indiana-national-guard-38th-infantry-division/',\n",
       " 'https://www.whitehouse.gov/briefings-statements/president-donald-j-trump-amends-u-s-virgin-islands-disaster-declarations-2/',\n",
       " 'https://www.whitehouse.gov/briefings-statements/remarks-president-trump-white-house-prison-reform-summit/',\n",
       " 'https://www.whitehouse.gov/briefings-statements/president-donald-j-trump-supports-legislative-action-reduce-recidivism-prison-system/',\n",
       " 'https://www.whitehouse.gov/briefings-statements/remarks-vice-president-pence-white-house-prison-reform-summit/',\n",
       " 'https://www.whitehouse.gov/briefings-statements/presidential-message-congress-united-states-11/',\n",
       " 'https://www.whitehouse.gov/briefings-statements/notice-regarding-continuation-national-emergency-respect-stabilization-iraq-2/',\n",
       " 'https://www.whitehouse.gov/briefings-statements/cea-report-returns-investments-recidivism-reducing-programs/',\n",
       " 'https://www.whitehouse.gov/briefings-statements/readout-discussions-delegation-china-regarding-trade-relationship/',\n",
       " 'https://www.whitehouse.gov/briefings-statements/president-donald-j-trump-prioritizes-efficiency-federal-government/',\n",
       " 'https://www.whitehouse.gov/briefings-statements/president-donald-j-trump-reducing-barriers-holding-back-american-manufacturers/',\n",
       " 'https://www.whitehouse.gov/briefings-statements/remarks-president-trump-meeting-governors-members-congress/',\n",
       " 'https://www.whitehouse.gov/briefings-statements/president-donald-j-trumps-tax-cuts-energizing-american-employers-sizes/',\n",
       " 'https://www.whitehouse.gov/briefings-statements/president-donald-j-trump-approves-kentucky-disaster-declaration/',\n",
       " 'https://www.whitehouse.gov/briefings-statements/readout-president-donald-j-trumps-call-president-recep-tayyip-erdogan-turkey-7/',\n",
       " 'https://www.whitehouse.gov/briefings-statements/excerpts-cia-director-pompeos-prepared-remarks/',\n",
       " 'https://www.whitehouse.gov/briefings-statements/press-briefing-by-press-secretary-sarah-sanders-041118/',\n",
       " 'https://www.whitehouse.gov/briefings-statements/president-donald-j-trump-signs-h-r-1865-law/',\n",
       " 'https://www.whitehouse.gov/briefings-statements/remarks-president-trump-signing-h-r-1865-allow-states-victims-fight-online-sex-trafficking-act-2017/',\n",
       " 'https://www.whitehouse.gov/briefings-statements/signing-allow-states-victims-fight-online-sex-trafficking-act-president-donald-j-trump-provides-invaluable-tools-needed-fight-scourge-sex-trafficking/',\n",
       " 'https://www.whitehouse.gov/briefings-statements/statement-vice-president-mike-pence-speaker-ryans-decision-not-seek-re-election/',\n",
       " 'https://www.whitehouse.gov/briefings-statements/readout-president-donald-j-trumps-meeting-amir-tamim-bin-hamad-al-thani/',\n",
       " 'https://www.whitehouse.gov/briefings-statements/statement-press-secretary-supporting-goals-better-utilization-investments-leading-development-build-act-2018/',\n",
       " 'https://www.whitehouse.gov/briefings-statements/president-donald-j-trumps-economic-mobility-reforms-will-restore-independence-dignity-millions-americans/',\n",
       " 'https://www.whitehouse.gov/briefings-statements/statement-press-secretary-regarding-presidential-proclamation-lift-entry-restrictions-nationals-republic-chad/',\n",
       " 'https://www.whitehouse.gov/briefings-statements/press-briefing-press-secretary-sarah-sanders-041018/',\n",
       " 'https://www.whitehouse.gov/briefings-statements/remarks-president-trump-welcoming-2017-ncaa-football-national-champions-alabama-crimson-tide/',\n",
       " 'https://www.whitehouse.gov/briefings-statements/gov-doug-ducey-national-guard-needed-border/',\n",
       " 'https://www.whitehouse.gov/briefings-statements/remarks-president-trump-amir-tamim-bin-hamad-al-thani-state-qatar-bilateral-meeting/',\n",
       " 'https://www.whitehouse.gov/briefings-statements/saying-support-president-donald-j-trumps-action-improve-federal-infrastructure-permitting/',\n",
       " 'https://www.whitehouse.gov/briefings-statements/remarks-president-trump-swearing-ceremony-gina-haspel-director-central-intelligence-agency/',\n",
       " 'https://www.whitehouse.gov/briefings-statements/statement-vice-president-mike-pence-venezuelas-elections/',\n",
       " 'https://www.whitehouse.gov/briefings-statements/presidential-message-cuban-independence-day/',\n",
       " 'https://www.whitehouse.gov/briefings-statements/readout-president-donald-j-trumps-call-president-moon-jae-republic-korea-10/',\n",
       " 'https://www.whitehouse.gov/briefings-statements/readout-vice-president-mike-pences-phone-call-greek-prime-minister-alexis-tsipras/',\n",
       " 'https://www.whitehouse.gov/briefings-statements/joint-statement-united-states-china-regarding-trade-consultations/',\n",
       " 'https://www.whitehouse.gov/briefings-statements/statement-communications-director-first-lady-melania-trump-2/',\n",
       " 'https://www.whitehouse.gov/briefings-statements/remarks-vice-president-pence-tax-cuts-put-america-first-event-8/',\n",
       " 'https://www.whitehouse.gov/briefings-statements/statement-press-secretary-regarding-proposed-title-x-family-planning-program-rule-department-health-human-services/',\n",
       " 'https://www.whitehouse.gov/briefings-statements/readout-president-donald-j-trumps-meeting-united-nations-secretary-general-antonio-guterres-2/',\n",
       " 'https://www.whitehouse.gov/briefings-statements/wtas-support-president-donald-j-trumps-signing-va-mission-act/',\n",
       " 'https://www.whitehouse.gov/briefings-statements/remarks-president-trump-white-house-iftar-dinner/',\n",
       " 'https://www.whitehouse.gov/briefings-statements/statement-by-the-president-3/',\n",
       " 'https://www.whitehouse.gov/briefings-statements/remarks-president-trump-2018-hurricane-briefing-3/',\n",
       " 'https://www.whitehouse.gov/briefings-statements/remarks-vice-president-pence-2018-hurricane-briefing/',\n",
       " 'https://www.whitehouse.gov/briefings-statements/remarks-president-trump-2018-hurricane-briefing/',\n",
       " 'https://www.whitehouse.gov/briefings-statements/wall-street-journal-american-job-openings-now-outnumber-jobless/',\n",
       " 'https://www.whitehouse.gov/briefings-statements/press-briefing-nec-director-larry-kudlow-g7-summit-060618/',\n",
       " 'https://www.whitehouse.gov/briefings-statements/townhall-columnist-wayne-allyn-root-trump-miracle/',\n",
       " 'https://www.whitehouse.gov/briefings-statements/remarks-president-trump-signing-va-mission-act-2018/',\n",
       " 'https://www.whitehouse.gov/briefings-statements/statement-first-lady-melania-trump-passing-barbara-bush/',\n",
       " 'https://www.whitehouse.gov/briefings-statements/remarks-president-trump-prime-minister-abe-japan-restricted-bilateral-meeting/',\n",
       " 'https://www.whitehouse.gov/briefings-statements/president-donald-j-trump-approves-ohio-disaster-declaration/',\n",
       " 'https://www.whitehouse.gov/briefings-statements/remarks-president-trump-prime-minister-abe-japan-bilateral-meeting-mar-lago-fl/',\n",
       " 'https://www.whitehouse.gov/briefings-statements/saying-goodbye-outdated-tax-code/',\n",
       " 'https://www.whitehouse.gov/briefings-statements/press-briefing-nec-director-assistant-president-economic-policy-larry-kudlow-nsc-senior-director-asian-affairs-matthew-pottinger-official-working-visit-prime-minist-041718/',\n",
       " 'https://www.whitehouse.gov/briefings-statements/president-donald-j-trump-prime-minister-shinzo-abe-working-together-strengthen-u-s-japan-alliance/',\n",
       " 'https://www.whitehouse.gov/briefings-statements/readout-second-lady-karen-pences-visit-childrens-national-health-system/',\n",
       " 'https://www.whitehouse.gov/briefings-statements/president-donald-j-trump-approves-west-virginia-disaster-declaration/',\n",
       " 'https://www.whitehouse.gov/briefings-statements/old-new-tax-cuts-reforms-look-hardworking-taxpayers/',\n",
       " 'https://www.whitehouse.gov/briefings-statements/wtas-support-opening-united-states-embassy-jerusalem/',\n",
       " 'https://www.whitehouse.gov/briefings-statements/remarks-vice-president-pence-israels-70th-independence-day-celebration/',\n",
       " 'https://www.whitehouse.gov/briefings-statements/readout-president-donald-j-trumps-call-prime-minister-justin-trudeau-canada-7/',\n",
       " 'https://www.whitehouse.gov/briefings-statements/press-briefing-principal-deputy-press-secretary-raj-shah-051418/',\n",
       " 'https://www.whitehouse.gov/briefings-statements/statement-communications-director-first-lady-melania-trump/',\n",
       " 'https://www.whitehouse.gov/briefings-statements/readout-president-donald-j-trumps-call-president-mauricio-macri-argentina-4/',\n",
       " 'https://www.whitehouse.gov/briefings-statements/text-letter-president-chairmen-house-committees-armed-services-foreign-affairs-intelligence-appropriations-senate-committees-armed-services-foreign-r/',\n",
       " 'https://www.whitehouse.gov/briefings-statements/text-letter-president-speaker-house-representatives-president-senate-28/',\n",
       " 'https://www.whitehouse.gov/briefings-statements/notice-regarding-continuation-national-emergency-respect-yemen/',\n",
       " 'https://www.whitehouse.gov/briefings-statements/president-donald-j-trump-keeps-promise-open-u-s-embassy-jerusalem-israel/',\n",
       " 'https://www.whitehouse.gov/briefings-statements/press-gaggle-by-deputy-press-secretary-hogan-gidley-053118/',\n",
       " 'https://www.whitehouse.gov/briefings-statements/remarks-president-trump-air-force-one-departure-2/',\n",
       " 'https://www.whitehouse.gov/briefings-statements/statement-press-secretary-regarding-pardon-dinesh-dsouza/',\n",
       " 'https://www.whitehouse.gov/briefings-statements/president-donald-j-trump-approves-section-232-tariff-modifications-2/',\n",
       " 'https://www.whitehouse.gov/briefings-statements/remarks-president-trump-white-house-sports-fitness-day/',\n",
       " 'https://www.whitehouse.gov/briefings-statements/press-briefing-press-secretary-sarah-sanders-053018/',\n",
       " 'https://www.whitehouse.gov/briefings-statements/president-donald-j-trump-approves-maine-disaster-declaration-2/',\n",
       " 'https://www.whitehouse.gov/briefings-statements/remarks-president-trump-s-204-right-try-bill-signing/',\n",
       " 'https://www.whitehouse.gov/briefings-statements/president-donald-j-trump-signs-s-204-law/',\n",
       " 'https://www.whitehouse.gov/briefings-statements/remarks-vice-president-pence-s-204-right-try-bill-signing/',\n",
       " 'https://www.whitehouse.gov/briefings-statements/statement-press-secretary-committee-approval-secretary-state-designate-mike-pompeo/',\n",
       " 'https://www.whitehouse.gov/briefings-statements/statement-press-secretary-tragedy-toronto-canada/',\n",
       " 'https://www.whitehouse.gov/briefings-statements/statement-president-signing-h-r-3445/',\n",
       " 'https://www.whitehouse.gov/briefings-statements/remarks-vice-president-pence-meeting-nasa-senior-leadership/',\n",
       " 'https://www.whitehouse.gov/briefings-statements/remarks-vice-president-pence-swearing-ceremony-nasa-administrator-jim-bridenstine-call-international-space-station/',\n",
       " 'https://www.whitehouse.gov/briefings-statements/vice-president-mike-pence-announces-lieutenant-general-ret-keith-kellogg-national-security-advisor/',\n",
       " 'https://www.whitehouse.gov/briefings-statements/president-donald-j-trump-signs-h-r-3445-h-r-3979-law/',\n",
       " 'https://www.whitehouse.gov/briefings-statements/president-donald-j-trump-president-emmanuel-macron-continue-build-trans-atlantic-alliance/',\n",
       " 'https://www.whitehouse.gov/briefings-statements/second-lady-karen-pence-adds-official-china-collection-vice-presidents-residence/',\n",
       " 'https://www.whitehouse.gov/briefings-statements/readout-president-donald-j-trumps-call-president-sauli-niinisto-finland/',\n",
       " 'https://www.whitehouse.gov/briefings-statements/press-briefing-press-secretary-sarah-sanders-050918/',\n",
       " 'https://www.whitehouse.gov/briefings-statements/president-donald-j-trump-signs-s-447-law/',\n",
       " 'https://www.whitehouse.gov/briefings-statements/remarks-president-trump-celebration-military-mothers-spouses-event/',\n",
       " 'https://www.whitehouse.gov/briefings-statements/letter-congressional-committees-regarding-reports-united-states-strategy-defeat-isis-united-states-use-military-force/',\n",
       " 'https://www.whitehouse.gov/briefings-statements/president-donald-j-trump-enhancing-opportunity-military-families/',\n",
       " 'https://www.whitehouse.gov/briefings-statements/remarks-vice-president-pence-working-lunch-council-americas-u-s-engagement-western-hemisphere/',\n",
       " 'https://www.whitehouse.gov/briefings-statements/wtas-support-president-donald-j-trumps-decision-end-united-states-participation-iran-deal/',\n",
       " 'https://www.whitehouse.gov/briefings-statements/cea-report-military-spouses-labor-market/',\n",
       " 'https://www.whitehouse.gov/briefings-statements/remarks-president-trump-cabinet-meeting-8/',\n",
       " 'https://www.whitehouse.gov/briefings-statements/gina-haspel-continues-earn-widespread-support/',\n",
       " 'https://www.whitehouse.gov/briefings-statements/remarks-president-trump-swearing-ceremony-mike-pompeo-secretary-state/',\n",
       " 'https://www.whitehouse.gov/briefings-statements/wall-street-journal-mother-teresa-counterterrorism-cia-unveils-gina-haspel/',\n",
       " 'https://www.whitehouse.gov/briefings-statements/wtas-widespread-praise-gina-haspel-president-trumps-nominee-cia-director/',\n",
       " 'https://www.whitehouse.gov/briefings-statements/remarks-vice-president-pence-tax-cuts-put-america-first-event-phoenix-az/',\n",
       " 'https://www.whitehouse.gov/briefings-statements/press-briefing-press-secretary-sarah-sanders-050118/',\n",
       " 'https://www.whitehouse.gov/briefings-statements/remarks-president-trump-welcoming-crew-passengers-southwest-airlines-flight-1380-white-house/',\n",
       " 'https://www.whitehouse.gov/briefings-statements/remarks-president-trump-presenting-commander-chiefs-trophy-u-s-military-academy-football-team/',\n",
       " 'https://www.whitehouse.gov/briefings-statements/president-trump-announces-presidential-delegation-republic-costa-rica-attend-inauguration-excellency-carlos-alvarado/',\n",
       " 'https://www.whitehouse.gov/briefings-statements/president-donald-j-trump-approves-section-232-tariff-modifications/',\n",
       " 'https://www.whitehouse.gov/briefings-statements/president-donald-j-trump-signs-s-167-law/',\n",
       " 'https://www.whitehouse.gov/briefings-statements/press-briefing-secretary-state-mike-pompeo-060718/',\n",
       " 'https://www.whitehouse.gov/briefings-statements/washington-examiner-3-billion-payoff-101-utilities-cut-rates-credit-gop-tax-cuts/',\n",
       " 'https://www.whitehouse.gov/briefings-statements/remarks-president-trump-prime-minister-abe-japan-bilateral-meeting-3/',\n",
       " 'https://www.whitehouse.gov/briefings-statements/record-press-call-youth-opioid-prevention-ad-campaign/',\n",
       " 'https://www.whitehouse.gov/briefings-statements/readout-vice-presidents-call-pakistani-prime-minister-nasir-ul-mulk/',\n",
       " 'https://www.whitehouse.gov/briefings-statements/washington-examiner-total-jobless-claims-running-lowest-level-44-years/',\n",
       " 'https://www.whitehouse.gov/briefings-statements/statement-press-secretary-volcano-eruption-guatemala/',\n",
       " 'https://www.whitehouse.gov/briefings-statements/president-donald-j-trump-taking-action-stop-youth-opioid-abuse/',\n",
       " 'https://www.whitehouse.gov/briefings-statements/statement-press-secretary-regarding-youth-opioid-prevention-ad-campaign/',\n",
       " 'https://www.whitehouse.gov/briefings-statements/president-donald-j-trumps-500-days-winning-world-stage/',\n",
       " 'https://www.whitehouse.gov/briefings-statements/president-donald-j-trump-signs-h-r-3210-law/',\n",
       " 'https://www.whitehouse.gov/briefings-statements/president-donald-j-trump-defending-american-values/',\n",
       " 'https://www.whitehouse.gov/briefings-statements/press-briefing-press-secretary-sarah-sanders-052218/',\n",
       " 'https://www.whitehouse.gov/briefings-statements/support-trump-administrations-proposed-title-x-rule/',\n",
       " 'https://www.whitehouse.gov/briefings-statements/remarks-president-trump-president-moon-republic-korea-bilateral-meeting-2/',\n",
       " 'https://www.whitehouse.gov/briefings-statements/presidential-message-congress-united-states-12/',\n",
       " 'https://www.whitehouse.gov/briefings-statements/statement-president-donald-j-trump-maduro-regime-venezuela/',\n",
       " 'https://www.whitehouse.gov/briefings-statements/optimism-availability-good-jobs-hits-new-heights/',\n",
       " 'https://www.whitehouse.gov/briefings-statements/remarks-president-trump-hosting-2017-nascar-cup-series-champion-martin-truex-jr-team/',\n",
       " 'https://www.whitehouse.gov/briefings-statements/president-donald-j-trump-signs-s-j-res-57-law/',\n",
       " 'https://www.whitehouse.gov/briefings-statements/readout-president-donald-j-trumps-call-prime-minister-theresa-may-united-kingdom-9/',\n",
       " 'https://www.whitehouse.gov/briefings-statements/statement-vice-president-mike-pences-deputy-chief-staff-communications-director-jarrod-agen/',\n",
       " 'https://www.whitehouse.gov/briefings-statements/readout-president-donald-j-trumps-meeting-defense-military-leaders/',\n",
       " 'https://www.whitehouse.gov/briefings-statements/readout-president-donald-j-trumps-call-president-emmanuel-macron-france-14/',\n",
       " 'https://www.whitehouse.gov/briefings-statements/remarks-president-trump-meeting-senior-military-leadership/',\n",
       " 'https://www.whitehouse.gov/briefings-statements/press-briefing-press-secretary-sarah-sanders-040918/',\n",
       " 'https://www.whitehouse.gov/briefings-statements/peter-navarro-donald-trump-standing-american-interests/',\n",
       " 'https://www.whitehouse.gov/briefings-statements/president-donald-j-trump-presides-signing-one-federal-decision-memorandum-understanding-major-infrastructure-projects/',\n",
       " 'https://www.whitehouse.gov/briefings-statements/need-know-president-donald-j-trumps-efforts-end-catch-release/',\n",
       " 'https://www.whitehouse.gov/briefings-statements/remarks-president-trump-cabinet-meeting-7/',\n",
       " 'https://www.whitehouse.gov/briefings-statements/remarks-president-trump-launch-first-ladys-initiatives/',\n",
       " 'https://www.whitehouse.gov/briefings-statements/president-donald-j-trump-award-medal-honor-3/',\n",
       " 'https://www.whitehouse.gov/briefings-statements/remarks-first-lady-launch-best-initiative/',\n",
       " 'https://www.whitehouse.gov/briefings-statements/press-briefing-press-secretary-sarah-sanders-050718/',\n",
       " 'https://www.whitehouse.gov/briefings-statements/presidential-message-congress-united-states-4/',\n",
       " 'https://www.whitehouse.gov/briefings-statements/remarks-vice-president-pence-protocolary-meeting-organization-american-states/',\n",
       " 'https://www.whitehouse.gov/briefings-statements/president-donald-j-trump-signs-h-r-4300-law/',\n",
       " 'https://www.whitehouse.gov/briefings-statements/first-lady-melania-trump-announces-best-campaign-address-major-issues-facing-children-today/',\n",
       " 'https://www.whitehouse.gov/briefings-statements/president-trump-announces-presidential-delegation-state-israel-attend-opening-united-states-embassy-jerusalem-israel/',\n",
       " 'https://www.whitehouse.gov/briefings-statements/gina-haspel-best-choice-cia-director/',\n",
       " 'https://www.whitehouse.gov/briefings-statements/remarks-president-trump-president-macron-france-state-dinner/',\n",
       " 'https://www.whitehouse.gov/briefings-statements/expected-attendees-tonights-dinner-honor-excellency-emmanuel-macron-president-french-republic-mrs-brigitte-macron/',\n",
       " 'https://www.whitehouse.gov/briefings-statements/remarks-vice-president-pence-president-macron-france-state-luncheon/',\n",
       " 'https://www.whitehouse.gov/briefings-statements/statement-press-secretary-nicaragua/',\n",
       " 'https://www.whitehouse.gov/briefings-statements/remarks-president-trump-president-macron-france-joint-press-conference/',\n",
       " 'https://www.whitehouse.gov/briefings-statements/statement-president-armenian-remembrance-day-2018/',\n",
       " 'https://www.whitehouse.gov/briefings-statements/remarks-president-trump-president-macron-france-restricted-bilateral-meeting/',\n",
       " 'https://www.whitehouse.gov/briefings-statements/readout-first-lady-melania-trumps-visit-national-gallery-art/',\n",
       " 'https://www.whitehouse.gov/briefings-statements/remarks-president-trump-president-macron-expanded-bilateral-meeting/',\n",
       " 'https://www.whitehouse.gov/briefings-statements/remarks-president-trump-president-macron-france-arrival-ceremony/',\n",
       " 'https://www.whitehouse.gov/briefings-statements/text-letter-president-speaker-house-representatives-president-senate-25/',\n",
       " 'https://www.whitehouse.gov/briefings-statements/statement-press-secretary-syria/',\n",
       " 'https://www.whitehouse.gov/briefings-statements/readout-president-donald-j-trumps-call-president-emmanuel-macron-france-12/',\n",
       " 'https://www.whitehouse.gov/briefings-statements/statement-press-secretary-houthi-commercial-maritime-attack/',\n",
       " 'https://www.whitehouse.gov/briefings-statements/readout-president-donald-j-trumps-call-prime-minister-benjamin-netanyahu-israel/',\n",
       " 'https://www.whitehouse.gov/briefings-statements/declaration-celebrate-100-years-independence-estonia-latvia-lithuania-renewed-partnership/',\n",
       " 'https://www.whitehouse.gov/briefings-statements/remarks-ltg-h-r-mcmaster-atlantic-council-baltic-summit-dinner/',\n",
       " 'https://www.whitehouse.gov/briefings-statements/remarks-president-trump-heads-baltic-states-joint-press-conference/',\n",
       " 'https://www.whitehouse.gov/briefings-statements/remarks-president-trump-working-lunch-heads-baltic-states/',\n",
       " 'https://www.whitehouse.gov/briefings-statements/readout-president-donald-j-trumps-call-king-salman-saudi-arabia-4/',\n",
       " 'https://www.whitehouse.gov/briefings-statements/readout-president-donald-j-trumps-call-emir-tamim-bin-hamad-al-thani-qatar-3/',\n",
       " 'https://www.whitehouse.gov/briefings-statements/president-donald-j-trumps-support-estonia-latvia-lithuania/',\n",
       " 'https://www.whitehouse.gov/briefings-statements/statement-press-secretary-extradition-yevgeniy-aleksandrovich-nikulin/',\n",
       " 'https://www.whitehouse.gov/briefings-statements/white-house-easter-egg-roll-2018/',\n",
       " 'https://www.whitehouse.gov/briefings-statements/readout-president-trumps-meeting-larry-kudlow-senior-staff-national-economic-council/',\n",
       " 'https://www.whitehouse.gov/briefings-statements/need-know-catch-release/',\n",
       " 'https://www.whitehouse.gov/briefings-statements/readout-president-donald-j-trumps-call-president-abdel-fattah-al-sisi-egypt-5/',\n",
       " 'https://www.whitehouse.gov/briefings-statements/remarks-president-trump-2018-white-house-easter-egg-roll/',\n",
       " 'https://www.whitehouse.gov/briefings-statements/statement-press-secretary-president-donald-j-trumps-upcoming-meeting-japanese-prime-minister-shinzo-abe-japan/',\n",
       " 'https://www.whitehouse.gov/briefings-statements/remarks-president-trump-easter-church-service/',\n",
       " 'https://www.whitehouse.gov/briefings-statements/text-letter-president-speaker-house-representatives-president-senate-27/',\n",
       " 'https://www.whitehouse.gov/briefings-statements/readout-second-lady-karen-pences-visit-riley-hospital-children-iu-health/',\n",
       " 'https://www.whitehouse.gov/briefings-statements/remarks-vice-president-pence-jobs-announcement-infosys-technologies-ltd/',\n",
       " 'https://www.whitehouse.gov/briefings-statements/remarks-president-trump-wounded-warrior-project-soldier-ride/',\n",
       " 'https://www.whitehouse.gov/briefings-statements/statement-president-confirmation-mike-pompeo-secretary-state/',\n",
       " 'https://www.whitehouse.gov/briefings-statements/president-donald-j-trump-announces-prescription-drug-take-back-day-fight-scourge-drug-abuse-across-country/',\n",
       " 'https://www.whitehouse.gov/briefings-statements/readout-president-donald-j-trumps-call-president-emmanuel-macron-france-16/',\n",
       " 'https://www.whitehouse.gov/briefings-statements/remarks-vice-president-pence-tax-cuts-put-america-first-event-7/',\n",
       " 'https://www.whitehouse.gov/briefings-statements/press-briefing-press-secretary-sarah-sanders-042518/',\n",
       " 'https://www.whitehouse.gov/briefings-statements/need-know-effective-entry-restrictions-protecting-national-security/',\n",
       " 'https://www.whitehouse.gov/briefings-statements/remarks-president-trump-joint-comprehensive-plan-action/',\n",
       " 'https://www.whitehouse.gov/briefings-statements/president-donald-j-trump-ending-united-states-participation-unacceptable-iran-deal/',\n",
       " 'https://www.whitehouse.gov/briefings-statements/statement-press-secretary-civil-war-south-sudan/',\n",
       " 'https://www.whitehouse.gov/briefings-statements/readout-president-donald-j-trumps-call-president-xi-jinping-china-5/',\n",
       " 'https://www.whitehouse.gov/briefings-statements/statement-communications-director/',\n",
       " 'https://www.whitehouse.gov/briefings-statements/president-donald-j-trump-approves-north-carolina-disaster-declaration/',\n",
       " 'https://www.whitehouse.gov/briefings-statements/president-donald-j-trump-protecting-american-taxpayer-dollars/',\n",
       " 'https://www.whitehouse.gov/briefings-statements/president-donald-j-trump-approves-hawaii-disaster-declaration/',\n",
       " 'https://www.whitehouse.gov/briefings-statements/readout-vice-president-mike-pences-meeting-united-kingdom-foreign-secretary-boris-johnson/',\n",
       " 'https://www.whitehouse.gov/briefings-statements/statement-press-secretary-regarding-h-r-5674-va-mission-act-2018/',\n",
       " 'https://www.whitehouse.gov/briefings-statements/president-donald-j-trumps-administration-working-every-day-help-bring-end-opioid-crisis/',\n",
       " 'https://www.whitehouse.gov/briefings-statements/president-donald-j-trumps-administration-improving-inefficient-permitting-reviews/',\n",
       " 'https://www.whitehouse.gov/briefings-statements/readout-president-donald-j-trumps-call-president-emmanuel-macron-france-13/',\n",
       " 'https://www.whitehouse.gov/briefings-statements/readout-president-donald-j-trumps-call-prime-minister-haider-al-abadi-iraq-2/',\n",
       " 'https://www.whitehouse.gov/briefings-statements/statement-press-secretary-regarding-attack-germany/',\n",
       " 'https://www.whitehouse.gov/briefings-statements/statement-president-donald-j-trump-lebanon/',\n",
       " 'https://www.whitehouse.gov/briefings-statements/statement-press-secretary-actions-taken-panama-maduro-regime/',\n",
       " 'https://www.whitehouse.gov/briefings-statements/readout-president-donald-j-trumps-call-crown-prince-mohammed-bin-zayed-united-arab-emirates/',\n",
       " 'https://www.whitehouse.gov/briefings-statements/statement-press-secretary-regarding-catch-release/',\n",
       " 'https://www.whitehouse.gov/briefings-statements/statement-lieutenant-general-h-r-mcmaster/',\n",
       " 'https://www.whitehouse.gov/briefings-statements/readout-vice-president-mike-pences-meeting-georgian-prime-minister-giorgi-kvirikashvili/',\n",
       " 'https://www.whitehouse.gov/briefings-statements/remarks-president-trump-roundtable-discussion-immigration-bethpage-ny/',\n",
       " 'https://www.whitehouse.gov/briefings-statements/remarks-vice-president-pence-united-states-coast-guard-academy-commencement-ceremony/',\n",
       " 'https://www.whitehouse.gov/briefings-statements/president-donald-j-trump-dedicated-combating-ms-13/',\n",
       " 'https://www.whitehouse.gov/briefings-statements/remarks-president-trump-marine-one-departure-7/',\n",
       " 'https://www.whitehouse.gov/briefings-statements/remarks-president-trump-susan-b-anthony-list-11th-annual-campaign-life-gala/',\n",
       " 'https://www.whitehouse.gov/briefings-statements/statement-press-secretary-move-paraguayan-embassy-tel-aviv-jerusalem-israel/',\n",
       " 'https://www.whitehouse.gov/briefings-statements/statement-press-secretary-regarding-passage-s-204-trickett-wendler-frank-mongiello-jordan-mclinn-matthew-bellina-right-try-act-2017/',\n",
       " 'https://www.whitehouse.gov/briefings-statements/statement-press-secretary-regarding-house-representatives-passage-h-r-5682-first-step-act/',\n",
       " 'https://www.whitehouse.gov/briefings-statements/statement-president-donald-j-trump-h-r-3210/',\n",
       " 'https://www.whitehouse.gov/briefings-statements/presidential-message-mens-health-week/',\n",
       " 'https://www.whitehouse.gov/briefings-statements/statement-office-vice-president-2/',\n",
       " 'https://www.whitehouse.gov/briefings-statements/presidential-message-congress-united-states-14/',\n",
       " 'https://www.whitehouse.gov/briefings-statements/text-letter-president-speaker-house-representatives-president-pro-tempore-senate-4/',\n",
       " 'https://www.whitehouse.gov/briefings-statements/notice-regarding-continuation-national-emergency-respect-actions-policies-certain-members-government-belarus-persons-undermine-democratic-processes/',\n",
       " 'https://www.whitehouse.gov/briefings-statements/remarks-president-trump-marine-one-departure-8/',\n",
       " 'https://www.whitehouse.gov/briefings-statements/larry-kudlow-trump-presiding-extraordinary-growth-g-7-leaders-notice/',\n",
       " 'https://www.whitehouse.gov/briefings-statements/statement-press-secretary-visit-king-felipe-vi-queen-letizia-spain/',\n",
       " 'https://www.whitehouse.gov/briefings-statements/statement-press-secretary-passage-h-r-3-spending-cuts-expired-unnecessary-programs-act/',\n",
       " 'https://www.whitehouse.gov/briefings-statements/remarks-president-trump-prime-minister-abe-japan-joint-press-conference-2/',\n",
       " 'https://www.whitehouse.gov/briefings-statements/confident-growing-united-states-economy/',\n",
       " 'https://www.whitehouse.gov/briefings-statements/statement-press-secretary-ken-isaacs/',\n",
       " 'https://www.whitehouse.gov/briefings-statements/statement-press-secretary-terrorist-attacks-nigeria/',\n",
       " 'https://www.whitehouse.gov/briefings-statements/statement-press-secretary-religious-violence-central-african-republic/',\n",
       " 'https://www.whitehouse.gov/briefings-statements/remarks-vice-president-pence-national-day-prayer/',\n",
       " 'https://www.whitehouse.gov/briefings-statements/remarks-president-trump-national-day-prayer/',\n",
       " 'https://www.whitehouse.gov/briefings-statements/president-donald-j-trump-stands-religious-freedom-united-states/',\n",
       " 'https://www.whitehouse.gov/briefings-statements/remarks-president-trump-national-teacher-year-reception/',\n",
       " 'https://www.whitehouse.gov/briefings-statements/remarks-vice-president-pence-swearing-ceremony-carlos-trujillo-u-s-permanent-representative-organization-american-states/',\n",
       " 'https://www.whitehouse.gov/briefings-statements/gina-haspel-right-person-lead-cia/',\n",
       " 'https://www.whitehouse.gov/briefings-statements/press-briefing-by-press-secretary-sarah-sanders-040618/',\n",
       " 'https://www.whitehouse.gov/briefings-statements/photos-of-the-week-040618/',\n",
       " 'https://www.whitehouse.gov/briefings-statements/text-letter-president-speaker-house-representatives-president-senate-26/',\n",
       " 'https://www.whitehouse.gov/briefings-statements/govs-john-bel-edwards-d-la-phil-bryant-r-ms-trumps-infrastructure-plan-marks-progress/',\n",
       " 'https://www.whitehouse.gov/briefings-statements/america-open-business/',\n",
       " 'https://www.whitehouse.gov/briefings-statements/president-donald-j-trump-standing-russias-malign-activities/',\n",
       " 'https://www.whitehouse.gov/briefings-statements/need-know-president-donald-j-trumps-actions-responding-chinas-unfair-trade-practices/',\n",
       " 'https://www.whitehouse.gov/briefings-statements/remarks-president-trump-roundtable-discussion-tax-reform/',\n",
       " 'https://www.whitehouse.gov/briefings-statements/statement-president-donald-j-trump-additional-proposed-section-301-remedies/',\n",
       " 'https://www.whitehouse.gov/briefings-statements/remarks-president-trump-press-gaggle-en-route-washington-d-c/',\n",
       " 'https://www.whitehouse.gov/briefings-statements/remarks-president-trump-signing-s-2155-economic-growth-regulatory-relief-consumer-protection-act/',\n",
       " 'https://www.whitehouse.gov/briefings-statements/statement-president-donald-j-trump-s-2155/',\n",
       " 'https://www.whitehouse.gov/briefings-statements/president-donald-j-trump-signs-s-2155-law/',\n",
       " 'https://www.whitehouse.gov/briefings-statements/president-donald-j-trump-supports-regulatory-reforms-community-banks-credit-unions-consumers/',\n",
       " 'https://www.whitehouse.gov/briefings-statements/readout-vice-president-mike-pences-call-president-egypt-abdel-fattah-al-sisi/',\n",
       " 'https://www.whitehouse.gov/briefings-statements/president-donald-j-trump-reforming-modernizing-american-commercial-space-policy/',\n",
       " 'https://www.whitehouse.gov/briefings-statements/letter-chairman-kim-jong-un/',\n",
       " 'https://www.whitehouse.gov/briefings-statements/statement-president-potential-national-security-investigation-automobile-imports/',\n",
       " 'https://www.whitehouse.gov/briefings-statements/president-donald-j-trump-amends-puerto-rico-disaster-declaration-4/',\n",
       " 'https://www.whitehouse.gov/briefings-statements/statement-press-secretary-senate-passage-va-mission-act/',\n",
       " 'https://www.whitehouse.gov/briefings-statements/statement-regarding-summit-united-states-north-korea/',\n",
       " 'https://www.whitehouse.gov/briefings-statements/readout-president-donald-j-trumps-meeting-prime-minister-lee-hsien-loong-singapore/',\n",
       " 'https://www.whitehouse.gov/briefings-statements/statement-first-lady-melania-trumps-visit-fords-theatre/',\n",
       " 'https://www.whitehouse.gov/briefings-statements/president-donald-j-trump-approves-new-jersey-disaster-declaration/',\n",
       " 'https://www.whitehouse.gov/briefings-statements/press-conference-president-trump-g7-summit/',\n",
       " 'https://www.whitehouse.gov/briefings-statements/president-donald-j-trump-approves-new-hampshire-disaster-declaration-5/',\n",
       " 'https://www.whitehouse.gov/briefings-statements/president-donald-j-trump-approves-alaska-disaster-declaration-2/',\n",
       " 'https://www.whitehouse.gov/briefings-statements/president-donald-j-trump-approves-new-hampshire-disaster-declaration-4/',\n",
       " 'https://www.whitehouse.gov/briefings-statements/remarks-president-trump-prime-minister-trudeau-canada-bilateral-meeting/',\n",
       " 'https://www.whitehouse.gov/briefings-statements/remarks-president-trump-president-macron-france-bilateral-meeting-2/',\n",
       " 'https://www.whitehouse.gov/briefings-statements/photos-of-the-week-042718/',\n",
       " 'https://www.whitehouse.gov/briefings-statements/wtas-support-confirmation-secretary-state-mike-pompeo/',\n",
       " 'https://www.whitehouse.gov/briefings-statements/statement-vice-president-mike-pence-inter-korean-summit/',\n",
       " 'https://www.whitehouse.gov/briefings-statements/remarks-president-trump-welcoming-u-s-olympic-team/',\n",
       " 'https://www.whitehouse.gov/briefings-statements/readout-vice-presidents-call-afghan-president-ashraf-ghani-4/',\n",
       " 'https://www.whitehouse.gov/briefings-statements/president-donald-j-trumps-weekly-address-04272018/',\n",
       " 'https://www.whitehouse.gov/briefings-statements/president-donald-j-trump-german-chancellor-angela-merkel-strengthen-close-relationship-united-states-germany/',\n",
       " 'https://www.whitehouse.gov/briefings-statements/president-donald-j-trump-approves-kentucky-disaster-declaration-2/',\n",
       " 'https://www.whitehouse.gov/briefings-statements/president-donald-j-trump-approves-alabama-disaster-declaration-2/',\n",
       " 'https://www.whitehouse.gov/briefings-statements/statement-press-secretary-inter-korean-summit/',\n",
       " 'https://www.whitehouse.gov/briefings-statements/remarks-president-trump-aboard-air-force-one-en-route-dallas-texas/',\n",
       " 'https://www.whitehouse.gov/briefings-statements/remarks-president-trump-air-force-one-departure/',\n",
       " 'https://www.whitehouse.gov/briefings-statements/remarks-president-trump-marine-one-departure-6/',\n",
       " 'https://www.whitehouse.gov/briefings-statements/small-business-booming-across-united-states/',\n",
       " 'https://www.whitehouse.gov/briefings-statements/empowering-american-small-businesses/',\n",
       " 'https://www.whitehouse.gov/briefings-statements/readout-president-donald-j-trumps-meeting-regarding-election-security/',\n",
       " 'https://www.whitehouse.gov/briefings-statements/presidential-message-commemoration-76th-anniversary-battle-coral-sea/',\n",
       " 'https://www.whitehouse.gov/briefings-statements/president-trump-announces-presidential-delegation-republic-sierra-leone-attend-inauguration-excellency-julius-maada-bio/',\n",
       " 'https://www.whitehouse.gov/briefings-statements/remarks-vice-president-pence-swearing-ceremony-richard-grenell-u-s-ambassador-germany/',\n",
       " 'https://www.whitehouse.gov/briefings-statements/press-briefing-press-secretary-sarah-sanders-050318/',\n",
       " 'https://www.whitehouse.gov/briefings-statements/remarks-president-trump-roundtable-discussion-tax-reform-2/',\n",
       " 'https://www.whitehouse.gov/briefings-statements/readout-president-donald-j-trumps-call-prime-minister-theresa-may-united-kingdom-13/',\n",
       " 'https://www.whitehouse.gov/briefings-statements/presidential-message-cinco-de-mayo/',\n",
       " 'https://www.whitehouse.gov/briefings-statements/statement-press-secretary-chinas-political-correctness/',\n",
       " 'https://www.whitehouse.gov/briefings-statements/president-donald-j-trump-approves-indiana-disaster-declaration/',\n",
       " 'https://www.whitehouse.gov/briefings-statements/readout-assistant-president-national-security-affairs-john-r-boltons-meeting-national-security-advisor-prime-minister-shotaro-yachi-japan/',\n",
       " 'https://www.whitehouse.gov/briefings-statements/readout-assistant-president-national-security-affairs-john-r-boltons-meeting-national-security-office-director-chung-eui-yong-republic-korea/',\n",
       " 'https://www.whitehouse.gov/briefings-statements/statement-press-secretary-visit-president-moon-jae-republic-korea/',\n",
       " 'https://www.whitehouse.gov/briefings-statements/remarks-vice-president-pence-national-rifle-association-leadership-forum/',\n",
       " 'https://www.whitehouse.gov/briefings-statements/statement-united-states-trade-delegations-visit-beijing/',\n",
       " 'https://www.whitehouse.gov/briefings-statements/statement-press-secretary-israels-announcement-related-iranian-nuclear-weapons-development/',\n",
       " 'https://www.whitehouse.gov/briefings-statements/remarks-vice-president-pence-u-s-department-homeland-security-u-s-customs-border-protection-employees-imperial-ca/',\n",
       " 'https://www.whitehouse.gov/briefings-statements/remarks-president-trump-president-buhari-federal-republic-nigeria-joint-press-conference/',\n",
       " 'https://www.whitehouse.gov/briefings-statements/statement-press-secretary-regarding-united-states-delegation-china/',\n",
       " 'https://www.whitehouse.gov/briefings-statements/readout-president-donald-j-trumps-call-president-emmanuel-macron-france-17/',\n",
       " 'https://www.whitehouse.gov/briefings-statements/remarks-president-trump-president-buhari-federal-republic-nigeria-bilateral-meeting/',\n",
       " 'https://www.whitehouse.gov/briefings-statements/president-donald-j-trump-recognizes-importance-small-businesses-2018-small-business-week/',\n",
       " 'https://www.whitehouse.gov/briefings-statements/readout-president-donald-j-trumps-call-prime-minister-benjamin-netanyahu-israel-2/',\n",
       " 'https://www.whitehouse.gov/briefings-statements/readout-president-donald-j-trumps-call-president-moon-jae-republic-korea-8/',\n",
       " 'https://www.whitehouse.gov/briefings-statements/readout-president-donald-j-trumps-call-prime-minister-shinzo-abe-japan-8/',\n",
       " 'https://www.whitehouse.gov/briefings-statements/statement-regarding-summit-united-states-north-korea/',\n",
       " 'https://www.whitehouse.gov/briefings-statements/readout-president-donald-j-trumps-meeting-prime-minister-lee-hsien-loong-singapore/',\n",
       " 'https://www.whitehouse.gov/briefings-statements/statement-first-lady-melania-trumps-visit-fords-theatre/',\n",
       " 'https://www.whitehouse.gov/briefings-statements/president-donald-j-trump-approves-new-jersey-disaster-declaration/',\n",
       " 'https://www.whitehouse.gov/briefings-statements/press-conference-president-trump-g7-summit/',\n",
       " 'https://www.whitehouse.gov/briefings-statements/president-donald-j-trump-approves-new-hampshire-disaster-declaration-5/',\n",
       " 'https://www.whitehouse.gov/briefings-statements/president-donald-j-trump-approves-alaska-disaster-declaration-2/',\n",
       " 'https://www.whitehouse.gov/briefings-statements/president-donald-j-trump-approves-new-hampshire-disaster-declaration-4/',\n",
       " 'https://www.whitehouse.gov/briefings-statements/remarks-president-trump-prime-minister-trudeau-canada-bilateral-meeting/',\n",
       " 'https://www.whitehouse.gov/briefings-statements/remarks-president-trump-president-macron-france-bilateral-meeting-2/',\n",
       " 'https://www.whitehouse.gov/briefings-statements/statement-press-secretary-regarding-release-joshua-holt/',\n",
       " 'https://www.whitehouse.gov/briefings-statements/president-donald-j-trump-signs-s-35-law/',\n",
       " 'https://www.whitehouse.gov/briefings-statements/readout-president-donald-j-trumps-call-prime-minister-justin-trudeau-canada-8/',\n",
       " 'https://www.whitehouse.gov/briefings-statements/president-donald-j-trump-reforming-civil-service-work-american-people/',\n",
       " 'https://www.whitehouse.gov/briefings-statements/remarks-vice-president-pence-tragedy-assistance-program-survivors-good-grief-camp-arlington-va/',\n",
       " 'https://www.whitehouse.gov/briefings-statements/statement-press-secretary-houthi-missile-strike-turkish-wheat-ship/',\n",
       " 'https://www.whitehouse.gov/briefings-statements/statement-vice-president-mike-pence-presidents-signing-space-policy-directive-2/',\n",
       " 'https://www.whitehouse.gov/briefings-statements/remarks-president-trump-pardoning-john-arthur-jack-johnson/',\n",
       " 'https://www.whitehouse.gov/briefings-statements/remarks-president-trump-presentation-medal-honor-master-chief-britt-slabinski-u-s-navy/',\n",
       " 'https://www.whitehouse.gov/briefings-statements/statement-press-secretary-regarding-pardon-john-arthur-jack-johnson/',\n",
       " 'https://www.whitehouse.gov/briefings-statements/statement-press-secretary-visit-emir-tamim-bin-hamad-al-thani-qatar/',\n",
       " 'https://www.whitehouse.gov/briefings-statements/press-gaggle-deputy-press-secretary-hogan-gidley-040518/',\n",
       " 'https://www.whitehouse.gov/briefings-statements/president-donald-j-trumps-leadership-economy-making-difference-americans/',\n",
       " 'https://www.whitehouse.gov/briefings-statements/tax-reform-paying-off-workers-businesses-west-virginia-around-country/',\n",
       " 'https://www.whitehouse.gov/briefings-statements/need-know-presidents-authorization-national-guard-deploy-southern-border/',\n",
       " 'https://www.whitehouse.gov/briefings-statements/press-briefing-by-press-secretary-sarah-sanders-and-department-of-homeland-security-secretary-kirstjen-nielsen-040418/',\n",
       " 'https://www.whitehouse.gov/briefings-statements/statement-press-secretary-anniversary-april-4-2017-chemical-weapons-attack-khan-shaykhun/',\n",
       " 'https://www.whitehouse.gov/briefings-statements/president-donald-j-trump-signs-h-r-4851-law/',\n",
       " 'https://www.whitehouse.gov/briefings-statements/president-donald-j-trump-signs-h-r-3731-s-2030-s-2040-law/',\n",
       " 'https://www.whitehouse.gov/briefings-statements/need-know-loopholes-allowing-unaccompanied-alien-children-stay-country/',\n",
       " 'https://www.whitehouse.gov/briefings-statements/wtas-support-trump-administrations-approval-opportunity-zones/',\n",
       " 'https://www.whitehouse.gov/briefings-statements/remarks-president-trump-working-lunch-prime-minister-abe-japan/',\n",
       " 'https://www.whitehouse.gov/briefings-statements/readout-first-lady-melania-trumps-visit-flagler-museum-palm-beach-florida/',\n",
       " 'https://www.whitehouse.gov/briefings-statements/president-donald-j-trump-amends-pueblo-acoma-disaster-declaration/',\n",
       " 'https://www.whitehouse.gov/briefings-statements/remarks-president-trump-prime-minister-abe-japan-joint-press-conference/',\n",
       " 'https://www.whitehouse.gov/briefings-statements/statement-press-secretary-calling-congress-fix-loopholes-immigration-laws/',\n",
       " 'https://www.whitehouse.gov/briefings-statements/statement-press-secretary-visit-chancellor-angela-merkel-germany/',\n",
       " 'https://www.whitehouse.gov/briefings-statements/president-donald-j-trump-amends-hoopa-valley-tribe-disaster-declaration/',\n",
       " 'https://www.whitehouse.gov/briefings-statements/statement-vice-president-mike-pence-karen-pence-passing-former-first-lady-barbara-bush/',\n",
       " 'https://www.whitehouse.gov/briefings-statements/statement-president-passing-former-first-lady-barbara-bush/',\n",
       " 'https://www.whitehouse.gov/briefings-statements/artificial-intelligence-american-people/',\n",
       " 'https://www.whitehouse.gov/briefings-statements/readout-president-donald-j-trumps-call-prime-minister-shinzo-abe-japan-9/',\n",
       " 'https://www.whitehouse.gov/briefings-statements/notice-regarding-continuation-national-emergency-respect-central-african-republic-2/',\n",
       " 'https://www.whitehouse.gov/briefings-statements/presidential-message-congress-united-states-8/',\n",
       " 'https://www.whitehouse.gov/briefings-statements/wtas-support-president-donald-j-trumps-nominee-cia-director-gina-haspel/',\n",
       " 'https://www.whitehouse.gov/briefings-statements/statement-press-secretary-iranian-regime-provocation-israel/',\n",
       " 'https://www.whitehouse.gov/briefings-statements/remarks-president-trump-arrival-americans-detained-north-korea/',\n",
       " 'https://www.whitehouse.gov/briefings-statements/statement-press-secretary-visit-president-mirziyoyev-uzbekistan/',\n",
       " 'https://www.whitehouse.gov/briefings-statements/readout-president-donald-j-trumps-call-president-moon-jae-republic-korea-9/',\n",
       " 'https://www.whitehouse.gov/briefings-statements/remarks-first-lady-celebration-military-mothers-spouses-event/',\n",
       " 'https://www.whitehouse.gov/briefings-statements/readout-of-vice-president-mike-pences-meeting-with-prime-minister-justin-trudeau-of-canada/',\n",
       " 'https://www.whitehouse.gov/briefings-statements/readout-of-vice-president-mike-pences-meeting-with-president-sebastian-pinera-of-chile/',\n",
       " 'https://www.whitehouse.gov/briefings-statements/readout-of-vice-president-mike-pences-meeting-with-president-juan-manuel-santos-of-colombia/',\n",
       " 'https://www.whitehouse.gov/briefings-statements/remarks-vice-president-pence-meeting-cuban-dissident/',\n",
       " 'https://www.whitehouse.gov/briefings-statements/remarks-vice-president-pence-meeting-venezuelan-opposition-leaders/',\n",
       " 'https://www.whitehouse.gov/briefings-statements/readout-president-donald-j-trumps-call-prime-minister-theresa-may-united-kingdom-12/',\n",
       " 'https://www.whitehouse.gov/briefings-statements/readout-president-donald-j-trumps-call-president-emmanuel-macron-france-15/',\n",
       " 'https://www.whitehouse.gov/briefings-statements/readout-national-security-advisor-john-boltons-call-national-security-advisor-sheikh-tahnoon-bin-zayed-united-arab-emirates/',\n",
       " 'https://www.whitehouse.gov/briefings-statements/president-donald-j-trump-taken-action-stop-syrian-chemical-weapons-use/',\n",
       " 'https://www.whitehouse.gov/briefings-statements/united-states-government-assessment-assad-regimes-chemical-weapons-use/',\n",
       " 'https://www.whitehouse.gov/briefings-statements/usa-today-trump-supporters-across-america-president-delivering-agenda/',\n",
       " 'https://www.whitehouse.gov/briefings-statements/trump-administration-officials-host-trade-delegation-china/',\n",
       " 'https://www.whitehouse.gov/briefings-statements/united-states-uzbekistan-launching-new-era-strategic-partnership/',\n",
       " 'https://www.whitehouse.gov/briefings-statements/remarks-president-trump-president-mirziyoyev-uzbekistan-bilateral-meeting/',\n",
       " 'https://www.whitehouse.gov/briefings-statements/gina-haspel-earned-praise-leading-committee-vote/',\n",
       " 'https://www.whitehouse.gov/briefings-statements/statement-office-vice-president/',\n",
       " 'https://www.whitehouse.gov/briefings-statements/president-donald-j-trump-enhancing-effectiveness-agency-chief-information-officers/',\n",
       " 'https://www.whitehouse.gov/briefings-statements/remarks-president-trump-37th-annual-national-peace-officers-memorial/',\n",
       " 'https://www.whitehouse.gov/briefings-statements/remarks-vice-president-pence-37th-annual-national-peace-officers-memorial/',\n",
       " 'https://www.whitehouse.gov/briefings-statements/presidential-message-ramadan/',\n",
       " 'https://www.whitehouse.gov/briefings-statements/president-donald-j-trumps-500-days-american-greatness/',\n",
       " 'https://www.whitehouse.gov/briefings-statements/presidential-message-national-cancer-survivors-day/',\n",
       " 'https://www.whitehouse.gov/briefings-statements/president-donald-j-trumps-weekly-address-29/',\n",
       " 'https://www.whitehouse.gov/briefings-statements/remarks-president-trump-meeting-vice-chairman-kim-yong-chol-democratic-peoples-republic-korea/',\n",
       " 'https://www.whitehouse.gov/briefings-statements/statement-press-secretary-fuel-secure-power-facilities/',\n",
       " 'https://www.whitehouse.gov/briefings-statements/president-donald-j-trump-signs-h-r-3562-h-r-4009-s-1285-law/',\n",
       " 'https://www.whitehouse.gov/briefings-statements/remarks-president-trump-u-s-coast-guard-change-command-ceremony/',\n",
       " 'https://www.whitehouse.gov/briefings-statements/nyt-ran-words-describe-good-jobs-numbers/',\n",
       " 'https://www.whitehouse.gov/briefings-statements/readout-president-donald-j-trumps-call-president-emmanuel-macron-france-20/',\n",
       " 'https://www.whitehouse.gov/briefings-statements/american-workers-businesses-continue-see-gains-trump-economy/',\n",
       " 'https://www.whitehouse.gov/briefings-statements/statement-press-secretary-change-format-todays-event/',\n",
       " 'https://www.whitehouse.gov/briefings-statements/president-donald-j-trumps-500-days-making-communities-safer-secure/',\n",
       " 'https://www.whitehouse.gov/briefings-statements/remarks-vice-president-pence-organization-american-states-reception/',\n",
       " 'https://www.whitehouse.gov/briefings-statements/statement-first-lady-melania-trump-gold-star-families/',\n",
       " 'https://www.whitehouse.gov/briefings-statements/statement-by-the-president-2/',\n",
       " 'https://www.whitehouse.gov/briefings-statements/press-briefing-press-secretary-sarah-sanders-060418/',\n",
       " 'https://www.whitehouse.gov/briefings-statements/readout-vice-president-mike-pences-call-president-ecuador-lenin-moreno/',\n",
       " 'https://www.whitehouse.gov/briefings-statements/president-donald-j-trumps-500-days-strengthening-american-economy/',\n",
       " 'https://www.whitehouse.gov/briefings-statements/readout-president-donald-j-trumps-call-prime-minister-theresa-may-united-kingdom-15/',\n",
       " 'https://www.whitehouse.gov/briefings-statements/readout-discussions-administration-officials-delegation-china-regarding-trade-relationship-united-states-china/',\n",
       " 'https://www.whitehouse.gov/briefings-statements/president-donald-j-trump-hosts-nato-secretary-general-jens-stoltenberg-white-house/',\n",
       " 'https://www.whitehouse.gov/briefings-statements/remarks-president-trump-secretary-general-stoltenberg-nato-bilateral-meeting/',\n",
       " 'https://www.whitehouse.gov/briefings-statements/remarks-president-trump-nato-secretary-general-stoltenberg-expanded-bilateral-meeting/',\n",
       " 'https://www.whitehouse.gov/briefings-statements/statement-press-secretary-move-guatemalan-embassy-tel-aviv-jerusalem-israel/',\n",
       " 'https://www.whitehouse.gov/briefings-statements/press-briefing-press-secretary-sarah-sanders-acting-secretary-veterans-affairs-robert-wilkie-05172018/',\n",
       " 'https://www.whitehouse.gov/briefings-statements/presidential-message-congress-united-states-10/',\n",
       " 'https://www.whitehouse.gov/briefings-statements/presidential-message-congress-united-states-9/',\n",
       " 'https://www.whitehouse.gov/briefings-statements/statement-press-secretary-regarding-united-states-united-arab-emirates-open-skies-understanding/',\n",
       " 'https://www.whitehouse.gov/briefings-statements/statement-press-secretary-house-passage-va-mission-act/',\n",
       " 'https://www.whitehouse.gov/briefings-statements/remarks-president-trump-california-sanctuary-state-roundtable/',\n",
       " 'https://www.whitehouse.gov/briefings-statements/statement-president-trump-syria/',\n",
       " 'https://www.whitehouse.gov/briefings-statements/president-donald-j-trumps-weekly-address-04132018/',\n",
       " 'https://www.whitehouse.gov/briefings-statements/photos-week-041318/',\n",
       " 'https://www.whitehouse.gov/briefings-statements/text-letter-president-speaker-house-representatives-4/',\n",
       " 'https://www.whitehouse.gov/briefings-statements/press-briefing-press-secretary-sarah-sanders-041318/',\n",
       " 'https://www.whitehouse.gov/briefings-statements/president-donald-j-trump-signs-h-r-4547-s-772-law/',\n",
       " 'https://www.whitehouse.gov/briefings-statements/statement-press-secretary-regarding-pardon-scooter-lewis-libby/',\n",
       " 'https://www.whitehouse.gov/briefings-statements/need-know-president-donald-j-trumps-success-opening-international-markets-u-s-agriculture/',\n",
       " 'https://www.whitehouse.gov/briefings-statements/readout-president-donald-j-trumps-call-prime-minister-theresa-may-united-kingdom-11/',\n",
       " 'https://www.whitehouse.gov/briefings-statements/remarks-president-trump-tax-cuts-american-workers/',\n",
       " 'https://www.whitehouse.gov/briefings-statements/remarks-president-trump-lowering-drug-prices/',\n",
       " 'https://www.whitehouse.gov/briefings-statements/remarks-president-trump-roundtable-automaker-ceos/',\n",
       " 'https://www.whitehouse.gov/briefings-statements/president-donald-j-trumps-blueprint-lower-drug-prices/',\n",
       " 'https://www.whitehouse.gov/briefings-statements/gina-haspels-confirmation-central-national-security/',\n",
       " 'https://www.whitehouse.gov/briefings-statements/readout-president-donald-j-trumps-call-prime-minister-lee-hsien-loong-singapore-3/',\n",
       " 'https://www.whitehouse.gov/briefings-statements/statement-press-secretary-visit-secretary-general-jens-stoltenberg-north-atlantic-treaty-organization/',\n",
       " 'https://www.whitehouse.gov/briefings-statements/statement-press-secretary-argentina/',\n",
       " 'https://www.whitehouse.gov/briefings-statements/statement-press-secretary-regarding-prime-minister-tun-dr-mahathir-mohamad-malaysia/',\n",
       " 'https://www.whitehouse.gov/briefings-statements/press-gaggle-principal-deputy-press-secretary-raj-shah/',\n",
       " 'https://www.whitehouse.gov/briefings-statements/wtas-trump-administration-secures-release-three-americans-north-korea/',\n",
       " 'https://www.whitehouse.gov/briefings-statements/background-press-briefing-upcoming-state-visit-president-macron-france-042318/',\n",
       " 'https://www.whitehouse.gov/briefings-statements/op-eds-editorials-call-mike-pompeo-confirmed-secretary-state/',\n",
       " 'https://www.whitehouse.gov/briefings-statements/president-donald-j-trump-amends-resighini-rancheria-disaster-declaration/',\n",
       " 'https://www.whitehouse.gov/briefings-statements/readout-vice-president-mike-pences-meeting-german-vice-chancellor-minister-finance-olaf-scholz/',\n",
       " 'https://www.whitehouse.gov/briefings-statements/text-letter-certain-congressional-committees-regarding-cyber-policy-report/',\n",
       " 'https://www.whitehouse.gov/briefings-statements/remarks-president-trump-briefing-joint-interagency-task-force-south-northcom-southcom/',\n",
       " 'https://www.whitehouse.gov/briefings-statements/statement-press-secretary-arms-transfer-unmanned-aerial-systems-export-reforms/',\n",
       " 'https://www.whitehouse.gov/briefings-statements/president-donald-j-trump-visits-joint-interagency-task-force-south/',\n",
       " 'https://www.whitehouse.gov/briefings-statements/remarks-president-trump-prime-minister-abe-japan-dinner-reception/',\n",
       " 'https://www.whitehouse.gov/briefings-statements/president-donald-j-trumps-summit-meeting-prime-minister-shinzo-abe/']"
      ]
     },
     "execution_count": 39,
     "metadata": {},
     "output_type": "execute_result"
    }
   ],
   "source": [
    "from bs4 import BeautifulSoup\n",
    "from glob import glob\n",
    "from os.path import join\n",
    "from urllib.parse import urljoin\n",
    "\n",
    "INDEX_PAGES_DIR = 'index-pages'\n",
    "WH_BASE_URL = 'https://www.whitehouse.gov/briefings-statements/'\n",
    "\n",
    "links = []\n",
    "ip_fnames = glob(join(INDEX_PAGES_DIR, '*.html'))\n",
    "for fname in ip_fnames:\n",
    "    with open(fname,'r') as rf:\n",
    "        txt = rf.read()\n",
    "    \n",
    "    soup = BeautifulSoup(txt,'lxml')\n",
    "    for h in soup.find_all('h2'):\n",
    "        a = h.find('a')\n",
    "        links.append(a.attrs['href'])\n",
    "links"
   ]
  },
  {
   "cell_type": "code",
   "execution_count": 40,
   "metadata": {},
   "outputs": [
    {
     "data": {
      "text/plain": [
       "['https://www.whitehouse.gov/briefings-statements/presidential-message-congress-united-states-7/',\n",
       " 'https://www.whitehouse.gov/briefings-statements/notice-regarding-continuation-national-emergency-respect-actions-government-syria-2/',\n",
       " 'https://www.whitehouse.gov/briefings-statements/statement-vice-president-mike-pence-release-three-americans/',\n",
       " 'https://www.whitehouse.gov/briefings-statements/statement-press-secretary-release-three-americans/',\n",
       " 'https://www.whitehouse.gov/briefings-statements/readout-president-donald-j-trumps-call-president-emmanuel-macron-france-18/',\n",
       " 'https://www.whitehouse.gov/briefings-statements/gina-haspel-defended-national-security/',\n",
       " 'https://www.whitehouse.gov/briefings-statements/press-briefing-national-security-advisor-john-bolton-iran/',\n",
       " 'https://www.whitehouse.gov/briefings-statements/remarks-first-lady-melania-trump-todays-spouses-senate-luncheon/',\n",
       " 'https://www.whitehouse.gov/briefings-statements/presidential-message-congress-united-states-6/',\n",
       " 'https://www.whitehouse.gov/briefings-statements/presidential-message-congress-united-states-5/',\n",
       " 'https://www.whitehouse.gov/briefings-statements/press-briefing-press-secretary-sarah-sanders-042318/',\n",
       " 'https://www.whitehouse.gov/briefings-statements/secretary-carson-unlocking-americas-full-potential/',\n",
       " 'https://www.whitehouse.gov/briefings-statements/remarks-cea-chairman-kevin-hassett-new-york-federal-reserve-bank/',\n",
       " 'https://www.whitehouse.gov/briefings-statements/editorial-boards-across-country-call-mike-pompeos-confirmation/',\n",
       " 'https://www.whitehouse.gov/briefings-statements/first-lady-melania-trump-releases-details-trump-administrations-first-state-visit/',\n",
       " 'https://www.whitehouse.gov/briefings-statements/presidential-message-earth-day-2018/',\n",
       " 'https://www.whitehouse.gov/briefings-statements/statement-first-lady-melania-trump-barbara-bush/',\n",
       " 'https://www.whitehouse.gov/briefings-statements/remarks-vice-president-pence-tax-cuts-put-america-first-event-6/',\n",
       " 'https://www.whitehouse.gov/briefings-statements/photos-of-the-week-042018/',\n",
       " 'https://www.whitehouse.gov/briefings-statements/white-house-national-security-advisor-announces-senior-staff-appointment/',\n",
       " 'https://www.whitehouse.gov/briefings-statements/president-donald-j-trump-sign-right-try-legislation-fulfilling-promise-made-expand-healthcare-options-terminal-americans/',\n",
       " 'https://www.whitehouse.gov/briefings-statements/aeis-marc-thiessen-thank-republicans-right-try/',\n",
       " 'https://www.whitehouse.gov/briefings-statements/cea-report-potential-youth-sports-improve-childhood-outcomes/',\n",
       " 'https://www.whitehouse.gov/briefings-statements/readout-vice-president-mike-pence-canadian-prime-minister-justin-trudeau/',\n",
       " 'https://www.whitehouse.gov/briefings-statements/press-gaggle-by-press-secretary-sarah-sanders-052918/',\n",
       " 'https://www.whitehouse.gov/briefings-statements/president-donald-j-trump-confronting-chinas-unfair-trade-policies/',\n",
       " 'https://www.whitehouse.gov/briefings-statements/statement-steps-protect-domestic-technology-intellectual-property-chinas-discriminatory-burdensome-trade-practices/',\n",
       " 'https://www.whitehouse.gov/briefings-statements/remarks-president-trump-memorial-day-ceremony/',\n",
       " 'https://www.whitehouse.gov/briefings-statements/readout-president-donald-j-trumps-call-prime-minister-shinzo-abe-japan-10/',\n",
       " 'https://www.whitehouse.gov/briefings-statements/remarks-president-trump-meeting-u-s-citizen-freed-venezuela/',\n",
       " 'https://www.whitehouse.gov/briefings-statements/statement-press-secretary-visit-united-nations-secretary-general-antonio-guterres/',\n",
       " 'https://www.whitehouse.gov/briefings-statements/statement-press-secretary-terrorist-attack-paris/',\n",
       " 'https://www.whitehouse.gov/briefings-statements/readout-president-donald-j-trumps-call-president-emmanuel-macron-france-19/',\n",
       " 'https://www.whitehouse.gov/briefings-statements/presidential-message-national-womens-health-week/',\n",
       " 'https://www.whitehouse.gov/briefings-statements/remarks-vice-president-pence-hillsdale-college-166th-commencement-ceremony/',\n",
       " 'https://www.whitehouse.gov/briefings-statements/president-donald-j-trump-approves-hawaii-disaster-declaration-2/',\n",
       " 'https://www.whitehouse.gov/briefings-statements/press-briefing-press-secretary-sarah-sanders-hhs-secretary-alex-azar-051118/',\n",
       " 'https://www.whitehouse.gov/briefings-statements/readout-president-donald-j-trumps-call-prime-minister-theresa-may-united-kingdom-14/',\n",
       " 'https://www.whitehouse.gov/briefings-statements/anthony-tersigni-congresss-chance-right-veterans/',\n",
       " 'https://www.whitehouse.gov/briefings-statements/statement-press-secretary-iranian-aggression-saudi-arabia-israel/',\n",
       " 'https://www.whitehouse.gov/briefings-statements/remarks-vice-president-pence-34th-space-symposium-colorado-springs-co/',\n",
       " 'https://www.whitehouse.gov/briefings-statements/president-trump-announces-presidential-delegation-official-working-visit-prime-minister-abe-japan/',\n",
       " 'https://www.whitehouse.gov/briefings-statements/remarks-president-trump-tax-cuts-florida-small-businesses-roundtable-hialeah-fl/',\n",
       " 'https://www.whitehouse.gov/briefings-statements/president-donald-j-trumps-tax-cuts-will-generate-greater-economic-opportunity/',\n",
       " 'https://www.whitehouse.gov/briefings-statements/press-gaggle-by-press-secretary-sarah-sanders-041618/',\n",
       " 'https://www.whitehouse.gov/briefings-statements/text-letter-president-speaker-house-representatives-president-pro-tempore-senate-3/',\n",
       " 'https://www.whitehouse.gov/briefings-statements/statement-press-secretary-visit-president-muhammadu-buhari-nigeria/',\n",
       " 'https://www.whitehouse.gov/briefings-statements/remarks-by-vice-president-pence-at-first-plenary-session-of-the-summit-of-the-americas/',\n",
       " 'https://www.whitehouse.gov/briefings-statements/readout-of-vice-president-mike-pences-meeting-with-president-martin-vizcarra-of-peru/',\n",
       " 'https://www.whitehouse.gov/briefings-statements/readout-of-vice-president-mike-pences-meeting-with-president-enrique-pena-nieto-of-mexico/',\n",
       " 'https://www.whitehouse.gov/briefings-statements/president-donald-j-trump-signs-s-2372-law/',\n",
       " 'https://www.whitehouse.gov/briefings-statements/president-trump-commutes-sentence-alice-marie-johnson/',\n",
       " 'https://www.whitehouse.gov/briefings-statements/president-donald-j-trump-provides-resources-veterans-get-care-deserve-doctors-want/',\n",
       " 'https://www.whitehouse.gov/briefings-statements/president-donald-j-trumps-500-days-making-government-accountable-american-people/',\n",
       " 'https://www.whitehouse.gov/briefings-statements/president-donald-j-trump-signs-s-292-s-1282-law/',\n",
       " 'https://www.whitehouse.gov/briefings-statements/remarks-president-trump-signing-ceremony-s-292-childhood-cancer-survivorship-treatment-access-research-act-2018/',\n",
       " 'https://www.whitehouse.gov/briefings-statements/presidential-message-congress-united-states-13/',\n",
       " 'https://www.whitehouse.gov/briefings-statements/press-briefing-press-secretary-sarah-sanders-cea-chairman-kevin-hassett-060518/',\n",
       " 'https://www.whitehouse.gov/briefings-statements/remarks-president-trump-celebration-america-event/',\n",
       " 'https://www.whitehouse.gov/briefings-statements/results-president-donald-j-trumps-pro-growth-agenda/',\n",
       " 'https://www.whitehouse.gov/briefings-statements/remarks-vice-president-pence-visit-members-indiana-national-guard-38th-infantry-division/',\n",
       " 'https://www.whitehouse.gov/briefings-statements/president-donald-j-trump-amends-u-s-virgin-islands-disaster-declarations-2/',\n",
       " 'https://www.whitehouse.gov/briefings-statements/remarks-president-trump-white-house-prison-reform-summit/',\n",
       " 'https://www.whitehouse.gov/briefings-statements/president-donald-j-trump-supports-legislative-action-reduce-recidivism-prison-system/',\n",
       " 'https://www.whitehouse.gov/briefings-statements/remarks-vice-president-pence-white-house-prison-reform-summit/',\n",
       " 'https://www.whitehouse.gov/briefings-statements/presidential-message-congress-united-states-11/',\n",
       " 'https://www.whitehouse.gov/briefings-statements/notice-regarding-continuation-national-emergency-respect-stabilization-iraq-2/',\n",
       " 'https://www.whitehouse.gov/briefings-statements/cea-report-returns-investments-recidivism-reducing-programs/',\n",
       " 'https://www.whitehouse.gov/briefings-statements/readout-discussions-delegation-china-regarding-trade-relationship/',\n",
       " 'https://www.whitehouse.gov/briefings-statements/president-donald-j-trump-prioritizes-efficiency-federal-government/',\n",
       " 'https://www.whitehouse.gov/briefings-statements/president-donald-j-trump-reducing-barriers-holding-back-american-manufacturers/',\n",
       " 'https://www.whitehouse.gov/briefings-statements/remarks-president-trump-meeting-governors-members-congress/',\n",
       " 'https://www.whitehouse.gov/briefings-statements/president-donald-j-trumps-tax-cuts-energizing-american-employers-sizes/',\n",
       " 'https://www.whitehouse.gov/briefings-statements/president-donald-j-trump-approves-kentucky-disaster-declaration/',\n",
       " 'https://www.whitehouse.gov/briefings-statements/readout-president-donald-j-trumps-call-president-recep-tayyip-erdogan-turkey-7/',\n",
       " 'https://www.whitehouse.gov/briefings-statements/excerpts-cia-director-pompeos-prepared-remarks/',\n",
       " 'https://www.whitehouse.gov/briefings-statements/press-briefing-by-press-secretary-sarah-sanders-041118/',\n",
       " 'https://www.whitehouse.gov/briefings-statements/president-donald-j-trump-signs-h-r-1865-law/',\n",
       " 'https://www.whitehouse.gov/briefings-statements/remarks-president-trump-signing-h-r-1865-allow-states-victims-fight-online-sex-trafficking-act-2017/',\n",
       " 'https://www.whitehouse.gov/briefings-statements/signing-allow-states-victims-fight-online-sex-trafficking-act-president-donald-j-trump-provides-invaluable-tools-needed-fight-scourge-sex-trafficking/',\n",
       " 'https://www.whitehouse.gov/briefings-statements/statement-vice-president-mike-pence-speaker-ryans-decision-not-seek-re-election/',\n",
       " 'https://www.whitehouse.gov/briefings-statements/readout-president-donald-j-trumps-meeting-amir-tamim-bin-hamad-al-thani/',\n",
       " 'https://www.whitehouse.gov/briefings-statements/statement-press-secretary-supporting-goals-better-utilization-investments-leading-development-build-act-2018/',\n",
       " 'https://www.whitehouse.gov/briefings-statements/president-donald-j-trumps-economic-mobility-reforms-will-restore-independence-dignity-millions-americans/',\n",
       " 'https://www.whitehouse.gov/briefings-statements/statement-press-secretary-regarding-presidential-proclamation-lift-entry-restrictions-nationals-republic-chad/',\n",
       " 'https://www.whitehouse.gov/briefings-statements/press-briefing-press-secretary-sarah-sanders-041018/',\n",
       " 'https://www.whitehouse.gov/briefings-statements/remarks-president-trump-welcoming-2017-ncaa-football-national-champions-alabama-crimson-tide/',\n",
       " 'https://www.whitehouse.gov/briefings-statements/gov-doug-ducey-national-guard-needed-border/',\n",
       " 'https://www.whitehouse.gov/briefings-statements/remarks-president-trump-amir-tamim-bin-hamad-al-thani-state-qatar-bilateral-meeting/',\n",
       " 'https://www.whitehouse.gov/briefings-statements/saying-support-president-donald-j-trumps-action-improve-federal-infrastructure-permitting/',\n",
       " 'https://www.whitehouse.gov/briefings-statements/remarks-president-trump-swearing-ceremony-gina-haspel-director-central-intelligence-agency/',\n",
       " 'https://www.whitehouse.gov/briefings-statements/statement-vice-president-mike-pence-venezuelas-elections/',\n",
       " 'https://www.whitehouse.gov/briefings-statements/presidential-message-cuban-independence-day/',\n",
       " 'https://www.whitehouse.gov/briefings-statements/readout-president-donald-j-trumps-call-president-moon-jae-republic-korea-10/',\n",
       " 'https://www.whitehouse.gov/briefings-statements/readout-vice-president-mike-pences-phone-call-greek-prime-minister-alexis-tsipras/',\n",
       " 'https://www.whitehouse.gov/briefings-statements/joint-statement-united-states-china-regarding-trade-consultations/',\n",
       " 'https://www.whitehouse.gov/briefings-statements/statement-communications-director-first-lady-melania-trump-2/',\n",
       " 'https://www.whitehouse.gov/briefings-statements/remarks-vice-president-pence-tax-cuts-put-america-first-event-8/',\n",
       " 'https://www.whitehouse.gov/briefings-statements/statement-press-secretary-regarding-proposed-title-x-family-planning-program-rule-department-health-human-services/',\n",
       " 'https://www.whitehouse.gov/briefings-statements/readout-president-donald-j-trumps-meeting-united-nations-secretary-general-antonio-guterres-2/',\n",
       " 'https://www.whitehouse.gov/briefings-statements/wtas-support-president-donald-j-trumps-signing-va-mission-act/',\n",
       " 'https://www.whitehouse.gov/briefings-statements/remarks-president-trump-white-house-iftar-dinner/',\n",
       " 'https://www.whitehouse.gov/briefings-statements/statement-by-the-president-3/',\n",
       " 'https://www.whitehouse.gov/briefings-statements/remarks-president-trump-2018-hurricane-briefing-3/',\n",
       " 'https://www.whitehouse.gov/briefings-statements/remarks-vice-president-pence-2018-hurricane-briefing/',\n",
       " 'https://www.whitehouse.gov/briefings-statements/remarks-president-trump-2018-hurricane-briefing/',\n",
       " 'https://www.whitehouse.gov/briefings-statements/wall-street-journal-american-job-openings-now-outnumber-jobless/',\n",
       " 'https://www.whitehouse.gov/briefings-statements/press-briefing-nec-director-larry-kudlow-g7-summit-060618/',\n",
       " 'https://www.whitehouse.gov/briefings-statements/townhall-columnist-wayne-allyn-root-trump-miracle/',\n",
       " 'https://www.whitehouse.gov/briefings-statements/remarks-president-trump-signing-va-mission-act-2018/',\n",
       " 'https://www.whitehouse.gov/briefings-statements/statement-first-lady-melania-trump-passing-barbara-bush/',\n",
       " 'https://www.whitehouse.gov/briefings-statements/remarks-president-trump-prime-minister-abe-japan-restricted-bilateral-meeting/',\n",
       " 'https://www.whitehouse.gov/briefings-statements/president-donald-j-trump-approves-ohio-disaster-declaration/',\n",
       " 'https://www.whitehouse.gov/briefings-statements/remarks-president-trump-prime-minister-abe-japan-bilateral-meeting-mar-lago-fl/',\n",
       " 'https://www.whitehouse.gov/briefings-statements/saying-goodbye-outdated-tax-code/',\n",
       " 'https://www.whitehouse.gov/briefings-statements/press-briefing-nec-director-assistant-president-economic-policy-larry-kudlow-nsc-senior-director-asian-affairs-matthew-pottinger-official-working-visit-prime-minist-041718/',\n",
       " 'https://www.whitehouse.gov/briefings-statements/president-donald-j-trump-prime-minister-shinzo-abe-working-together-strengthen-u-s-japan-alliance/',\n",
       " 'https://www.whitehouse.gov/briefings-statements/readout-second-lady-karen-pences-visit-childrens-national-health-system/',\n",
       " 'https://www.whitehouse.gov/briefings-statements/president-donald-j-trump-approves-west-virginia-disaster-declaration/',\n",
       " 'https://www.whitehouse.gov/briefings-statements/old-new-tax-cuts-reforms-look-hardworking-taxpayers/',\n",
       " 'https://www.whitehouse.gov/briefings-statements/wtas-support-opening-united-states-embassy-jerusalem/',\n",
       " 'https://www.whitehouse.gov/briefings-statements/remarks-vice-president-pence-israels-70th-independence-day-celebration/',\n",
       " 'https://www.whitehouse.gov/briefings-statements/readout-president-donald-j-trumps-call-prime-minister-justin-trudeau-canada-7/',\n",
       " 'https://www.whitehouse.gov/briefings-statements/press-briefing-principal-deputy-press-secretary-raj-shah-051418/',\n",
       " 'https://www.whitehouse.gov/briefings-statements/statement-communications-director-first-lady-melania-trump/',\n",
       " 'https://www.whitehouse.gov/briefings-statements/readout-president-donald-j-trumps-call-president-mauricio-macri-argentina-4/',\n",
       " 'https://www.whitehouse.gov/briefings-statements/text-letter-president-chairmen-house-committees-armed-services-foreign-affairs-intelligence-appropriations-senate-committees-armed-services-foreign-r/',\n",
       " 'https://www.whitehouse.gov/briefings-statements/text-letter-president-speaker-house-representatives-president-senate-28/',\n",
       " 'https://www.whitehouse.gov/briefings-statements/notice-regarding-continuation-national-emergency-respect-yemen/',\n",
       " 'https://www.whitehouse.gov/briefings-statements/president-donald-j-trump-keeps-promise-open-u-s-embassy-jerusalem-israel/',\n",
       " 'https://www.whitehouse.gov/briefings-statements/press-gaggle-by-deputy-press-secretary-hogan-gidley-053118/',\n",
       " 'https://www.whitehouse.gov/briefings-statements/remarks-president-trump-air-force-one-departure-2/',\n",
       " 'https://www.whitehouse.gov/briefings-statements/statement-press-secretary-regarding-pardon-dinesh-dsouza/',\n",
       " 'https://www.whitehouse.gov/briefings-statements/president-donald-j-trump-approves-section-232-tariff-modifications-2/',\n",
       " 'https://www.whitehouse.gov/briefings-statements/remarks-president-trump-white-house-sports-fitness-day/',\n",
       " 'https://www.whitehouse.gov/briefings-statements/press-briefing-press-secretary-sarah-sanders-053018/',\n",
       " 'https://www.whitehouse.gov/briefings-statements/president-donald-j-trump-approves-maine-disaster-declaration-2/',\n",
       " 'https://www.whitehouse.gov/briefings-statements/remarks-president-trump-s-204-right-try-bill-signing/',\n",
       " 'https://www.whitehouse.gov/briefings-statements/president-donald-j-trump-signs-s-204-law/',\n",
       " 'https://www.whitehouse.gov/briefings-statements/remarks-vice-president-pence-s-204-right-try-bill-signing/',\n",
       " 'https://www.whitehouse.gov/briefings-statements/statement-press-secretary-committee-approval-secretary-state-designate-mike-pompeo/',\n",
       " 'https://www.whitehouse.gov/briefings-statements/statement-press-secretary-tragedy-toronto-canada/',\n",
       " 'https://www.whitehouse.gov/briefings-statements/statement-president-signing-h-r-3445/',\n",
       " 'https://www.whitehouse.gov/briefings-statements/remarks-vice-president-pence-meeting-nasa-senior-leadership/',\n",
       " 'https://www.whitehouse.gov/briefings-statements/remarks-vice-president-pence-swearing-ceremony-nasa-administrator-jim-bridenstine-call-international-space-station/',\n",
       " 'https://www.whitehouse.gov/briefings-statements/vice-president-mike-pence-announces-lieutenant-general-ret-keith-kellogg-national-security-advisor/',\n",
       " 'https://www.whitehouse.gov/briefings-statements/president-donald-j-trump-signs-h-r-3445-h-r-3979-law/',\n",
       " 'https://www.whitehouse.gov/briefings-statements/president-donald-j-trump-president-emmanuel-macron-continue-build-trans-atlantic-alliance/',\n",
       " 'https://www.whitehouse.gov/briefings-statements/second-lady-karen-pence-adds-official-china-collection-vice-presidents-residence/',\n",
       " 'https://www.whitehouse.gov/briefings-statements/readout-president-donald-j-trumps-call-president-sauli-niinisto-finland/',\n",
       " 'https://www.whitehouse.gov/briefings-statements/press-briefing-press-secretary-sarah-sanders-050918/',\n",
       " 'https://www.whitehouse.gov/briefings-statements/president-donald-j-trump-signs-s-447-law/',\n",
       " 'https://www.whitehouse.gov/briefings-statements/remarks-president-trump-celebration-military-mothers-spouses-event/',\n",
       " 'https://www.whitehouse.gov/briefings-statements/letter-congressional-committees-regarding-reports-united-states-strategy-defeat-isis-united-states-use-military-force/',\n",
       " 'https://www.whitehouse.gov/briefings-statements/president-donald-j-trump-enhancing-opportunity-military-families/',\n",
       " 'https://www.whitehouse.gov/briefings-statements/remarks-vice-president-pence-working-lunch-council-americas-u-s-engagement-western-hemisphere/',\n",
       " 'https://www.whitehouse.gov/briefings-statements/wtas-support-president-donald-j-trumps-decision-end-united-states-participation-iran-deal/',\n",
       " 'https://www.whitehouse.gov/briefings-statements/cea-report-military-spouses-labor-market/',\n",
       " 'https://www.whitehouse.gov/briefings-statements/remarks-president-trump-cabinet-meeting-8/',\n",
       " 'https://www.whitehouse.gov/briefings-statements/gina-haspel-continues-earn-widespread-support/',\n",
       " 'https://www.whitehouse.gov/briefings-statements/remarks-president-trump-swearing-ceremony-mike-pompeo-secretary-state/',\n",
       " 'https://www.whitehouse.gov/briefings-statements/wall-street-journal-mother-teresa-counterterrorism-cia-unveils-gina-haspel/',\n",
       " 'https://www.whitehouse.gov/briefings-statements/wtas-widespread-praise-gina-haspel-president-trumps-nominee-cia-director/',\n",
       " 'https://www.whitehouse.gov/briefings-statements/remarks-vice-president-pence-tax-cuts-put-america-first-event-phoenix-az/',\n",
       " 'https://www.whitehouse.gov/briefings-statements/press-briefing-press-secretary-sarah-sanders-050118/',\n",
       " 'https://www.whitehouse.gov/briefings-statements/remarks-president-trump-welcoming-crew-passengers-southwest-airlines-flight-1380-white-house/',\n",
       " 'https://www.whitehouse.gov/briefings-statements/remarks-president-trump-presenting-commander-chiefs-trophy-u-s-military-academy-football-team/',\n",
       " 'https://www.whitehouse.gov/briefings-statements/president-trump-announces-presidential-delegation-republic-costa-rica-attend-inauguration-excellency-carlos-alvarado/',\n",
       " 'https://www.whitehouse.gov/briefings-statements/president-donald-j-trump-approves-section-232-tariff-modifications/',\n",
       " 'https://www.whitehouse.gov/briefings-statements/president-donald-j-trump-signs-s-167-law/',\n",
       " 'https://www.whitehouse.gov/briefings-statements/press-briefing-secretary-state-mike-pompeo-060718/',\n",
       " 'https://www.whitehouse.gov/briefings-statements/washington-examiner-3-billion-payoff-101-utilities-cut-rates-credit-gop-tax-cuts/',\n",
       " 'https://www.whitehouse.gov/briefings-statements/remarks-president-trump-prime-minister-abe-japan-bilateral-meeting-3/',\n",
       " 'https://www.whitehouse.gov/briefings-statements/record-press-call-youth-opioid-prevention-ad-campaign/',\n",
       " 'https://www.whitehouse.gov/briefings-statements/readout-vice-presidents-call-pakistani-prime-minister-nasir-ul-mulk/',\n",
       " 'https://www.whitehouse.gov/briefings-statements/washington-examiner-total-jobless-claims-running-lowest-level-44-years/',\n",
       " 'https://www.whitehouse.gov/briefings-statements/statement-press-secretary-volcano-eruption-guatemala/',\n",
       " 'https://www.whitehouse.gov/briefings-statements/president-donald-j-trump-taking-action-stop-youth-opioid-abuse/',\n",
       " 'https://www.whitehouse.gov/briefings-statements/statement-press-secretary-regarding-youth-opioid-prevention-ad-campaign/',\n",
       " 'https://www.whitehouse.gov/briefings-statements/president-donald-j-trumps-500-days-winning-world-stage/',\n",
       " 'https://www.whitehouse.gov/briefings-statements/president-donald-j-trump-signs-h-r-3210-law/',\n",
       " 'https://www.whitehouse.gov/briefings-statements/president-donald-j-trump-defending-american-values/',\n",
       " 'https://www.whitehouse.gov/briefings-statements/press-briefing-press-secretary-sarah-sanders-052218/',\n",
       " 'https://www.whitehouse.gov/briefings-statements/support-trump-administrations-proposed-title-x-rule/',\n",
       " 'https://www.whitehouse.gov/briefings-statements/remarks-president-trump-president-moon-republic-korea-bilateral-meeting-2/',\n",
       " 'https://www.whitehouse.gov/briefings-statements/presidential-message-congress-united-states-12/',\n",
       " 'https://www.whitehouse.gov/briefings-statements/statement-president-donald-j-trump-maduro-regime-venezuela/',\n",
       " 'https://www.whitehouse.gov/briefings-statements/optimism-availability-good-jobs-hits-new-heights/',\n",
       " 'https://www.whitehouse.gov/briefings-statements/remarks-president-trump-hosting-2017-nascar-cup-series-champion-martin-truex-jr-team/',\n",
       " 'https://www.whitehouse.gov/briefings-statements/president-donald-j-trump-signs-s-j-res-57-law/',\n",
       " 'https://www.whitehouse.gov/briefings-statements/readout-president-donald-j-trumps-call-prime-minister-theresa-may-united-kingdom-9/',\n",
       " 'https://www.whitehouse.gov/briefings-statements/statement-vice-president-mike-pences-deputy-chief-staff-communications-director-jarrod-agen/',\n",
       " 'https://www.whitehouse.gov/briefings-statements/readout-president-donald-j-trumps-meeting-defense-military-leaders/',\n",
       " 'https://www.whitehouse.gov/briefings-statements/readout-president-donald-j-trumps-call-president-emmanuel-macron-france-14/',\n",
       " 'https://www.whitehouse.gov/briefings-statements/remarks-president-trump-meeting-senior-military-leadership/',\n",
       " 'https://www.whitehouse.gov/briefings-statements/press-briefing-press-secretary-sarah-sanders-040918/',\n",
       " 'https://www.whitehouse.gov/briefings-statements/peter-navarro-donald-trump-standing-american-interests/',\n",
       " 'https://www.whitehouse.gov/briefings-statements/president-donald-j-trump-presides-signing-one-federal-decision-memorandum-understanding-major-infrastructure-projects/',\n",
       " 'https://www.whitehouse.gov/briefings-statements/need-know-president-donald-j-trumps-efforts-end-catch-release/',\n",
       " 'https://www.whitehouse.gov/briefings-statements/remarks-president-trump-cabinet-meeting-7/',\n",
       " 'https://www.whitehouse.gov/briefings-statements/remarks-president-trump-launch-first-ladys-initiatives/',\n",
       " 'https://www.whitehouse.gov/briefings-statements/president-donald-j-trump-award-medal-honor-3/',\n",
       " 'https://www.whitehouse.gov/briefings-statements/remarks-first-lady-launch-best-initiative/',\n",
       " 'https://www.whitehouse.gov/briefings-statements/press-briefing-press-secretary-sarah-sanders-050718/',\n",
       " 'https://www.whitehouse.gov/briefings-statements/presidential-message-congress-united-states-4/',\n",
       " 'https://www.whitehouse.gov/briefings-statements/remarks-vice-president-pence-protocolary-meeting-organization-american-states/',\n",
       " 'https://www.whitehouse.gov/briefings-statements/president-donald-j-trump-signs-h-r-4300-law/',\n",
       " 'https://www.whitehouse.gov/briefings-statements/first-lady-melania-trump-announces-best-campaign-address-major-issues-facing-children-today/',\n",
       " 'https://www.whitehouse.gov/briefings-statements/president-trump-announces-presidential-delegation-state-israel-attend-opening-united-states-embassy-jerusalem-israel/',\n",
       " 'https://www.whitehouse.gov/briefings-statements/gina-haspel-best-choice-cia-director/',\n",
       " 'https://www.whitehouse.gov/briefings-statements/remarks-president-trump-president-macron-france-state-dinner/',\n",
       " 'https://www.whitehouse.gov/briefings-statements/expected-attendees-tonights-dinner-honor-excellency-emmanuel-macron-president-french-republic-mrs-brigitte-macron/',\n",
       " 'https://www.whitehouse.gov/briefings-statements/remarks-vice-president-pence-president-macron-france-state-luncheon/',\n",
       " 'https://www.whitehouse.gov/briefings-statements/statement-press-secretary-nicaragua/',\n",
       " 'https://www.whitehouse.gov/briefings-statements/remarks-president-trump-president-macron-france-joint-press-conference/',\n",
       " 'https://www.whitehouse.gov/briefings-statements/statement-president-armenian-remembrance-day-2018/',\n",
       " 'https://www.whitehouse.gov/briefings-statements/remarks-president-trump-president-macron-france-restricted-bilateral-meeting/',\n",
       " 'https://www.whitehouse.gov/briefings-statements/readout-first-lady-melania-trumps-visit-national-gallery-art/',\n",
       " 'https://www.whitehouse.gov/briefings-statements/remarks-president-trump-president-macron-expanded-bilateral-meeting/',\n",
       " 'https://www.whitehouse.gov/briefings-statements/remarks-president-trump-president-macron-france-arrival-ceremony/',\n",
       " 'https://www.whitehouse.gov/briefings-statements/text-letter-president-speaker-house-representatives-president-senate-25/',\n",
       " 'https://www.whitehouse.gov/briefings-statements/statement-press-secretary-syria/',\n",
       " 'https://www.whitehouse.gov/briefings-statements/readout-president-donald-j-trumps-call-president-emmanuel-macron-france-12/',\n",
       " 'https://www.whitehouse.gov/briefings-statements/statement-press-secretary-houthi-commercial-maritime-attack/',\n",
       " 'https://www.whitehouse.gov/briefings-statements/readout-president-donald-j-trumps-call-prime-minister-benjamin-netanyahu-israel/',\n",
       " 'https://www.whitehouse.gov/briefings-statements/declaration-celebrate-100-years-independence-estonia-latvia-lithuania-renewed-partnership/',\n",
       " 'https://www.whitehouse.gov/briefings-statements/remarks-ltg-h-r-mcmaster-atlantic-council-baltic-summit-dinner/',\n",
       " 'https://www.whitehouse.gov/briefings-statements/remarks-president-trump-heads-baltic-states-joint-press-conference/',\n",
       " 'https://www.whitehouse.gov/briefings-statements/remarks-president-trump-working-lunch-heads-baltic-states/',\n",
       " 'https://www.whitehouse.gov/briefings-statements/readout-president-donald-j-trumps-call-king-salman-saudi-arabia-4/',\n",
       " 'https://www.whitehouse.gov/briefings-statements/readout-president-donald-j-trumps-call-emir-tamim-bin-hamad-al-thani-qatar-3/',\n",
       " 'https://www.whitehouse.gov/briefings-statements/president-donald-j-trumps-support-estonia-latvia-lithuania/',\n",
       " 'https://www.whitehouse.gov/briefings-statements/statement-press-secretary-extradition-yevgeniy-aleksandrovich-nikulin/',\n",
       " 'https://www.whitehouse.gov/briefings-statements/white-house-easter-egg-roll-2018/',\n",
       " 'https://www.whitehouse.gov/briefings-statements/readout-president-trumps-meeting-larry-kudlow-senior-staff-national-economic-council/',\n",
       " 'https://www.whitehouse.gov/briefings-statements/need-know-catch-release/',\n",
       " 'https://www.whitehouse.gov/briefings-statements/readout-president-donald-j-trumps-call-president-abdel-fattah-al-sisi-egypt-5/',\n",
       " 'https://www.whitehouse.gov/briefings-statements/remarks-president-trump-2018-white-house-easter-egg-roll/',\n",
       " 'https://www.whitehouse.gov/briefings-statements/statement-press-secretary-president-donald-j-trumps-upcoming-meeting-japanese-prime-minister-shinzo-abe-japan/',\n",
       " 'https://www.whitehouse.gov/briefings-statements/remarks-president-trump-easter-church-service/',\n",
       " 'https://www.whitehouse.gov/briefings-statements/text-letter-president-speaker-house-representatives-president-senate-27/',\n",
       " 'https://www.whitehouse.gov/briefings-statements/readout-second-lady-karen-pences-visit-riley-hospital-children-iu-health/',\n",
       " 'https://www.whitehouse.gov/briefings-statements/remarks-vice-president-pence-jobs-announcement-infosys-technologies-ltd/',\n",
       " 'https://www.whitehouse.gov/briefings-statements/remarks-president-trump-wounded-warrior-project-soldier-ride/',\n",
       " 'https://www.whitehouse.gov/briefings-statements/statement-president-confirmation-mike-pompeo-secretary-state/',\n",
       " 'https://www.whitehouse.gov/briefings-statements/president-donald-j-trump-announces-prescription-drug-take-back-day-fight-scourge-drug-abuse-across-country/',\n",
       " 'https://www.whitehouse.gov/briefings-statements/readout-president-donald-j-trumps-call-president-emmanuel-macron-france-16/',\n",
       " 'https://www.whitehouse.gov/briefings-statements/remarks-vice-president-pence-tax-cuts-put-america-first-event-7/',\n",
       " 'https://www.whitehouse.gov/briefings-statements/press-briefing-press-secretary-sarah-sanders-042518/',\n",
       " 'https://www.whitehouse.gov/briefings-statements/need-know-effective-entry-restrictions-protecting-national-security/',\n",
       " 'https://www.whitehouse.gov/briefings-statements/remarks-president-trump-joint-comprehensive-plan-action/',\n",
       " 'https://www.whitehouse.gov/briefings-statements/president-donald-j-trump-ending-united-states-participation-unacceptable-iran-deal/',\n",
       " 'https://www.whitehouse.gov/briefings-statements/statement-press-secretary-civil-war-south-sudan/',\n",
       " 'https://www.whitehouse.gov/briefings-statements/readout-president-donald-j-trumps-call-president-xi-jinping-china-5/',\n",
       " 'https://www.whitehouse.gov/briefings-statements/statement-communications-director/',\n",
       " 'https://www.whitehouse.gov/briefings-statements/president-donald-j-trump-approves-north-carolina-disaster-declaration/',\n",
       " 'https://www.whitehouse.gov/briefings-statements/president-donald-j-trump-protecting-american-taxpayer-dollars/',\n",
       " 'https://www.whitehouse.gov/briefings-statements/president-donald-j-trump-approves-hawaii-disaster-declaration/',\n",
       " 'https://www.whitehouse.gov/briefings-statements/readout-vice-president-mike-pences-meeting-united-kingdom-foreign-secretary-boris-johnson/',\n",
       " 'https://www.whitehouse.gov/briefings-statements/statement-press-secretary-regarding-h-r-5674-va-mission-act-2018/',\n",
       " 'https://www.whitehouse.gov/briefings-statements/president-donald-j-trumps-administration-working-every-day-help-bring-end-opioid-crisis/',\n",
       " 'https://www.whitehouse.gov/briefings-statements/president-donald-j-trumps-administration-improving-inefficient-permitting-reviews/',\n",
       " 'https://www.whitehouse.gov/briefings-statements/readout-president-donald-j-trumps-call-president-emmanuel-macron-france-13/',\n",
       " 'https://www.whitehouse.gov/briefings-statements/readout-president-donald-j-trumps-call-prime-minister-haider-al-abadi-iraq-2/',\n",
       " 'https://www.whitehouse.gov/briefings-statements/statement-press-secretary-regarding-attack-germany/',\n",
       " 'https://www.whitehouse.gov/briefings-statements/statement-president-donald-j-trump-lebanon/',\n",
       " 'https://www.whitehouse.gov/briefings-statements/statement-press-secretary-actions-taken-panama-maduro-regime/',\n",
       " 'https://www.whitehouse.gov/briefings-statements/readout-president-donald-j-trumps-call-crown-prince-mohammed-bin-zayed-united-arab-emirates/',\n",
       " 'https://www.whitehouse.gov/briefings-statements/statement-press-secretary-regarding-catch-release/',\n",
       " 'https://www.whitehouse.gov/briefings-statements/statement-lieutenant-general-h-r-mcmaster/',\n",
       " 'https://www.whitehouse.gov/briefings-statements/readout-vice-president-mike-pences-meeting-georgian-prime-minister-giorgi-kvirikashvili/',\n",
       " 'https://www.whitehouse.gov/briefings-statements/remarks-president-trump-roundtable-discussion-immigration-bethpage-ny/',\n",
       " 'https://www.whitehouse.gov/briefings-statements/remarks-vice-president-pence-united-states-coast-guard-academy-commencement-ceremony/',\n",
       " 'https://www.whitehouse.gov/briefings-statements/president-donald-j-trump-dedicated-combating-ms-13/',\n",
       " 'https://www.whitehouse.gov/briefings-statements/remarks-president-trump-marine-one-departure-7/',\n",
       " 'https://www.whitehouse.gov/briefings-statements/remarks-president-trump-susan-b-anthony-list-11th-annual-campaign-life-gala/',\n",
       " 'https://www.whitehouse.gov/briefings-statements/statement-press-secretary-move-paraguayan-embassy-tel-aviv-jerusalem-israel/',\n",
       " 'https://www.whitehouse.gov/briefings-statements/statement-press-secretary-regarding-passage-s-204-trickett-wendler-frank-mongiello-jordan-mclinn-matthew-bellina-right-try-act-2017/',\n",
       " 'https://www.whitehouse.gov/briefings-statements/statement-press-secretary-regarding-house-representatives-passage-h-r-5682-first-step-act/',\n",
       " 'https://www.whitehouse.gov/briefings-statements/statement-president-donald-j-trump-h-r-3210/',\n",
       " 'https://www.whitehouse.gov/briefings-statements/presidential-message-mens-health-week/',\n",
       " 'https://www.whitehouse.gov/briefings-statements/statement-office-vice-president-2/',\n",
       " 'https://www.whitehouse.gov/briefings-statements/presidential-message-congress-united-states-14/',\n",
       " 'https://www.whitehouse.gov/briefings-statements/text-letter-president-speaker-house-representatives-president-pro-tempore-senate-4/',\n",
       " 'https://www.whitehouse.gov/briefings-statements/notice-regarding-continuation-national-emergency-respect-actions-policies-certain-members-government-belarus-persons-undermine-democratic-processes/',\n",
       " 'https://www.whitehouse.gov/briefings-statements/remarks-president-trump-marine-one-departure-8/',\n",
       " 'https://www.whitehouse.gov/briefings-statements/larry-kudlow-trump-presiding-extraordinary-growth-g-7-leaders-notice/',\n",
       " 'https://www.whitehouse.gov/briefings-statements/statement-press-secretary-visit-king-felipe-vi-queen-letizia-spain/',\n",
       " 'https://www.whitehouse.gov/briefings-statements/statement-press-secretary-passage-h-r-3-spending-cuts-expired-unnecessary-programs-act/',\n",
       " 'https://www.whitehouse.gov/briefings-statements/remarks-president-trump-prime-minister-abe-japan-joint-press-conference-2/',\n",
       " 'https://www.whitehouse.gov/briefings-statements/confident-growing-united-states-economy/',\n",
       " 'https://www.whitehouse.gov/briefings-statements/statement-press-secretary-ken-isaacs/',\n",
       " 'https://www.whitehouse.gov/briefings-statements/statement-press-secretary-terrorist-attacks-nigeria/',\n",
       " 'https://www.whitehouse.gov/briefings-statements/statement-press-secretary-religious-violence-central-african-republic/',\n",
       " 'https://www.whitehouse.gov/briefings-statements/remarks-vice-president-pence-national-day-prayer/',\n",
       " 'https://www.whitehouse.gov/briefings-statements/remarks-president-trump-national-day-prayer/',\n",
       " 'https://www.whitehouse.gov/briefings-statements/president-donald-j-trump-stands-religious-freedom-united-states/',\n",
       " 'https://www.whitehouse.gov/briefings-statements/remarks-president-trump-national-teacher-year-reception/',\n",
       " 'https://www.whitehouse.gov/briefings-statements/remarks-vice-president-pence-swearing-ceremony-carlos-trujillo-u-s-permanent-representative-organization-american-states/',\n",
       " 'https://www.whitehouse.gov/briefings-statements/gina-haspel-right-person-lead-cia/',\n",
       " 'https://www.whitehouse.gov/briefings-statements/press-briefing-by-press-secretary-sarah-sanders-040618/',\n",
       " 'https://www.whitehouse.gov/briefings-statements/photos-of-the-week-040618/',\n",
       " 'https://www.whitehouse.gov/briefings-statements/text-letter-president-speaker-house-representatives-president-senate-26/',\n",
       " 'https://www.whitehouse.gov/briefings-statements/govs-john-bel-edwards-d-la-phil-bryant-r-ms-trumps-infrastructure-plan-marks-progress/',\n",
       " 'https://www.whitehouse.gov/briefings-statements/america-open-business/',\n",
       " 'https://www.whitehouse.gov/briefings-statements/president-donald-j-trump-standing-russias-malign-activities/',\n",
       " 'https://www.whitehouse.gov/briefings-statements/need-know-president-donald-j-trumps-actions-responding-chinas-unfair-trade-practices/',\n",
       " 'https://www.whitehouse.gov/briefings-statements/remarks-president-trump-roundtable-discussion-tax-reform/',\n",
       " 'https://www.whitehouse.gov/briefings-statements/statement-president-donald-j-trump-additional-proposed-section-301-remedies/',\n",
       " 'https://www.whitehouse.gov/briefings-statements/remarks-president-trump-press-gaggle-en-route-washington-d-c/',\n",
       " 'https://www.whitehouse.gov/briefings-statements/remarks-president-trump-signing-s-2155-economic-growth-regulatory-relief-consumer-protection-act/',\n",
       " 'https://www.whitehouse.gov/briefings-statements/statement-president-donald-j-trump-s-2155/',\n",
       " 'https://www.whitehouse.gov/briefings-statements/president-donald-j-trump-signs-s-2155-law/',\n",
       " 'https://www.whitehouse.gov/briefings-statements/president-donald-j-trump-supports-regulatory-reforms-community-banks-credit-unions-consumers/',\n",
       " 'https://www.whitehouse.gov/briefings-statements/readout-vice-president-mike-pences-call-president-egypt-abdel-fattah-al-sisi/',\n",
       " 'https://www.whitehouse.gov/briefings-statements/president-donald-j-trump-reforming-modernizing-american-commercial-space-policy/',\n",
       " 'https://www.whitehouse.gov/briefings-statements/letter-chairman-kim-jong-un/',\n",
       " 'https://www.whitehouse.gov/briefings-statements/statement-president-potential-national-security-investigation-automobile-imports/',\n",
       " 'https://www.whitehouse.gov/briefings-statements/president-donald-j-trump-amends-puerto-rico-disaster-declaration-4/',\n",
       " 'https://www.whitehouse.gov/briefings-statements/statement-press-secretary-senate-passage-va-mission-act/',\n",
       " 'https://www.whitehouse.gov/briefings-statements/statement-regarding-summit-united-states-north-korea/',\n",
       " 'https://www.whitehouse.gov/briefings-statements/readout-president-donald-j-trumps-meeting-prime-minister-lee-hsien-loong-singapore/',\n",
       " 'https://www.whitehouse.gov/briefings-statements/statement-first-lady-melania-trumps-visit-fords-theatre/',\n",
       " 'https://www.whitehouse.gov/briefings-statements/president-donald-j-trump-approves-new-jersey-disaster-declaration/',\n",
       " 'https://www.whitehouse.gov/briefings-statements/press-conference-president-trump-g7-summit/',\n",
       " 'https://www.whitehouse.gov/briefings-statements/president-donald-j-trump-approves-new-hampshire-disaster-declaration-5/',\n",
       " 'https://www.whitehouse.gov/briefings-statements/president-donald-j-trump-approves-alaska-disaster-declaration-2/',\n",
       " 'https://www.whitehouse.gov/briefings-statements/president-donald-j-trump-approves-new-hampshire-disaster-declaration-4/',\n",
       " 'https://www.whitehouse.gov/briefings-statements/remarks-president-trump-prime-minister-trudeau-canada-bilateral-meeting/',\n",
       " 'https://www.whitehouse.gov/briefings-statements/remarks-president-trump-president-macron-france-bilateral-meeting-2/',\n",
       " 'https://www.whitehouse.gov/briefings-statements/photos-of-the-week-042718/',\n",
       " 'https://www.whitehouse.gov/briefings-statements/wtas-support-confirmation-secretary-state-mike-pompeo/',\n",
       " 'https://www.whitehouse.gov/briefings-statements/statement-vice-president-mike-pence-inter-korean-summit/',\n",
       " 'https://www.whitehouse.gov/briefings-statements/remarks-president-trump-welcoming-u-s-olympic-team/',\n",
       " 'https://www.whitehouse.gov/briefings-statements/readout-vice-presidents-call-afghan-president-ashraf-ghani-4/',\n",
       " 'https://www.whitehouse.gov/briefings-statements/president-donald-j-trumps-weekly-address-04272018/',\n",
       " 'https://www.whitehouse.gov/briefings-statements/president-donald-j-trump-german-chancellor-angela-merkel-strengthen-close-relationship-united-states-germany/',\n",
       " 'https://www.whitehouse.gov/briefings-statements/president-donald-j-trump-approves-kentucky-disaster-declaration-2/',\n",
       " 'https://www.whitehouse.gov/briefings-statements/president-donald-j-trump-approves-alabama-disaster-declaration-2/',\n",
       " 'https://www.whitehouse.gov/briefings-statements/statement-press-secretary-inter-korean-summit/',\n",
       " 'https://www.whitehouse.gov/briefings-statements/remarks-president-trump-aboard-air-force-one-en-route-dallas-texas/',\n",
       " 'https://www.whitehouse.gov/briefings-statements/remarks-president-trump-air-force-one-departure/',\n",
       " 'https://www.whitehouse.gov/briefings-statements/remarks-president-trump-marine-one-departure-6/',\n",
       " 'https://www.whitehouse.gov/briefings-statements/small-business-booming-across-united-states/',\n",
       " 'https://www.whitehouse.gov/briefings-statements/empowering-american-small-businesses/',\n",
       " 'https://www.whitehouse.gov/briefings-statements/readout-president-donald-j-trumps-meeting-regarding-election-security/',\n",
       " 'https://www.whitehouse.gov/briefings-statements/presidential-message-commemoration-76th-anniversary-battle-coral-sea/',\n",
       " 'https://www.whitehouse.gov/briefings-statements/president-trump-announces-presidential-delegation-republic-sierra-leone-attend-inauguration-excellency-julius-maada-bio/',\n",
       " 'https://www.whitehouse.gov/briefings-statements/remarks-vice-president-pence-swearing-ceremony-richard-grenell-u-s-ambassador-germany/',\n",
       " 'https://www.whitehouse.gov/briefings-statements/press-briefing-press-secretary-sarah-sanders-050318/',\n",
       " 'https://www.whitehouse.gov/briefings-statements/remarks-president-trump-roundtable-discussion-tax-reform-2/',\n",
       " 'https://www.whitehouse.gov/briefings-statements/readout-president-donald-j-trumps-call-prime-minister-theresa-may-united-kingdom-13/',\n",
       " 'https://www.whitehouse.gov/briefings-statements/presidential-message-cinco-de-mayo/',\n",
       " 'https://www.whitehouse.gov/briefings-statements/statement-press-secretary-chinas-political-correctness/',\n",
       " 'https://www.whitehouse.gov/briefings-statements/president-donald-j-trump-approves-indiana-disaster-declaration/',\n",
       " 'https://www.whitehouse.gov/briefings-statements/readout-assistant-president-national-security-affairs-john-r-boltons-meeting-national-security-advisor-prime-minister-shotaro-yachi-japan/',\n",
       " 'https://www.whitehouse.gov/briefings-statements/readout-assistant-president-national-security-affairs-john-r-boltons-meeting-national-security-office-director-chung-eui-yong-republic-korea/',\n",
       " 'https://www.whitehouse.gov/briefings-statements/statement-press-secretary-visit-president-moon-jae-republic-korea/',\n",
       " 'https://www.whitehouse.gov/briefings-statements/remarks-vice-president-pence-national-rifle-association-leadership-forum/',\n",
       " 'https://www.whitehouse.gov/briefings-statements/statement-united-states-trade-delegations-visit-beijing/',\n",
       " 'https://www.whitehouse.gov/briefings-statements/statement-press-secretary-israels-announcement-related-iranian-nuclear-weapons-development/',\n",
       " 'https://www.whitehouse.gov/briefings-statements/remarks-vice-president-pence-u-s-department-homeland-security-u-s-customs-border-protection-employees-imperial-ca/',\n",
       " 'https://www.whitehouse.gov/briefings-statements/remarks-president-trump-president-buhari-federal-republic-nigeria-joint-press-conference/',\n",
       " 'https://www.whitehouse.gov/briefings-statements/statement-press-secretary-regarding-united-states-delegation-china/',\n",
       " 'https://www.whitehouse.gov/briefings-statements/readout-president-donald-j-trumps-call-president-emmanuel-macron-france-17/',\n",
       " 'https://www.whitehouse.gov/briefings-statements/remarks-president-trump-president-buhari-federal-republic-nigeria-bilateral-meeting/',\n",
       " 'https://www.whitehouse.gov/briefings-statements/president-donald-j-trump-recognizes-importance-small-businesses-2018-small-business-week/',\n",
       " 'https://www.whitehouse.gov/briefings-statements/readout-president-donald-j-trumps-call-prime-minister-benjamin-netanyahu-israel-2/',\n",
       " 'https://www.whitehouse.gov/briefings-statements/readout-president-donald-j-trumps-call-president-moon-jae-republic-korea-8/',\n",
       " 'https://www.whitehouse.gov/briefings-statements/readout-president-donald-j-trumps-call-prime-minister-shinzo-abe-japan-8/',\n",
       " 'https://www.whitehouse.gov/briefings-statements/statement-regarding-summit-united-states-north-korea/',\n",
       " 'https://www.whitehouse.gov/briefings-statements/readout-president-donald-j-trumps-meeting-prime-minister-lee-hsien-loong-singapore/',\n",
       " 'https://www.whitehouse.gov/briefings-statements/statement-first-lady-melania-trumps-visit-fords-theatre/',\n",
       " 'https://www.whitehouse.gov/briefings-statements/president-donald-j-trump-approves-new-jersey-disaster-declaration/',\n",
       " 'https://www.whitehouse.gov/briefings-statements/press-conference-president-trump-g7-summit/',\n",
       " 'https://www.whitehouse.gov/briefings-statements/president-donald-j-trump-approves-new-hampshire-disaster-declaration-5/',\n",
       " 'https://www.whitehouse.gov/briefings-statements/president-donald-j-trump-approves-alaska-disaster-declaration-2/',\n",
       " 'https://www.whitehouse.gov/briefings-statements/president-donald-j-trump-approves-new-hampshire-disaster-declaration-4/',\n",
       " 'https://www.whitehouse.gov/briefings-statements/remarks-president-trump-prime-minister-trudeau-canada-bilateral-meeting/',\n",
       " 'https://www.whitehouse.gov/briefings-statements/remarks-president-trump-president-macron-france-bilateral-meeting-2/',\n",
       " 'https://www.whitehouse.gov/briefings-statements/statement-press-secretary-regarding-release-joshua-holt/',\n",
       " 'https://www.whitehouse.gov/briefings-statements/president-donald-j-trump-signs-s-35-law/',\n",
       " 'https://www.whitehouse.gov/briefings-statements/readout-president-donald-j-trumps-call-prime-minister-justin-trudeau-canada-8/',\n",
       " 'https://www.whitehouse.gov/briefings-statements/president-donald-j-trump-reforming-civil-service-work-american-people/',\n",
       " 'https://www.whitehouse.gov/briefings-statements/remarks-vice-president-pence-tragedy-assistance-program-survivors-good-grief-camp-arlington-va/',\n",
       " 'https://www.whitehouse.gov/briefings-statements/statement-press-secretary-houthi-missile-strike-turkish-wheat-ship/',\n",
       " 'https://www.whitehouse.gov/briefings-statements/statement-vice-president-mike-pence-presidents-signing-space-policy-directive-2/',\n",
       " 'https://www.whitehouse.gov/briefings-statements/remarks-president-trump-pardoning-john-arthur-jack-johnson/',\n",
       " 'https://www.whitehouse.gov/briefings-statements/remarks-president-trump-presentation-medal-honor-master-chief-britt-slabinski-u-s-navy/',\n",
       " 'https://www.whitehouse.gov/briefings-statements/statement-press-secretary-regarding-pardon-john-arthur-jack-johnson/',\n",
       " 'https://www.whitehouse.gov/briefings-statements/statement-press-secretary-visit-emir-tamim-bin-hamad-al-thani-qatar/',\n",
       " 'https://www.whitehouse.gov/briefings-statements/press-gaggle-deputy-press-secretary-hogan-gidley-040518/',\n",
       " 'https://www.whitehouse.gov/briefings-statements/president-donald-j-trumps-leadership-economy-making-difference-americans/',\n",
       " 'https://www.whitehouse.gov/briefings-statements/tax-reform-paying-off-workers-businesses-west-virginia-around-country/',\n",
       " 'https://www.whitehouse.gov/briefings-statements/need-know-presidents-authorization-national-guard-deploy-southern-border/',\n",
       " 'https://www.whitehouse.gov/briefings-statements/press-briefing-by-press-secretary-sarah-sanders-and-department-of-homeland-security-secretary-kirstjen-nielsen-040418/',\n",
       " 'https://www.whitehouse.gov/briefings-statements/statement-press-secretary-anniversary-april-4-2017-chemical-weapons-attack-khan-shaykhun/',\n",
       " 'https://www.whitehouse.gov/briefings-statements/president-donald-j-trump-signs-h-r-4851-law/',\n",
       " 'https://www.whitehouse.gov/briefings-statements/president-donald-j-trump-signs-h-r-3731-s-2030-s-2040-law/',\n",
       " 'https://www.whitehouse.gov/briefings-statements/need-know-loopholes-allowing-unaccompanied-alien-children-stay-country/',\n",
       " 'https://www.whitehouse.gov/briefings-statements/wtas-support-trump-administrations-approval-opportunity-zones/',\n",
       " 'https://www.whitehouse.gov/briefings-statements/remarks-president-trump-working-lunch-prime-minister-abe-japan/',\n",
       " 'https://www.whitehouse.gov/briefings-statements/readout-first-lady-melania-trumps-visit-flagler-museum-palm-beach-florida/',\n",
       " 'https://www.whitehouse.gov/briefings-statements/president-donald-j-trump-amends-pueblo-acoma-disaster-declaration/',\n",
       " 'https://www.whitehouse.gov/briefings-statements/remarks-president-trump-prime-minister-abe-japan-joint-press-conference/',\n",
       " 'https://www.whitehouse.gov/briefings-statements/statement-press-secretary-calling-congress-fix-loopholes-immigration-laws/',\n",
       " 'https://www.whitehouse.gov/briefings-statements/statement-press-secretary-visit-chancellor-angela-merkel-germany/',\n",
       " 'https://www.whitehouse.gov/briefings-statements/president-donald-j-trump-amends-hoopa-valley-tribe-disaster-declaration/',\n",
       " 'https://www.whitehouse.gov/briefings-statements/statement-vice-president-mike-pence-karen-pence-passing-former-first-lady-barbara-bush/',\n",
       " 'https://www.whitehouse.gov/briefings-statements/statement-president-passing-former-first-lady-barbara-bush/',\n",
       " 'https://www.whitehouse.gov/briefings-statements/artificial-intelligence-american-people/',\n",
       " 'https://www.whitehouse.gov/briefings-statements/readout-president-donald-j-trumps-call-prime-minister-shinzo-abe-japan-9/',\n",
       " 'https://www.whitehouse.gov/briefings-statements/notice-regarding-continuation-national-emergency-respect-central-african-republic-2/',\n",
       " 'https://www.whitehouse.gov/briefings-statements/presidential-message-congress-united-states-8/',\n",
       " 'https://www.whitehouse.gov/briefings-statements/wtas-support-president-donald-j-trumps-nominee-cia-director-gina-haspel/',\n",
       " 'https://www.whitehouse.gov/briefings-statements/statement-press-secretary-iranian-regime-provocation-israel/',\n",
       " 'https://www.whitehouse.gov/briefings-statements/remarks-president-trump-arrival-americans-detained-north-korea/',\n",
       " 'https://www.whitehouse.gov/briefings-statements/statement-press-secretary-visit-president-mirziyoyev-uzbekistan/',\n",
       " 'https://www.whitehouse.gov/briefings-statements/readout-president-donald-j-trumps-call-president-moon-jae-republic-korea-9/',\n",
       " 'https://www.whitehouse.gov/briefings-statements/remarks-first-lady-celebration-military-mothers-spouses-event/',\n",
       " 'https://www.whitehouse.gov/briefings-statements/readout-of-vice-president-mike-pences-meeting-with-prime-minister-justin-trudeau-of-canada/',\n",
       " 'https://www.whitehouse.gov/briefings-statements/readout-of-vice-president-mike-pences-meeting-with-president-sebastian-pinera-of-chile/',\n",
       " 'https://www.whitehouse.gov/briefings-statements/readout-of-vice-president-mike-pences-meeting-with-president-juan-manuel-santos-of-colombia/',\n",
       " 'https://www.whitehouse.gov/briefings-statements/remarks-vice-president-pence-meeting-cuban-dissident/',\n",
       " 'https://www.whitehouse.gov/briefings-statements/remarks-vice-president-pence-meeting-venezuelan-opposition-leaders/',\n",
       " 'https://www.whitehouse.gov/briefings-statements/readout-president-donald-j-trumps-call-prime-minister-theresa-may-united-kingdom-12/',\n",
       " 'https://www.whitehouse.gov/briefings-statements/readout-president-donald-j-trumps-call-president-emmanuel-macron-france-15/',\n",
       " 'https://www.whitehouse.gov/briefings-statements/readout-national-security-advisor-john-boltons-call-national-security-advisor-sheikh-tahnoon-bin-zayed-united-arab-emirates/',\n",
       " 'https://www.whitehouse.gov/briefings-statements/president-donald-j-trump-taken-action-stop-syrian-chemical-weapons-use/',\n",
       " 'https://www.whitehouse.gov/briefings-statements/united-states-government-assessment-assad-regimes-chemical-weapons-use/',\n",
       " 'https://www.whitehouse.gov/briefings-statements/usa-today-trump-supporters-across-america-president-delivering-agenda/',\n",
       " 'https://www.whitehouse.gov/briefings-statements/trump-administration-officials-host-trade-delegation-china/',\n",
       " 'https://www.whitehouse.gov/briefings-statements/united-states-uzbekistan-launching-new-era-strategic-partnership/',\n",
       " 'https://www.whitehouse.gov/briefings-statements/remarks-president-trump-president-mirziyoyev-uzbekistan-bilateral-meeting/',\n",
       " 'https://www.whitehouse.gov/briefings-statements/gina-haspel-earned-praise-leading-committee-vote/',\n",
       " 'https://www.whitehouse.gov/briefings-statements/statement-office-vice-president/',\n",
       " 'https://www.whitehouse.gov/briefings-statements/president-donald-j-trump-enhancing-effectiveness-agency-chief-information-officers/',\n",
       " 'https://www.whitehouse.gov/briefings-statements/remarks-president-trump-37th-annual-national-peace-officers-memorial/',\n",
       " 'https://www.whitehouse.gov/briefings-statements/remarks-vice-president-pence-37th-annual-national-peace-officers-memorial/',\n",
       " 'https://www.whitehouse.gov/briefings-statements/presidential-message-ramadan/',\n",
       " 'https://www.whitehouse.gov/briefings-statements/president-donald-j-trumps-500-days-american-greatness/',\n",
       " 'https://www.whitehouse.gov/briefings-statements/presidential-message-national-cancer-survivors-day/',\n",
       " 'https://www.whitehouse.gov/briefings-statements/president-donald-j-trumps-weekly-address-29/',\n",
       " 'https://www.whitehouse.gov/briefings-statements/remarks-president-trump-meeting-vice-chairman-kim-yong-chol-democratic-peoples-republic-korea/',\n",
       " 'https://www.whitehouse.gov/briefings-statements/statement-press-secretary-fuel-secure-power-facilities/',\n",
       " 'https://www.whitehouse.gov/briefings-statements/president-donald-j-trump-signs-h-r-3562-h-r-4009-s-1285-law/',\n",
       " 'https://www.whitehouse.gov/briefings-statements/remarks-president-trump-u-s-coast-guard-change-command-ceremony/',\n",
       " 'https://www.whitehouse.gov/briefings-statements/nyt-ran-words-describe-good-jobs-numbers/',\n",
       " 'https://www.whitehouse.gov/briefings-statements/readout-president-donald-j-trumps-call-president-emmanuel-macron-france-20/',\n",
       " 'https://www.whitehouse.gov/briefings-statements/american-workers-businesses-continue-see-gains-trump-economy/',\n",
       " 'https://www.whitehouse.gov/briefings-statements/statement-press-secretary-change-format-todays-event/',\n",
       " 'https://www.whitehouse.gov/briefings-statements/president-donald-j-trumps-500-days-making-communities-safer-secure/',\n",
       " 'https://www.whitehouse.gov/briefings-statements/remarks-vice-president-pence-organization-american-states-reception/',\n",
       " 'https://www.whitehouse.gov/briefings-statements/statement-first-lady-melania-trump-gold-star-families/',\n",
       " 'https://www.whitehouse.gov/briefings-statements/statement-by-the-president-2/',\n",
       " 'https://www.whitehouse.gov/briefings-statements/press-briefing-press-secretary-sarah-sanders-060418/',\n",
       " 'https://www.whitehouse.gov/briefings-statements/readout-vice-president-mike-pences-call-president-ecuador-lenin-moreno/',\n",
       " 'https://www.whitehouse.gov/briefings-statements/president-donald-j-trumps-500-days-strengthening-american-economy/',\n",
       " 'https://www.whitehouse.gov/briefings-statements/readout-president-donald-j-trumps-call-prime-minister-theresa-may-united-kingdom-15/',\n",
       " 'https://www.whitehouse.gov/briefings-statements/readout-discussions-administration-officials-delegation-china-regarding-trade-relationship-united-states-china/',\n",
       " 'https://www.whitehouse.gov/briefings-statements/president-donald-j-trump-hosts-nato-secretary-general-jens-stoltenberg-white-house/',\n",
       " 'https://www.whitehouse.gov/briefings-statements/remarks-president-trump-secretary-general-stoltenberg-nato-bilateral-meeting/',\n",
       " 'https://www.whitehouse.gov/briefings-statements/remarks-president-trump-nato-secretary-general-stoltenberg-expanded-bilateral-meeting/',\n",
       " 'https://www.whitehouse.gov/briefings-statements/statement-press-secretary-move-guatemalan-embassy-tel-aviv-jerusalem-israel/',\n",
       " 'https://www.whitehouse.gov/briefings-statements/press-briefing-press-secretary-sarah-sanders-acting-secretary-veterans-affairs-robert-wilkie-05172018/',\n",
       " 'https://www.whitehouse.gov/briefings-statements/presidential-message-congress-united-states-10/',\n",
       " 'https://www.whitehouse.gov/briefings-statements/presidential-message-congress-united-states-9/',\n",
       " 'https://www.whitehouse.gov/briefings-statements/statement-press-secretary-regarding-united-states-united-arab-emirates-open-skies-understanding/',\n",
       " 'https://www.whitehouse.gov/briefings-statements/statement-press-secretary-house-passage-va-mission-act/',\n",
       " 'https://www.whitehouse.gov/briefings-statements/remarks-president-trump-california-sanctuary-state-roundtable/',\n",
       " 'https://www.whitehouse.gov/briefings-statements/statement-president-trump-syria/',\n",
       " 'https://www.whitehouse.gov/briefings-statements/president-donald-j-trumps-weekly-address-04132018/',\n",
       " 'https://www.whitehouse.gov/briefings-statements/photos-week-041318/',\n",
       " 'https://www.whitehouse.gov/briefings-statements/text-letter-president-speaker-house-representatives-4/',\n",
       " 'https://www.whitehouse.gov/briefings-statements/press-briefing-press-secretary-sarah-sanders-041318/',\n",
       " 'https://www.whitehouse.gov/briefings-statements/president-donald-j-trump-signs-h-r-4547-s-772-law/',\n",
       " 'https://www.whitehouse.gov/briefings-statements/statement-press-secretary-regarding-pardon-scooter-lewis-libby/',\n",
       " 'https://www.whitehouse.gov/briefings-statements/need-know-president-donald-j-trumps-success-opening-international-markets-u-s-agriculture/',\n",
       " 'https://www.whitehouse.gov/briefings-statements/readout-president-donald-j-trumps-call-prime-minister-theresa-may-united-kingdom-11/',\n",
       " 'https://www.whitehouse.gov/briefings-statements/remarks-president-trump-tax-cuts-american-workers/',\n",
       " 'https://www.whitehouse.gov/briefings-statements/remarks-president-trump-lowering-drug-prices/',\n",
       " 'https://www.whitehouse.gov/briefings-statements/remarks-president-trump-roundtable-automaker-ceos/',\n",
       " 'https://www.whitehouse.gov/briefings-statements/president-donald-j-trumps-blueprint-lower-drug-prices/',\n",
       " 'https://www.whitehouse.gov/briefings-statements/gina-haspels-confirmation-central-national-security/',\n",
       " 'https://www.whitehouse.gov/briefings-statements/readout-president-donald-j-trumps-call-prime-minister-lee-hsien-loong-singapore-3/',\n",
       " 'https://www.whitehouse.gov/briefings-statements/statement-press-secretary-visit-secretary-general-jens-stoltenberg-north-atlantic-treaty-organization/',\n",
       " 'https://www.whitehouse.gov/briefings-statements/statement-press-secretary-argentina/',\n",
       " 'https://www.whitehouse.gov/briefings-statements/statement-press-secretary-regarding-prime-minister-tun-dr-mahathir-mohamad-malaysia/',\n",
       " 'https://www.whitehouse.gov/briefings-statements/press-gaggle-principal-deputy-press-secretary-raj-shah/',\n",
       " 'https://www.whitehouse.gov/briefings-statements/wtas-trump-administration-secures-release-three-americans-north-korea/',\n",
       " 'https://www.whitehouse.gov/briefings-statements/background-press-briefing-upcoming-state-visit-president-macron-france-042318/',\n",
       " 'https://www.whitehouse.gov/briefings-statements/op-eds-editorials-call-mike-pompeo-confirmed-secretary-state/',\n",
       " 'https://www.whitehouse.gov/briefings-statements/president-donald-j-trump-amends-resighini-rancheria-disaster-declaration/',\n",
       " 'https://www.whitehouse.gov/briefings-statements/readout-vice-president-mike-pences-meeting-german-vice-chancellor-minister-finance-olaf-scholz/',\n",
       " 'https://www.whitehouse.gov/briefings-statements/text-letter-certain-congressional-committees-regarding-cyber-policy-report/',\n",
       " 'https://www.whitehouse.gov/briefings-statements/remarks-president-trump-briefing-joint-interagency-task-force-south-northcom-southcom/',\n",
       " 'https://www.whitehouse.gov/briefings-statements/statement-press-secretary-arms-transfer-unmanned-aerial-systems-export-reforms/',\n",
       " 'https://www.whitehouse.gov/briefings-statements/president-donald-j-trump-visits-joint-interagency-task-force-south/',\n",
       " 'https://www.whitehouse.gov/briefings-statements/remarks-president-trump-prime-minister-abe-japan-dinner-reception/',\n",
       " 'https://www.whitehouse.gov/briefings-statements/president-donald-j-trumps-summit-meeting-prime-minister-shinzo-abe/']"
      ]
     },
     "execution_count": 40,
     "metadata": {},
     "output_type": "execute_result"
    }
   ],
   "source": [
    "from bs4 import BeautifulSoup\n",
    "from glob import glob\n",
    "from os.path import join\n",
    "from urllib.parse import urljoin\n",
    "\n",
    "INDEX_PAGES_DIR = 'index-pages'\n",
    "WH_BASE_URL = 'https://www.whitehouse.gov/briefings-statements/'\n",
    "\n",
    "links = []\n",
    "ip_fnames = glob(join(INDEX_PAGES_DIR, '*.html'))\n",
    "for fname in ip_fnames:\n",
    "    with open(fname,'r') as rf:\n",
    "        txt = rf.read()\n",
    "    \n",
    "    soup = BeautifulSoup(txt,'lxml')\n",
    "    for h in soup.find_all('h2'):\n",
    "        a = h.find('a')\n",
    "        url = urljoin(WH_BASE_URL, a.attrs['href'])\n",
    "        links.append(url)\n",
    "links"
   ]
  },
  {
   "cell_type": "code",
   "execution_count": 41,
   "metadata": {},
   "outputs": [
    {
     "name": "stdout",
     "output_type": "stream",
     "text": [
      "President Donald J. Trump spoke today with President Recep Tayyip Erdogan of Turkey to reaffirm the importance of strong relations between the United States and Turkey, as NATO Allies and strategic partners, and to exchange views on regional developments.  The two leaders committed to continue efforts to intensify cooperation on shared strategic challenges and to address the concerns of both countries that affect the bilateral relations.\n"
     ]
    }
   ],
   "source": [
    "import requests\n",
    "from bs4 import BeautifulSoup\n",
    "\n",
    "url = 'https://www.whitehouse.gov/briefings-statements/readout-president-donald-j-trumps-call-president-recep-tayyip-erdogan-turkey-5/'\n",
    "reps = requests.get(url)\n",
    "soup = BeautifulSoup(reps.text,'lxml')\n",
    "# mydivs = soup.find_all(\"div\", {\"class\": \"page-content\"})\n",
    "for content in soup.find_all(\"div\", {\"class\": \"page-content\"}):\n",
    "    p = content.find('p')\n",
    "    print(p.text)"
   ]
  },
  {
   "cell_type": "code",
   "execution_count": 42,
   "metadata": {},
   "outputs": [
    {
     "name": "stdout",
     "output_type": "stream",
     "text": [
      "March 22, 2018\n"
     ]
    }
   ],
   "source": [
    "import requests\n",
    "from bs4 import BeautifulSoup\n",
    "\n",
    "url = 'https://www.whitehouse.gov/briefings-statements/readout-president-donald-j-trumps-call-president-recep-tayyip-erdogan-turkey-5/'\n",
    "reps = requests.get(url)\n",
    "soup = BeautifulSoup(reps.text,'lxml')\n",
    "# mydivs = soup.find_all(\"div\", {\"class\": \"page-content\"})\n",
    "# for content in soup.find_all(\"div\", {\"class\": \"page-content\"}):\n",
    "#     p = content.find('p')\n",
    "#     print(p.text)\n",
    "time = soup.find('time')\n",
    "print(time.text)"
   ]
  },
  {
   "cell_type": "code",
   "execution_count": null,
   "metadata": {},
   "outputs": [],
   "source": []
  },
  {
   "cell_type": "code",
   "execution_count": null,
   "metadata": {},
   "outputs": [],
   "source": []
  },
  {
   "cell_type": "code",
   "execution_count": null,
   "metadata": {},
   "outputs": [],
   "source": []
  },
  {
   "cell_type": "code",
   "execution_count": null,
   "metadata": {},
   "outputs": [],
   "source": []
  },
  {
   "cell_type": "code",
   "execution_count": null,
   "metadata": {},
   "outputs": [],
   "source": []
  },
  {
   "cell_type": "code",
   "execution_count": null,
   "metadata": {},
   "outputs": [],
   "source": []
  },
  {
   "cell_type": "code",
   "execution_count": null,
   "metadata": {},
   "outputs": [],
   "source": []
  },
  {
   "cell_type": "code",
   "execution_count": null,
   "metadata": {},
   "outputs": [],
   "source": []
  },
  {
   "cell_type": "code",
   "execution_count": null,
   "metadata": {},
   "outputs": [],
   "source": []
  },
  {
   "cell_type": "code",
   "execution_count": null,
   "metadata": {},
   "outputs": [],
   "source": []
  },
  {
   "cell_type": "code",
   "execution_count": null,
   "metadata": {},
   "outputs": [],
   "source": []
  }
 ],
 "metadata": {
  "kernelspec": {
   "display_name": "Python 3",
   "language": "python",
   "name": "python3"
  },
  "language_info": {
   "codemirror_mode": {
    "name": "ipython",
    "version": 3
   },
   "file_extension": ".py",
   "mimetype": "text/x-python",
   "name": "python",
   "nbconvert_exporter": "python",
   "pygments_lexer": "ipython3",
   "version": "3.6.5"
  }
 },
 "nbformat": 4,
 "nbformat_minor": 2
}
