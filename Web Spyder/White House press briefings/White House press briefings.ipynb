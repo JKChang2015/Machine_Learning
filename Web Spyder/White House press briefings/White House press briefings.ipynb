{
 "cells": [
  {
   "cell_type": "markdown",
   "metadata": {},
   "source": [
    "# White House press briefings"
   ]
  },
  {
   "cell_type": "code",
   "execution_count": 2,
   "metadata": {},
   "outputs": [],
   "source": [
    "import requests\n",
    "url = 'https://www.whitehouse.gov/briefings-statements/page/0/'\n",
    "resp = requests.get(url)"
   ]
  },
  {
   "cell_type": "markdown",
   "metadata": {},
   "source": [
    "## 1. Fetching and saving each index page"
   ]
  },
  {
   "cell_type": "code",
   "execution_count": 5,
   "metadata": {},
   "outputs": [],
   "source": [
    "with open('./index-pages/0.html','w') as wf:\n",
    "    wf.write(resp.text)"
   ]
  },
  {
   "cell_type": "code",
   "execution_count": 21,
   "metadata": {},
   "outputs": [
    {
     "name": "stdout",
     "output_type": "stream",
     "text": [
      "downloading https://www.whitehouse.gov/briefings-statements/page/0/\n",
      "Saving to 0.html\n",
      "downloading https://www.whitehouse.gov/briefings-statements/page/1/\n",
      "Saving to 1.html\n",
      "downloading https://www.whitehouse.gov/briefings-statements/page/2/\n",
      "Saving to 2.html\n",
      "downloading https://www.whitehouse.gov/briefings-statements/page/3/\n",
      "Saving to 3.html\n",
      "downloading https://www.whitehouse.gov/briefings-statements/page/4/\n",
      "Saving to 4.html\n"
     ]
    }
   ],
   "source": [
    "import requests\n",
    "from os import makedirs\n",
    "INDEX_PAGES_DIR = 'index-pages'\n",
    "makedirs(INDEX_PAGES_DIR, exist_ok=True)\n",
    "\n",
    "THE_URL = 'https://www.whitehouse.gov/briefings-statements/page/'\n",
    "MAX_PAGE_NUM = 5 \n",
    "\n",
    "for pagenum in range(MAX_PAGE_NUM):\n",
    "    url = THE_URL + str(pagenum)+'/'\n",
    "    print('downloading', url)\n",
    "    resp = requests.get(url)\n",
    "    \n",
    "    fname = str(pagenum) + '.html'\n",
    "    print('Saving to',fname)\n",
    "    with open('index-pages/'+fname,'w') as wf:\n",
    "        wf.write(resp.text)"
   ]
  },
  {
   "cell_type": "markdown",
   "metadata": {},
   "source": [
    "#### Join function"
   ]
  },
  {
   "cell_type": "code",
   "execution_count": 14,
   "metadata": {},
   "outputs": [
    {
     "data": {
      "text/plain": [
       "'this/is/a/really/nested/file.txt'"
      ]
     },
     "execution_count": 14,
     "metadata": {},
     "output_type": "execute_result"
    }
   ],
   "source": [
    "from os.path import join\n",
    "join('index-pages', '42.html')\n",
    "# 'index-pages/42.html'\n",
    "join(\"this\", \"is\", \"a\", \"really\", \"nested\", \"file.txt\")"
   ]
  },
  {
   "cell_type": "code",
   "execution_count": 28,
   "metadata": {},
   "outputs": [
    {
     "name": "stdout",
     "output_type": "stream",
     "text": [
      "downloading https://www.whitehouse.gov/briefings-statements/page/0/\n",
      "index-pages/0.html\n",
      "Saving to index-pages/0.html\n",
      "downloading https://www.whitehouse.gov/briefings-statements/page/1/\n",
      "index-pages/1.html\n",
      "Saving to index-pages/1.html\n",
      "downloading https://www.whitehouse.gov/briefings-statements/page/2/\n",
      "index-pages/2.html\n",
      "Saving to index-pages/2.html\n",
      "downloading https://www.whitehouse.gov/briefings-statements/page/3/\n",
      "index-pages/3.html\n",
      "Saving to index-pages/3.html\n",
      "downloading https://www.whitehouse.gov/briefings-statements/page/4/\n",
      "index-pages/4.html\n",
      "Saving to index-pages/4.html\n"
     ]
    }
   ],
   "source": [
    "import requests\n",
    "from os import makedirs\n",
    "\n",
    "INDEX_PAGES_DIR = 'index-pages'\n",
    "makedirs(INDEX_PAGES_DIR, exist_ok=True)\n",
    "\n",
    "THE_URL = 'https://www.whitehouse.gov/briefings-statements/page/{}/'\n",
    "MAX_PAGE_NUM = 5\n",
    "\n",
    "for pagenum in range(MAX_PAGE_NUM):\n",
    "    url = THE_URL.format(pagenum) \n",
    "    print('downloading', url)\n",
    "    resp = requests.get(url)\n",
    "    \n",
    "    fname = join(INDEX_PAGES_DIR,'{}.html'.format(pagenum))\n",
    "    print(fname)\n",
    "    print('Saving to',fname)\n",
    "    with open(fname,'w') as wf:\n",
    "        wf.write(resp.text)"
   ]
  },
  {
   "cell_type": "code",
   "execution_count": 27,
   "metadata": {},
   "outputs": [
    {
     "data": {
      "text/plain": [
       "'https://www.whitehouse.gov/briefings-statements/page/123/'"
      ]
     },
     "execution_count": 27,
     "metadata": {},
     "output_type": "execute_result"
    }
   ],
   "source": [
    "THE_URL = 'https://www.whitehouse.gov/briefings-statements/page/{}/'\n",
    "a= '123'\n",
    "\n",
    "THE_URL.format(a)"
   ]
  },
  {
   "cell_type": "markdown",
   "metadata": {},
   "source": [
    "### Format example"
   ]
  },
  {
   "cell_type": "code",
   "execution_count": 30,
   "metadata": {},
   "outputs": [
    {
     "name": "stdout",
     "output_type": "stream",
     "text": [
      "https://maps.googleapis.com/maps/api/streetview?size=400x400&location=New_York&heading=0\n"
     ]
    }
   ],
   "source": [
    "URL_ENDPOINT = 'https://maps.googleapis.com/maps/api/streetview'\n",
    "QUERY_STRING = 'size={size}&location={location}&heading={heading}'\n",
    "\n",
    "q_str = QUERY_STRING.format(size='400x400', location='New_York', heading=0)\n",
    "url = URL_ENDPOINT + '?' + q_str\n",
    "print(url)"
   ]
  },
  {
   "cell_type": "code",
   "execution_count": 31,
   "metadata": {},
   "outputs": [
    {
     "name": "stdout",
     "output_type": "stream",
     "text": [
      "https://maps.googleapis.com/maps/api/streetview??size=400x400location=Chicago&heading=\n"
     ]
    }
   ],
   "source": [
    "URL_ENDPOINT = 'https://maps.googleapis.com/maps/api/streetview'\n",
    "QUERY_STRING = 'size={size}location={location}&heading={heading}'\n",
    "q_str = QUERY_STRING.format(size='400x400', location='Chicago', heading=\"\")\n",
    "url = URL_ENDPOINT + '?' + q_str\n",
    "print(url)"
   ]
  },
  {
   "cell_type": "code",
   "execution_count": 32,
   "metadata": {},
   "outputs": [
    {
     "name": "stdout",
     "output_type": "stream",
     "text": [
      "https://maps.googleapis.com/maps/api/streetview?size=600x300&location=Stanford%2C+CA\n"
     ]
    }
   ],
   "source": [
    "import requests\n",
    "URL_ENDPOINT = 'https://maps.googleapis.com/maps/api/streetview'\n",
    "resp = requests.get(URL_ENDPOINT, params={'size': '600x300', 'location': 'Stanford, CA'})\n",
    "print(resp.url)"
   ]
  },
  {
   "cell_type": "markdown",
   "metadata": {},
   "source": [
    "### request.get() with parameters"
   ]
  },
  {
   "cell_type": "code",
   "execution_count": 33,
   "metadata": {},
   "outputs": [
    {
     "name": "stdout",
     "output_type": "stream",
     "text": [
      "http://httpbin.org/get?key1=value1&key2=value2\n"
     ]
    }
   ],
   "source": [
    "payload = {'key1': 'value1', 'key2': 'value2'}\n",
    "r = requests.get('http://httpbin.org/get', params=payload)\n",
    "print(r.url)"
   ]
  },
  {
   "cell_type": "markdown",
   "metadata": {},
   "source": [
    "## 2. Converting HTML text into a data object"
   ]
  },
  {
   "cell_type": "code",
   "execution_count": null,
   "metadata": {},
   "outputs": [],
   "source": []
  }
 ],
 "metadata": {
  "kernelspec": {
   "display_name": "Python 3",
   "language": "python",
   "name": "python3"
  },
  "language_info": {
   "codemirror_mode": {
    "name": "ipython",
    "version": 3
   },
   "file_extension": ".py",
   "mimetype": "text/x-python",
   "name": "python",
   "nbconvert_exporter": "python",
   "pygments_lexer": "ipython3",
   "version": "3.6.5"
  }
 },
 "nbformat": 4,
 "nbformat_minor": 2
}
