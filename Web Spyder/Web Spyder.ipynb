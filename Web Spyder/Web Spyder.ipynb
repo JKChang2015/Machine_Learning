{
 "cells": [
  {
   "cell_type": "markdown",
   "metadata": {},
   "source": [
    "# Chapter 1, HTML\n",
    "<br/><br/>\n",
    "\n",
    "### What is HTML?\n",
    "**Hypertext Markup Language (HTML)** is the standard markup language for creating web pages and web applications. HTML elements are delineated by tags, written using angle brackets. Tags such as `<doc>` and `</input>` introduce content into the page directly. \n",
    "<br/><br/>\n",
    "\n",
    "### HTML Markup\n",
    "HTML markup consists of several key components, including those called **tags** (and their attributes), **character-based data types**, **character references** and **entity references**. \n",
    "\n",
    "HTML tags most commonly come in pairs like `<h1>` and `</h1>`, although some represent empty elements and so are unpaired, for example `<img>`. The first tag in such a pair is the _start tag_, and the second is the _end tag_ .\n",
    "\n",
    "```html\n",
    "<html>\n",
    "<body>\n",
    "    <table>\n",
    "        <thead>\n",
    "            <tr><th>name</th><th>age</th></tr>\n",
    "        </thead>\n",
    "        <tbody>\n",
    "            <tr><td>Ken</td><td>28</td></tr>\n",
    "            <tr><td>John</td><td>30</td></tr>\n",
    "        </tbody>\n",
    "    </table>\n",
    "    \n",
    "</body>\n",
    "</html>\n",
    "```\n",
    "<br/><br/>\n",
    "output:<br/>\n",
    "name\tage<br/>\n",
    "Ken\t28<br/>\n",
    "John\t30<br/>"
   ]
  },
  {
   "cell_type": "code",
   "execution_count": 1,
   "metadata": {},
   "outputs": [
    {
     "name": "stdout",
     "output_type": "stream",
     "text": [
      "<class 'list'>\n"
     ]
    },
    {
     "data": {
      "text/plain": [
       "[   name  age\n",
       " 0   Ken   28\n",
       " 1  John   30,     name  age\n",
       " 0  David   22\n",
       " 1   Mark   34]"
      ]
     },
     "execution_count": 1,
     "metadata": {},
     "output_type": "execute_result"
    }
   ],
   "source": [
    "import pandas as pd\n",
    "\n",
    "data = pd.read_html('html.html')\n",
    "print(type(data))\n",
    "data"
   ]
  },
  {
   "cell_type": "code",
   "execution_count": 35,
   "metadata": {},
   "outputs": [
    {
     "data": {
      "text/plain": [
       "[<tr><th>name</th><th>age</th></tr>,\n",
       " <tr><td>Ken</td><td>28</td></tr>,\n",
       " <tr><td>John</td><td>30</td></tr>,\n",
       " <tr><th>name</th><th>age</th></tr>,\n",
       " <tr><td>David</td><td>22</td></tr>,\n",
       " <tr><td>Mark</td><td>34</td></tr>]"
      ]
     },
     "execution_count": 35,
     "metadata": {},
     "output_type": "execute_result"
    }
   ],
   "source": [
    "import urllib.request\n",
    "from bs4 import BeautifulSoup\n",
    "import os\n",
    "\n",
    "path = os.getcwd()+'/html.html'\n",
    "html = urllib.request.urlopen(r'file://'+path).read()\n",
    "\n",
    "soup = BeautifulSoup(html,'lxml')\n",
    "soup.find('tr')\n",
    "soup.find_all('tr')\n",
    "\n"
   ]
  },
  {
   "cell_type": "code",
   "execution_count": null,
   "metadata": {},
   "outputs": [],
   "source": []
  }
 ],
 "metadata": {
  "kernelspec": {
   "display_name": "Python 3",
   "language": "python",
   "name": "python3"
  },
  "language_info": {
   "codemirror_mode": {
    "name": "ipython",
    "version": 3
   },
   "file_extension": ".py",
   "mimetype": "text/x-python",
   "name": "python",
   "nbconvert_exporter": "python",
   "pygments_lexer": "ipython3",
   "version": "3.6.3"
  }
 },
 "nbformat": 4,
 "nbformat_minor": 2
}
