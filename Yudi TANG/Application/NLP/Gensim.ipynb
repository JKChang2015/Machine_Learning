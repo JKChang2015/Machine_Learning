{
 "cells": [
  {
   "cell_type": "markdown",
   "metadata": {},
   "source": [
    "# Gensim"
   ]
  },
  {
   "cell_type": "code",
   "execution_count": 1,
   "metadata": {},
   "outputs": [],
   "source": [
    "from gensim.models import word2vec\n",
    "import logging\n",
    "logging.basicConfig(\n",
    "    format='%(asctime)s : %(levelname)s : %(message)s', level=logging.INFO)\n",
    "raw_sentences = [\n",
    "    \"the quick brown fox jumps over the lazy dogs\",\n",
    "    \"yoyoyo you go home now to sleep\"\n",
    "]"
   ]
  },
  {
   "cell_type": "code",
   "execution_count": 2,
   "metadata": {},
   "outputs": [
    {
     "name": "stdout",
     "output_type": "stream",
     "text": [
      "[['the', 'quick', 'brown', 'fox', 'jumps', 'over', 'the', 'lazy', 'dogs'], ['yoyoyo', 'you', 'go', 'home', 'now', 'to', 'sleep']]\n"
     ]
    }
   ],
   "source": [
    "sentences= [s.split(\" \") for s in raw_sentences]\n",
    "print(sentences)"
   ]
  },
  {
   "cell_type": "code",
   "execution_count": 3,
   "metadata": {},
   "outputs": [
    {
     "name": "stderr",
     "output_type": "stream",
     "text": [
      "2018-05-07 15:48:48,463 : INFO : loading Word2Vec object from ./word2vec\n",
      "2018-05-07 15:48:48,465 : INFO : loading wv recursively from ./word2vec.wv.* with mmap=None\n",
      "2018-05-07 15:48:48,466 : INFO : setting ignored attribute vectors_norm to None\n",
      "2018-05-07 15:48:48,469 : INFO : loading vocabulary recursively from ./word2vec.vocabulary.* with mmap=None\n",
      "2018-05-07 15:48:48,471 : INFO : loading trainables recursively from ./word2vec.trainables.* with mmap=None\n",
      "2018-05-07 15:48:48,472 : INFO : setting ignored attribute cum_table to None\n",
      "2018-05-07 15:48:48,473 : INFO : loaded ./word2vec\n"
     ]
    }
   ],
   "source": [
    "# model = word2vec.Word2Vec(sentences, min_count=1)\n",
    "# model.save(\"./word2vec\")\n",
    "model =word2vec.Word2Vec.load('./word2vec')"
   ]
  },
  {
   "cell_type": "code",
   "execution_count": 8,
   "metadata": {},
   "outputs": [
    {
     "data": {
      "text/plain": [
       "0.12373217156772831"
      ]
     },
     "execution_count": 8,
     "metadata": {},
     "output_type": "execute_result"
    }
   ],
   "source": [
    "x=model.wv.similarity('dogs','you')\n",
    "x"
   ]
  },
  {
   "cell_type": "code",
   "execution_count": 9,
   "metadata": {},
   "outputs": [
    {
     "name": "stdout",
     "output_type": "stream",
     "text": [
      "[('jumps', 0.1058095246553421), ('home', 0.09197849035263062), ('brown', 0.09049686789512634), ('now', 0.07550402730703354), ('the', 0.07261577248573303), ('fox', 0.05018754303455353), ('sleep', 0.03289014846086502), ('you', 0.010675620287656784), ('go', 0.010293979197740555), ('dogs', -0.026742778718471527)]\n"
     ]
    }
   ],
   "source": [
    "print(model.wv.most_similar(\"lazy\"))"
   ]
  },
  {
   "cell_type": "code",
   "execution_count": null,
   "metadata": {},
   "outputs": [],
   "source": []
  }
 ],
 "metadata": {
  "kernelspec": {
   "display_name": "Python 3",
   "language": "python",
   "name": "python3"
  },
  "language_info": {
   "codemirror_mode": {
    "name": "ipython",
    "version": 3
   },
   "file_extension": ".py",
   "mimetype": "text/x-python",
   "name": "python",
   "nbconvert_exporter": "python",
   "pygments_lexer": "ipython3",
   "version": "3.6.5"
  }
 },
 "nbformat": 4,
 "nbformat_minor": 2
}
