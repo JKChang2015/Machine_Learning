{
 "cells": [
  {
   "cell_type": "markdown",
   "metadata": {},
   "source": [
    "# Ensemble learning"
   ]
  },
  {
   "cell_type": "markdown",
   "metadata": {},
   "source": [
    "Bagging：训练多个分类器取平均（并行）<br/>\n",
    "Boosting：从弱学习器开始加强，通过加权进行训练 <br/>\n",
    "Stacking：聚合多个分类与回归模型（可以分阶段进行） <br/>"
   ]
  },
  {
   "cell_type": "markdown",
   "metadata": {},
   "source": [
    "### Bagging模型（并行训练一堆分类器，取平均）  \n",
    "典型的：随机森林（数据随机采样，特征选择随机）<br/>\n",
    "随机森林优势：  <br/>\n",
    "*  能够处理很高维度数据，并且不用做特征选择   <br/>\n",
    "*  在训练完后，能够给出哪些特征重要   <br/>\n",
    "*  容易做成并行化方法，速度较快   <br/>\n",
    "*  可以进行可视化展示，便于分析<br/>\n",
    "\n",
    "理论上，树越多越好，但超过一定数量时会上下浮动（一般地100-200个树）"
   ]
  },
  {
   "cell_type": "markdown",
   "metadata": {},
   "source": [
    "### Boosting（串行，加入一棵树，要比原来强）\n",
    "典型代表：Adaboost、Xgboost <br/>\n",
    "Adaboost会根据前一次的分类效果调整数据权重<br/>\n",
    "即：如果这次分错了，那下一次给它更大的权重<br/>\n",
    "最终结果：每个分类器根据自身的准确性确定各自的权重，再合体<br/>"
   ]
  },
  {
   "cell_type": "markdown",
   "metadata": {},
   "source": [
    "### Stacking（堆叠多种分类器）\n",
    "分阶段：第一阶段得出各自结果，第二阶段再用前一阶段结果训练<br/>\n",
    "堆叠算法确实能提升准确率，但是以速度为代价<br/>"
   ]
  }
 ],
 "metadata": {
  "kernelspec": {
   "display_name": "Python 3",
   "language": "python",
   "name": "python3"
  },
  "language_info": {
   "codemirror_mode": {
    "name": "ipython",
    "version": 3
   },
   "file_extension": ".py",
   "mimetype": "text/x-python",
   "name": "python",
   "nbconvert_exporter": "python",
   "pygments_lexer": "ipython3",
   "version": "3.6.5"
  }
 },
 "nbformat": 4,
 "nbformat_minor": 2
}
