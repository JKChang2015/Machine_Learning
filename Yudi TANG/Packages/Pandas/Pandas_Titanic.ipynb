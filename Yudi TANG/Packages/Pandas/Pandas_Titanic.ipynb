{
 "cells": [
  {
   "cell_type": "code",
   "execution_count": 1,
   "metadata": {},
   "outputs": [
    {
     "name": "stdout",
     "output_type": "stream",
     "text": [
      "<class 'pandas.core.frame.DataFrame'>\n",
      "RangeIndex: 891 entries, 0 to 890\n",
      "Data columns (total 12 columns):\n",
      "PassengerId    891 non-null int64\n",
      "Survived       891 non-null int64\n",
      "Pclass         891 non-null int64\n",
      "Name           891 non-null object\n",
      "Sex            891 non-null object\n",
      "Age            714 non-null float64\n",
      "SibSp          891 non-null int64\n",
      "Parch          891 non-null int64\n",
      "Ticket         891 non-null object\n",
      "Fare           891 non-null float64\n",
      "Cabin          204 non-null object\n",
      "Embarked       889 non-null object\n",
      "dtypes: float64(2), int64(5), object(5)\n",
      "memory usage: 83.6+ KB\n",
      "None\n"
     ]
    }
   ],
   "source": [
    "import pandas as pd\n",
    "import numpy as np\n",
    "\n",
    "titanic_survival = pd.read_csv(\"titanic_train.csv\")\n",
    "print(titanic_survival.info())"
   ]
  },
  {
   "cell_type": "code",
   "execution_count": 2,
   "metadata": {},
   "outputs": [
    {
     "name": "stdout",
     "output_type": "stream",
     "text": [
      "0     22.0\n",
      "1     38.0\n",
      "2     26.0\n",
      "3     35.0\n",
      "4     35.0\n",
      "5      NaN\n",
      "6     54.0\n",
      "7      2.0\n",
      "8     27.0\n",
      "9     14.0\n",
      "10     4.0\n",
      "Name: Age, dtype: float64\n",
      "----------------------\n",
      "0     False\n",
      "1     False\n",
      "2     False\n",
      "3     False\n",
      "4     False\n",
      "5      True\n",
      "6     False\n",
      "7     False\n",
      "8     False\n",
      "9     False\n",
      "10    False\n",
      "Name: Age, dtype: bool\n",
      "----------------------\n",
      "5   NaN\n",
      "Name: Age, dtype: float64\n",
      "----------------------\n",
      "177\n"
     ]
    }
   ],
   "source": [
    "# is_null\n",
    "age = titanic_survival[\"Age\"]\n",
    "print(age.loc[0:10])\n",
    "\n",
    "print('----------------------')\n",
    "age_is_null = pd.isnull(age)\n",
    "print (age_is_null.loc[0:10])  # True / False\n",
    "\n",
    "print('----------------------')\n",
    "age_null_true = age[age_is_null]\n",
    "print( age_null_true.loc[0:10]) #print NaN \n",
    "\n",
    "print('----------------------')\n",
    "age_null_count = len(age_null_true)\n",
    "print(age_null_count)"
   ]
  },
  {
   "cell_type": "code",
   "execution_count": 3,
   "metadata": {},
   "outputs": [
    {
     "name": "stdout",
     "output_type": "stream",
     "text": [
      "nan\n",
      "29.69911764705882\n"
     ]
    }
   ],
   "source": [
    "# The result of this is that mean_age would be nan. need to be fixed\n",
    "# ignored all the NaN value\n",
    "mean_age = sum(titanic_survival[\"Age\"]) / len(titanic_survival[\"Age\"])\n",
    "print (mean_age) #NaN\n",
    "\n",
    "#filter out the missing value\n",
    "\n",
    "age_is_null = titanic_survival[\"Age\"].isnull()\n",
    "filted = titanic_survival['Age'][age_is_null == False]\n",
    "mean = sum(filted)/len(filted)\n",
    "print(mean)"
   ]
  },
  {
   "cell_type": "code",
   "execution_count": 4,
   "metadata": {},
   "outputs": [
    {
     "data": {
      "text/plain": [
       "29.69911764705882"
      ]
     },
     "execution_count": 4,
     "metadata": {},
     "output_type": "execute_result"
    }
   ],
   "source": [
    "# more easy way to cal the mean value\n",
    "easy_mean_age = titanic_survival['Age'].mean()\n",
    "easy_mean_age"
   ]
  },
  {
   "cell_type": "code",
   "execution_count": 5,
   "metadata": {},
   "outputs": [
    {
     "name": "stdout",
     "output_type": "stream",
     "text": [
      "{1: 84.15468749999992, 2: 20.66218315217391, 3: 13.675550101832997}\n"
     ]
    }
   ],
   "source": [
    "#mean fare for passager class 'Pclass'\n",
    "#Calculate the mean price for each PClass\n",
    "passenger_classes = [1, 2, 3]\n",
    "classes_fare = {}\n",
    "for pc in passenger_classes:\n",
    "    pclass_rows = titanic_survival[titanic_survival['Pclass']==pc]\n",
    "    pclass_fares = pclass_rows['Fare'] #get the price in particular row\n",
    "    fare_for_class = pclass_fares.mean()\n",
    "    classes_fare[pc]= fare_for_class\n",
    "\n",
    "print(classes_fare)"
   ]
  },
  {
   "cell_type": "code",
   "execution_count": 6,
   "metadata": {},
   "outputs": [
    {
     "name": "stdout",
     "output_type": "stream",
     "text": [
      "             Fare\n",
      "Pclass           \n",
      "1       84.154687\n",
      "2       20.662183\n",
      "3       13.675550\n",
      "-------------------\n",
      "              Age  Survived\n",
      "Pclass                     \n",
      "1       38.233441  0.629630\n",
      "2       29.877630  0.472826\n",
      "3       25.140620  0.242363\n"
     ]
    }
   ],
   "source": [
    "# more easy way to Calculate the mean price for each PClass\n",
    "# pivot_table\n",
    "passenger_Fares = titanic_survival.pivot_table(index=\"Pclass\", values=\"Fare\", aggfunc=np.mean)\n",
    "print (passenger_Fares)\n",
    "\n",
    "print('-------------------')\n",
    "# average survival passagers & age in each Pclass,aggfunc default = np.mean\n",
    "passenger_survival = titanic_survival.pivot_table(index=\"Pclass\", values=[\"Survived\",'Age'])\n",
    "print (passenger_survival)"
   ]
  },
  {
   "cell_type": "code",
   "execution_count": 7,
   "metadata": {},
   "outputs": [
    {
     "name": "stdout",
     "output_type": "stream",
     "text": [
      "    PassengerId  Survived  Pclass  \\\n",
      "0             1         0       3   \n",
      "1             2         1       1   \n",
      "2             3         1       3   \n",
      "3             4         1       1   \n",
      "4             5         0       3   \n",
      "6             7         0       1   \n",
      "7             8         0       3   \n",
      "8             9         1       3   \n",
      "9            10         1       2   \n",
      "10           11         1       3   \n",
      "\n",
      "                                                 Name     Sex   Age  SibSp  \\\n",
      "0                             Braund, Mr. Owen Harris    male  22.0      1   \n",
      "1   Cumings, Mrs. John Bradley (Florence Briggs Th...  female  38.0      1   \n",
      "2                              Heikkinen, Miss. Laina  female  26.0      0   \n",
      "3        Futrelle, Mrs. Jacques Heath (Lily May Peel)  female  35.0      1   \n",
      "4                            Allen, Mr. William Henry    male  35.0      0   \n",
      "6                             McCarthy, Mr. Timothy J    male  54.0      0   \n",
      "7                      Palsson, Master. Gosta Leonard    male   2.0      3   \n",
      "8   Johnson, Mrs. Oscar W (Elisabeth Vilhelmina Berg)  female  27.0      0   \n",
      "9                 Nasser, Mrs. Nicholas (Adele Achem)  female  14.0      1   \n",
      "10                    Sandstrom, Miss. Marguerite Rut  female   4.0      1   \n",
      "\n",
      "    Parch            Ticket     Fare Cabin Embarked  \n",
      "0       0         A/5 21171   7.2500   NaN        S  \n",
      "1       0          PC 17599  71.2833   C85        C  \n",
      "2       0  STON/O2. 3101282   7.9250   NaN        S  \n",
      "3       0            113803  53.1000  C123        S  \n",
      "4       0            373450   8.0500   NaN        S  \n",
      "6       0             17463  51.8625   E46        S  \n",
      "7       1            349909  21.0750   NaN        S  \n",
      "8       2            347742  11.1333   NaN        S  \n",
      "9       0            237736  30.0708   NaN        C  \n",
      "10      1           PP 9549  16.7000    G6        S  \n"
     ]
    }
   ],
   "source": [
    "# drop NaN value\n",
    "#specifying axis=1 or axis='columns' will drop any columns that have null values\n",
    "drop_na_columns = titanic_survival.dropna(axis=1)\n",
    "new_titanic_survival = titanic_survival.dropna(axis=0,subset=[\"Age\", \"Sex\"])\n",
    "\n",
    "print(new_titanic_survival[0:10])"
   ]
  },
  {
   "cell_type": "code",
   "execution_count": 8,
   "metadata": {},
   "outputs": [
    {
     "name": "stdout",
     "output_type": "stream",
     "text": [
      "28.0\n",
      "1\n"
     ]
    }
   ],
   "source": [
    "# Loacation to a specific value, dp.loc[row,column]\n",
    "row_index_83_age = titanic_survival.loc[83,\"Age\"]\n",
    "row_index_1000_pclass = titanic_survival.loc[766,\"Pclass\"]\n",
    "print (row_index_83_age)\n",
    "print (row_index_1000_pclass)"
   ]
  },
  {
   "cell_type": "code",
   "execution_count": 9,
   "metadata": {},
   "outputs": [
    {
     "name": "stdout",
     "output_type": "stream",
     "text": [
      "     PassengerId  Survived  Pclass                                  Name  \\\n",
      "630          631         1       1  Barkworth, Mr. Algernon Henry Wilson   \n",
      "851          852         0       3                   Svensson, Mr. Johan   \n",
      "493          494         0       1               Artagaveytia, Mr. Ramon   \n",
      "96            97         0       1             Goldschmidt, Mr. George B   \n",
      "116          117         0       3                  Connors, Mr. Patrick   \n",
      "672          673         0       2           Mitchell, Mr. Henry Michael   \n",
      "745          746         0       1          Crosby, Capt. Edward Gifford   \n",
      "33            34         0       2                 Wheadon, Mr. Edward H   \n",
      "54            55         0       1        Ostby, Mr. Engelhart Cornelius   \n",
      "280          281         0       3                      Duane, Mr. Frank   \n",
      "\n",
      "      Sex   Age  SibSp  Parch      Ticket     Fare Cabin Embarked  \n",
      "630  male  80.0      0      0       27042  30.0000   A23        S  \n",
      "851  male  74.0      0      0      347060   7.7750   NaN        S  \n",
      "493  male  71.0      0      0    PC 17609  49.5042   NaN        C  \n",
      "96   male  71.0      0      0    PC 17754  34.6542    A5        C  \n",
      "116  male  70.5      0      0      370369   7.7500   NaN        Q  \n",
      "672  male  70.0      0      0  C.A. 24580  10.5000   NaN        S  \n",
      "745  male  70.0      1      1   WE/P 5735  71.0000   B22        S  \n",
      "33   male  66.0      0      0  C.A. 24579  10.5000   NaN        S  \n",
      "54   male  65.0      0      1      113509  61.9792   B30        C  \n",
      "280  male  65.0      0      0      336439   7.7500   NaN        Q  \n",
      "-------------------------------------------\n",
      "   PassengerId  Survived  Pclass                                  Name   Sex  \\\n",
      "0          631         1       1  Barkworth, Mr. Algernon Henry Wilson  male   \n",
      "1          852         0       3                   Svensson, Mr. Johan  male   \n",
      "2          494         0       1               Artagaveytia, Mr. Ramon  male   \n",
      "3           97         0       1             Goldschmidt, Mr. George B  male   \n",
      "4          117         0       3                  Connors, Mr. Patrick  male   \n",
      "5          673         0       2           Mitchell, Mr. Henry Michael  male   \n",
      "6          746         0       1          Crosby, Capt. Edward Gifford  male   \n",
      "7           34         0       2                 Wheadon, Mr. Edward H  male   \n",
      "8           55         0       1        Ostby, Mr. Engelhart Cornelius  male   \n",
      "9          281         0       3                      Duane, Mr. Frank  male   \n",
      "\n",
      "    Age  SibSp  Parch      Ticket     Fare Cabin Embarked  \n",
      "0  80.0      0      0       27042  30.0000   A23        S  \n",
      "1  74.0      0      0      347060   7.7750   NaN        S  \n",
      "2  71.0      0      0    PC 17609  49.5042   NaN        C  \n",
      "3  71.0      0      0    PC 17754  34.6542    A5        C  \n",
      "4  70.5      0      0      370369   7.7500   NaN        Q  \n",
      "5  70.0      0      0  C.A. 24580  10.5000   NaN        S  \n",
      "6  70.0      1      1   WE/P 5735  71.0000   B22        S  \n",
      "7  66.0      0      0  C.A. 24579  10.5000   NaN        S  \n",
      "8  65.0      0      1      113509  61.9792   B30        C  \n",
      "9  65.0      0      0      336439   7.7500   NaN        Q  \n"
     ]
    }
   ],
   "source": [
    "# reset the index for each row\n",
    "new_titanic_survival = titanic_survival.sort_values(\"Age\",ascending=False) #ranked the data accoriding to Age\n",
    "print( new_titanic_survival[0:10])\n",
    "\n",
    "print('-------------------------------------------')\n",
    "#re-index the whole data set, drop= drop the original data index\n",
    "titanic_reindexed = new_titanic_survival.reset_index(drop=True) \n",
    "print(titanic_reindexed.iloc[0:10])\n"
   ]
  },
  {
   "cell_type": "code",
   "execution_count": 10,
   "metadata": {},
   "outputs": [
    {
     "name": "stdout",
     "output_type": "stream",
     "text": [
      "PassengerId                  100\n",
      "Survived                       0\n",
      "Pclass                         2\n",
      "Name           Kantor, Mr. Sinai\n",
      "Sex                         male\n",
      "Age                           34\n",
      "SibSp                          1\n",
      "Parch                          0\n",
      "Ticket                    244367\n",
      "Fare                          26\n",
      "Cabin                        NaN\n",
      "Embarked                       S\n",
      "dtype: object\n"
     ]
    }
   ],
   "source": [
    "# apply function to DF.column\n",
    "def hundredth_row(column):\n",
    "    # Extract the hundredth item\n",
    "    hundredth_item = column.iloc[99]\n",
    "    return hundredth_item  #returns the hundredth item from a series\n",
    "\n",
    "hundredth_row = titanic_survival.apply(hundredth_row)\n",
    "print(hundredth_row)"
   ]
  },
  {
   "cell_type": "code",
   "execution_count": 11,
   "metadata": {},
   "outputs": [
    {
     "name": "stdout",
     "output_type": "stream",
     "text": [
      "PassengerId      0\n",
      "Survived         0\n",
      "Pclass           0\n",
      "Name             0\n",
      "Sex              0\n",
      "Age            177\n",
      "SibSp            0\n",
      "Parch            0\n",
      "Ticket           0\n",
      "Fare             0\n",
      "Cabin          687\n",
      "Embarked         2\n",
      "dtype: int64\n"
     ]
    }
   ],
   "source": [
    "# return total number of NaN for each column\n",
    "def null_count(column):\n",
    "    column_null = pd.isnull(column) #boolean, null = true\n",
    "    null = column[column_null] #collection of null value\n",
    "    return len(null)\n",
    "\n",
    "column_null_count = titanic_survival.apply(null_count)\n",
    "print (column_null_count)"
   ]
  },
  {
   "cell_type": "code",
   "execution_count": 12,
   "metadata": {},
   "outputs": [
    {
     "name": "stdout",
     "output_type": "stream",
     "text": [
      "0     Third Class\n",
      "1     First Class\n",
      "2     Third Class\n",
      "3     First Class\n",
      "4     Third Class\n",
      "5     Third Class\n",
      "6     First Class\n",
      "7     Third Class\n",
      "8     Third Class\n",
      "9    Second Class\n",
      "dtype: object\n"
     ]
    }
   ],
   "source": [
    "# Function\n",
    "\n",
    "def which_class(row):\n",
    "    pclass = row['Pclass']\n",
    "    if pd.isnull(pclass):\n",
    "        return \"Unknown\"\n",
    "    elif pclass == 1:\n",
    "        return \"First Class\"\n",
    "    elif pclass == 2:\n",
    "        return \"Second Class\"\n",
    "    elif pclass == 3:\n",
    "        return \"Third Class\"\n",
    "\n",
    "\n",
    "classes = titanic_survival.apply(which_class, axis=1)\n",
    "print(classes[0:10])\n"
   ]
  },
  {
   "cell_type": "code",
   "execution_count": null,
   "metadata": {},
   "outputs": [],
   "source": []
  }
 ],
 "metadata": {
  "kernelspec": {
   "display_name": "Python 3",
   "language": "python",
   "name": "python3"
  },
  "language_info": {
   "codemirror_mode": {
    "name": "ipython",
    "version": 3
   },
   "file_extension": ".py",
   "mimetype": "text/x-python",
   "name": "python",
   "nbconvert_exporter": "python",
   "pygments_lexer": "ipython3",
   "version": "3.6.3"
  }
 },
 "nbformat": 4,
 "nbformat_minor": 2
}
