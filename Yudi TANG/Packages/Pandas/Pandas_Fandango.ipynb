{
 "cells": [
  {
   "cell_type": "code",
   "execution_count": 1,
   "metadata": {},
   "outputs": [],
   "source": [
    "# Series (collection of values)\n",
    "# DataFrame (collection of Series objects)\n",
    "\n",
    "# DataFrame is made by serveral Series (rows/columns)\n",
    "\n",
    "# A Series object can hold many data types, including\n",
    "# float - for representing float values\n",
    "# int - for representing integer values\n",
    "# bool - for representing Boolean values\n",
    "# datetime64[ns] - for representing date & time, without time-zone\n",
    "# datetime64[ns, tz] - for representing date & time, with time-zone\n",
    "# timedelta[ns] - for representing differences in dates & times (seconds, minutes, etc.)\n",
    "# category - for representing categorical values\n",
    "# object - for representing String values"
   ]
  },
  {
   "cell_type": "code",
   "execution_count": null,
   "metadata": {},
   "outputs": [],
   "source": []
  },
  {
   "cell_type": "code",
   "execution_count": 2,
   "metadata": {},
   "outputs": [
    {
     "name": "stdout",
     "output_type": "stream",
     "text": [
      "<class 'pandas.core.frame.DataFrame'>\n",
      "RangeIndex: 146 entries, 0 to 145\n",
      "Data columns (total 22 columns):\n",
      "FILM                          146 non-null object\n",
      "RottenTomatoes                146 non-null int64\n",
      "RottenTomatoes_User           146 non-null int64\n",
      "Metacritic                    146 non-null int64\n",
      "Metacritic_User               146 non-null float64\n",
      "IMDB                          146 non-null float64\n",
      "Fandango_Stars                146 non-null float64\n",
      "Fandango_Ratingvalue          146 non-null float64\n",
      "RT_norm                       146 non-null float64\n",
      "RT_user_norm                  146 non-null float64\n",
      "Metacritic_norm               146 non-null float64\n",
      "Metacritic_user_nom           146 non-null float64\n",
      "IMDB_norm                     146 non-null float64\n",
      "RT_norm_round                 146 non-null float64\n",
      "RT_user_norm_round            146 non-null float64\n",
      "Metacritic_norm_round         146 non-null float64\n",
      "Metacritic_user_norm_round    146 non-null float64\n",
      "IMDB_norm_round               146 non-null float64\n",
      "Metacritic_user_vote_count    146 non-null int64\n",
      "IMDB_user_vote_count          146 non-null int64\n",
      "Fandango_votes                146 non-null int64\n",
      "Fandango_Difference           146 non-null float64\n",
      "dtypes: float64(15), int64(6), object(1)\n",
      "memory usage: 25.2+ KB\n",
      "None\n"
     ]
    }
   ],
   "source": [
    "import pandas as pd\n",
    "import numpy as np\n",
    "\n",
    "fandango = pd.read_csv('fandango_score_comparison.csv')\n",
    "print(fandango.info())\n",
    "\n",
    "# FILM - film name\n",
    "# RottenTomatoes - Rotten Tomatoes critics average score\n",
    "# RottenTomatoes_User - Rotten Tomatoes user average score\n",
    "# RT_norm - Rotten Tomatoes critics average score (normalized to a 0 to 5 point system)\n",
    "# RT_user_norm - Rotten Tomatoes user average score (normalized to a 0 to 5 point system)\n",
    "# Metacritic - Metacritic critics average score\n",
    "# Metacritic_User - Metacritic user average score"
   ]
  },
  {
   "cell_type": "code",
   "execution_count": 3,
   "metadata": {},
   "outputs": [
    {
     "name": "stdout",
     "output_type": "stream",
     "text": [
      "<class 'pandas.core.series.Series'>\n",
      "0    Avengers: Age of Ultron (2015)\n",
      "1                 Cinderella (2015)\n",
      "2                    Ant-Man (2015)\n",
      "3            Do You Believe? (2015)\n",
      "4     Hot Tub Time Machine 2 (2015)\n",
      "5          The Water Diviner (2015)\n",
      "6             Irrational Man (2015)\n",
      "7                   Top Five (2014)\n",
      "8      Shaun the Sheep Movie (2015)\n",
      "9               Love & Mercy (2015)\n",
      "Name: FILM, dtype: object\n",
      "0    74\n",
      "1    85\n",
      "2    80\n",
      "3    18\n",
      "4    14\n",
      "5    63\n",
      "6    42\n",
      "7    86\n",
      "8    99\n",
      "9    89\n",
      "Name: RottenTomatoes, dtype: int64\n"
     ]
    }
   ],
   "source": [
    "series_film = fandango['FILM']\n",
    "print(type(series_film))\n",
    "print(series_film[0:10])\n",
    "series_rt = fandango['RottenTomatoes']\n",
    "print (series_rt[0:10])"
   ]
  },
  {
   "cell_type": "code",
   "execution_count": 4,
   "metadata": {},
   "outputs": [
    {
     "name": "stdout",
     "output_type": "stream",
     "text": [
      "Avengers: Age of Ultron (2015)    74\n",
      "Cinderella (2015)                 85\n",
      "Ant-Man (2015)                    80\n",
      "Do You Believe? (2015)            18\n",
      "Hot Tub Time Machine 2 (2015)     14\n",
      "The Water Diviner (2015)          63\n",
      "Irrational Man (2015)             42\n",
      "Top Five (2014)                   86\n",
      "Shaun the Sheep Movie (2015)      99\n",
      "Love & Mercy (2015)               89\n",
      "dtype: int64\n",
      "-----------------------------------\n",
      "Minions (2015)      54\n",
      "Leviathan (2014)    99\n",
      "dtype: int64\n"
     ]
    }
   ],
   "source": [
    "from pandas import Series\n",
    "\n",
    "series_film = fandango['FILM']\n",
    "film_names = series_film.values\n",
    "# print(film_name[0:5])   \n",
    "\n",
    "series_rt = fandango['RottenTomatoes']\n",
    "rt_scores = series_rt.values\n",
    "# print(rt_scores)\n",
    "\n",
    "# set film name as a index\n",
    "series_custom = Series(rt_scores , index=film_names)\n",
    "print(series_custom[0:10])\n",
    "print('-----------------------------------')\n",
    "# using the film name to access the data\n",
    "print(series_custom[['Minions (2015)', 'Leviathan (2014)']])"
   ]
  },
  {
   "cell_type": "code",
   "execution_count": 5,
   "metadata": {},
   "outputs": [
    {
     "name": "stdout",
     "output_type": "stream",
     "text": [
      "'71 (2015)                    97\n",
      "5 Flights Up (2015)           52\n",
      "A Little Chaos (2015)         40\n",
      "A Most Violent Year (2014)    90\n",
      "About Elly (2015)             97\n",
      "Aloha (2015)                  19\n",
      "American Sniper (2015)        72\n",
      "American Ultra (2015)         46\n",
      "Amy (2015)                    97\n",
      "Annie (2014)                  27\n",
      "dtype: int64\n",
      "--------------------------------------\n",
      "(146,)\n",
      "<class 'pandas.core.series.Series'>\n"
     ]
    }
   ],
   "source": [
    "# sorted by index\n",
    "# 1. sort the indexes\n",
    "# 2. using sorted index to reindex the whole Series\n",
    "original_index = series_custom.index.tolist()\n",
    "sorted_index = sorted(original_index)\n",
    "sorted_by_index = series_custom.reindex(sorted_index)\n",
    "print(sorted_by_index[0:10])\n",
    "print('--------------------------------------')\n",
    "print(sorted_by_index.shape)\n",
    "print(type(sorted_by_index))"
   ]
  },
  {
   "cell_type": "code",
   "execution_count": 6,
   "metadata": {},
   "outputs": [
    {
     "name": "stdout",
     "output_type": "stream",
     "text": [
      "'71 (2015)                    97\n",
      "5 Flights Up (2015)           52\n",
      "A Little Chaos (2015)         40\n",
      "A Most Violent Year (2014)    90\n",
      "About Elly (2015)             97\n",
      "Aloha (2015)                  19\n",
      "American Sniper (2015)        72\n",
      "American Ultra (2015)         46\n",
      "Amy (2015)                    97\n",
      "Annie (2014)                  27\n",
      "dtype: int64\n",
      "--------------------------------------\n",
      "Gett: The Trial of Viviane Amsalem (2015)    100\n",
      "Seymour: An Introduction (2015)              100\n",
      "Selma (2014)                                  99\n",
      "Phoenix (2015)                                99\n",
      "Song of the Sea (2014)                        99\n",
      "Leviathan (2014)                              99\n",
      "Shaun the Sheep Movie (2015)                  99\n",
      "Timbuktu (2015)                               99\n",
      "Mr. Turner (2014)                             98\n",
      "Paddington (2015)                             98\n",
      "dtype: int64\n"
     ]
    }
   ],
   "source": [
    "# sort index and values\n",
    "sc2 = series_custom.sort_index()\n",
    "print(sc2[0:10])\n",
    "print('--------------------------------------')\n",
    "sc3 = series_custom.sort_values(ascending=False)\n",
    "print(sc3[0:10])"
   ]
  },
  {
   "cell_type": "code",
   "execution_count": 7,
   "metadata": {},
   "outputs": [
    {
     "name": "stdout",
     "output_type": "stream",
     "text": [
      "Avengers: Age of Ultron (2015)    74\n",
      "Cinderella (2015)                 85\n",
      "Ant-Man (2015)                    80\n",
      "Do You Believe? (2015)            18\n",
      "Hot Tub Time Machine 2 (2015)     14\n",
      "The Water Diviner (2015)          63\n",
      "Irrational Man (2015)             42\n",
      "Top Five (2014)                   86\n",
      "Shaun the Sheep Movie (2015)      99\n",
      "Love & Mercy (2015)               89\n",
      "dtype: int64\n",
      "--------------------------------------\n",
      "Avengers: Age of Ultron (2015)    148\n",
      "Cinderella (2015)                 170\n",
      "Ant-Man (2015)                    160\n",
      "Do You Believe? (2015)             36\n",
      "Hot Tub Time Machine 2 (2015)      28\n",
      "The Water Diviner (2015)          126\n",
      "Irrational Man (2015)              84\n",
      "Top Five (2014)                   172\n",
      "Shaun the Sheep Movie (2015)      198\n",
      "Love & Mercy (2015)               178\n",
      "dtype: int64\n",
      "--------------------------------------\n",
      "100\n"
     ]
    }
   ],
   "source": [
    "# numpy operations\n",
    "print(series_custom[0:10])\n",
    "print('--------------------------------------')\n",
    "print(np.add(series_custom,series_custom)[0:10])\n",
    "print('--------------------------------------')\n",
    "print(np.max(series_custom))"
   ]
  },
  {
   "cell_type": "code",
   "execution_count": 8,
   "metadata": {},
   "outputs": [
    {
     "name": "stdout",
     "output_type": "stream",
     "text": [
      "Unbroken (2014)                  51\n",
      "Southpaw (2015)                  59\n",
      "Insidious: Chapter 3 (2015)      59\n",
      "Run All Night (2015)             60\n",
      "5 Flights Up (2015)              52\n",
      "Saint Laurent (2015)             51\n",
      "Maps to the Stars (2015)         60\n",
      "The Age of Adaline (2015)        54\n",
      "Unfriended (2015)                60\n",
      "Paper Towns (2015)               55\n",
      "Maggie (2015)                    54\n",
      "Focus (2015)                     57\n",
      "Escobar: Paradise Lost (2015)    52\n",
      "Woman in Gold (2015)             52\n",
      "The Last Five Years (2015)       60\n",
      "Minions (2015)                   54\n",
      "Spare Parts (2015)               52\n",
      "dtype: int64\n"
     ]
    }
   ],
   "source": [
    "# series_greater_than_50 = series_custom[series_custom > 50]\n",
    "# print(series_greater_than_50)\n",
    "\n",
    "series_between_50_60 = series_custom[(series_custom > 50) & (series_custom <= 60)]\n",
    "print(series_between_50_60)"
   ]
  },
  {
   "cell_type": "code",
   "execution_count": 9,
   "metadata": {},
   "outputs": [
    {
     "name": "stdout",
     "output_type": "stream",
     "text": [
      "FILM\n",
      "Avengers: Age of Ultron (2015)    80.0\n",
      "Cinderella (2015)                 82.5\n",
      "Ant-Man (2015)                    85.0\n",
      "Do You Believe? (2015)            51.0\n",
      "Hot Tub Time Machine 2 (2015)     21.0\n",
      "The Water Diviner (2015)          62.5\n",
      "Irrational Man (2015)             47.5\n",
      "Top Five (2014)                   75.0\n",
      "Shaun the Sheep Movie (2015)      90.5\n",
      "Love & Mercy (2015)               88.0\n",
      "dtype: float64\n"
     ]
    }
   ],
   "source": [
    "# Seriess operation\n",
    "rt_critics = Series(fandango['RottenTomatoes'].values, index=fandango['FILM'])\n",
    "rt_users = Series(fandango['RottenTomatoes_User'].values, index=fandango['FILM'])\n",
    "rt_mean = (rt_critics + rt_users)/2\n",
    "print(rt_mean[0:10])"
   ]
  },
  {
   "cell_type": "code",
   "execution_count": null,
   "metadata": {},
   "outputs": [],
   "source": []
  },
  {
   "cell_type": "code",
   "execution_count": null,
   "metadata": {},
   "outputs": [],
   "source": []
  }
 ],
 "metadata": {
  "kernelspec": {
   "display_name": "Python 3",
   "language": "python",
   "name": "python3"
  },
  "language_info": {
   "codemirror_mode": {
    "name": "ipython",
    "version": 3
   },
   "file_extension": ".py",
   "mimetype": "text/x-python",
   "name": "python",
   "nbconvert_exporter": "python",
   "pygments_lexer": "ipython3",
   "version": "3.6.3"
  }
 },
 "nbformat": 4,
 "nbformat_minor": 2
}
