{
 "cells": [
  {
   "cell_type": "markdown",
   "metadata": {},
   "source": [
    "## Ensemble learning\n",
    "In statistics and machine learning, ensemble methods use multiple learning algorithms to obtain better predictive performance than could be obtained from any of the constituent learning algorithms alone. <br/>\n",
    "\n",
    "Unlike a statistical ensemble in statistical mechanics, which is usually infinite, a machine learning ensemble consists of only a concrete finite set of alternative models, but typically allows for much more flexible structure to exist among those alternatives.\n",
    "\n",
    "* Bagging: Average value of all learning algorithms\n",
    "$$f(x) = \\frac{1}{M}\\sum_{m=1}^{M}f_{m}(x)$$\n",
    "\n",
    "* Boosting: Boosting involves incrementally building an ensemble by training each new model instance to emphasize the training instances that previous models mis-classified. In some cases, boosting has been shown to yield better accuracy than bagging, but it also tends to be more likely to over-fit the training data. \n",
    "$$f_{m}(x) = f_{m-1}(x)+argmin_{h}\\sum_{i=1}^{n}L(y_{i}, F_{m-1}(x_{i}) + h(x_{i}))$$\n",
    "\n",
    "* Stacking: group several clustering/classification/regression models"
   ]
  },
  {
   "cell_type": "markdown",
   "metadata": {},
   "source": [
    "### Bagging\n",
    "- 全称：Bootstrap aggregation 并行训练一系列分类器，相互独立\n",
    "- 应用：随机森林\n",
    "- 随机：数据采样随机，特征选择随机\n",
    "- 森林：若干个决策树并行\n",
    "- 分组：相同的数据量，相同的随机特征数量\n",
    "- 结果：众数"
   ]
  },
  {
   "cell_type": "markdown",
   "metadata": {},
   "source": [
    "### Boosting\n",
    "从弱学习开始加强，通过加权来进行训练。（加入一棵树，要比原来强）。\n",
    "- 代表：AdaBoost, Xgboost\n",
    "- AdaBoost: 会根据前一次的分类效果调整数据权重\n",
    "- 串行训练"
   ]
  },
  {
   "cell_type": "markdown",
   "metadata": {},
   "source": [
    "### Stacking\n",
    "- 堆叠：尝试很多分类算法\n"
   ]
  },
  {
   "cell_type": "markdown",
   "metadata": {},
   "source": [
    "<img src=\"1.png\" style=\"float:left\">"
   ]
  },
  {
   "cell_type": "code",
   "execution_count": null,
   "metadata": {},
   "outputs": [],
   "source": []
  }
 ],
 "metadata": {
  "kernelspec": {
   "display_name": "Python 3",
   "language": "python",
   "name": "python3"
  },
  "language_info": {
   "codemirror_mode": {
    "name": "ipython",
    "version": 3
   },
   "file_extension": ".py",
   "mimetype": "text/x-python",
   "name": "python",
   "nbconvert_exporter": "python",
   "pygments_lexer": "ipython3",
   "version": "3.6.3"
  }
 },
 "nbformat": 4,
 "nbformat_minor": 2
}
