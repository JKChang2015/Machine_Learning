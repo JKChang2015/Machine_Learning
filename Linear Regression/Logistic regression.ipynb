{
 "cells": [
  {
   "cell_type": "markdown",
   "metadata": {},
   "source": [
    "### logistic regression\n",
    "In statistics, logistic regression, or logit regression is a regression model where the dependent variable is `categorical`. It covers the case of a binary dependent variable—that is, where the output can take only two values, \"0\" and \"1\" <br \\>\n",
    "\n",
    "The binary logistic model is used to estimate the probability of a binary response based on one or more predictor (or independent) variables (features). It allows one to say that the presence of a risk factor increases the odds of a given outcome by a specific factor. The model is a direct probability model and not a classifier.\n",
    "\n",
    "It converts the input to a probability between 0 and 1."
   ]
  },
  {
   "cell_type": "markdown",
   "metadata": {},
   "source": [
    "Sigmoid Function:\n",
    "\n",
    "$$\\sigma(t) =\\frac{e^{t}}{e^{t} +1} =\\frac{1}{1+e^{-t} }$$\n",
    "\n",
    "note that $\\sigma(t) \\in (0,1)$ for all t\n",
    "<img src=\"1.png\">\n",
    "\n",
    "Let us assume that `t` is a linear function of a single explanatory variable \n",
    "`x`. \n",
    "$$t=\\beta _{0}+\\beta _{1}x$$\n",
    "\n",
    "And the logistic function can now be written as:\n",
    "$${\\displaystyle p(x)={\\frac {1}{1+e^{-(\\beta _{0}+\\beta _{1}x)}}}}$$"
   ]
  },
  {
   "cell_type": "markdown",
   "metadata": {},
   "source": [
    "Logistic regression is an important machine learning algorithm. The goal is to model the probability of a random variable `Y` being 0 or 1 given experimental data. Consider a `generalized linear model` function parameterized by $\\theta$ ,\n",
    "$${\\displaystyle h_{\\theta }(x)={\\frac {1}{1+e^{-\\theta ^{T}x}}}}$$\n",
    "\n",
    "If we attempt to model the probability that `y` is 0 or 1 with the function \n",
    "${\\displaystyle Pr(y|x;\\theta )=h_{\\theta }(x)^{y}(1-h_{\\theta }(x))^{(1-y)}}$, we take our likelihood function assuming that all the samples are independent,\n",
    "<br \\><br \\>\n",
    "$${\\displaystyle \n",
    "{\\begin{aligned}L(\\theta |x)&=Pr(Y|X;\\theta )\\\\&=\\prod _{i}Pr(y_{i}|x_{i};\\theta )\\\\&=\\prod _{i}h_{\\theta }(x_{i})^{y_{i}}(1-h_{\\theta }(x_{i}))^{(1-y_{i})}\\end{aligned}}}$$\n",
    "\n",
    "Typically, the log likelihood is maximized with a normalizing factor \n",
    "$N^{{-1}}$,\n",
    "$${\\displaystyle N^{-1}\\log L(\\theta |x)=N^{-1}\\sum _{i=1}^{N}\\log Pr(y_{i}|x_{i};\\theta )}$$"
   ]
  },
  {
   "cell_type": "markdown",
   "metadata": {},
   "source": [
    "Using gradient descent to calculate the maximum value, set\n",
    "$J(\\theta ) = - \\frac{1}{m} L(\\theta )$ as a gradient descent task.\n",
    "<img src=\"2.png\"style=\"width:650px;height:400px;\">\n",
    "\n",
    "Paramters update:\n",
    "$$\\theta _{j} := \\theta _{j} - \\alpha \\frac{1}{m}\\sum_{i=1}^{m} (h_{\\theta}(x_{i})-y_{i})x_{i}^{j}$$"
   ]
  },
  {
   "cell_type": "code",
   "execution_count": null,
   "metadata": {},
   "outputs": [],
   "source": []
  }
 ],
 "metadata": {
  "kernelspec": {
   "display_name": "Python 3",
   "language": "python",
   "name": "python3"
  },
  "language_info": {
   "codemirror_mode": {
    "name": "ipython",
    "version": 3
   },
   "file_extension": ".py",
   "mimetype": "text/x-python",
   "name": "python",
   "nbconvert_exporter": "python",
   "pygments_lexer": "ipython3",
   "version": "3.6.3"
  }
 },
 "nbformat": 4,
 "nbformat_minor": 2
}
