{
 "cells": [
  {
   "cell_type": "markdown",
   "metadata": {},
   "source": [
    "## DBSCAN\n",
    "\n",
    "Density-based spatial clustering of applications with noise (DBSCAN) is a density-based clustering algorithm: given a set of points in some space, it groups together points that are closely packed together (points with many nearby neighbors), marking as outliers points that lie alone in low-density regions (whose nearest neighbors are too far away). "
   ]
  },
  {
   "cell_type": "markdown",
   "metadata": {},
   "source": [
    "### Preliminary\n",
    "\n",
    "Consider a set of points in some space to be clustered. For the purpose of DBSCAN clustering, the points are classified as `core points`, (`density`-) reachable points and outliers, as follows:\n",
    "\n",
    "* A point p is a core point if at least $minPts$ points are within distance $ε$ ($ε$ is the maximum radius of the neighborhood from p) of it (including p). Those points are said to be _directly reachable_ from p. \n",
    "半径为$ε$的圆中，至少有$minPts$个点，则圆心为核心对象\n",
    "<br/><br/> \n",
    "\n",
    "* A point `q` is directly reachable from `p` if point `q` is within distance $ε$ from point p and `p` must be a core point. 直接密度可达，如果p在q的圆内，这q直接密度可达<br/><br/>\n",
    "\n",
    "* A point `q` is reachable from `p` if there is a path $p_{1},...,p_{n}$ with $p_{1}=q$ and $p_{n}=q$, where each $p_{i+1}$ is directly reachable from $p_{i}$ (all the points on the path must be core points, with the possible exception of q).密度可达，对于在序列$p_{1},...,p_{n}$中任意点可达q，则q密度可达， <br/><br/>\n",
    "\n",
    "* All points not reachable from any other point are outliers.<br/><br/>\n",
    "\n",
    "Now if `p` is a core point, then it forms a ''cluster'' together with all points (core or non-core) that are reachable from it. Each cluster contains at least one core point; non-core points can be part of a cluster, but they form its \"edge\", since they cannot be used to reach more points."
   ]
  },
  {
   "cell_type": "markdown",
   "metadata": {},
   "source": [
    "<img src=\"./resources/DBSCAN.png\" style=\"width:600px\">\n",
    "\n",
    "Reachability is not a symmetric relation since, by definition, no point may be reachable from a non-core point, regardless of distance (so a non-core point may be reachable, but nothing can be reached from it). Therefore, a further notion of ''connectedness'' is needed to formally define the extent of the clusters found by DBSCAN. Two points `p` and `q` are density-connected if there is a point `o` such that both `p` and `q` are reachable from `o`. Density-connectedness is symmetric.\n",
    "\n",
    "A cluster then satisfies two properties:\n",
    "* All points within the cluster are mutually density-connected.\n",
    "* If a point is density-reachable from any point of the cluster, it is part of the cluster as well."
   ]
  },
  {
   "cell_type": "markdown",
   "metadata": {},
   "source": [
    "inputs: $minPts$ and $ε$ "
   ]
  },
  {
   "cell_type": "code",
   "execution_count": null,
   "metadata": {},
   "outputs": [],
   "source": []
  }
 ],
 "metadata": {
  "kernelspec": {
   "display_name": "Python 3",
   "language": "python",
   "name": "python3"
  },
  "language_info": {
   "codemirror_mode": {
    "name": "ipython",
    "version": 3
   },
   "file_extension": ".py",
   "mimetype": "text/x-python",
   "name": "python",
   "nbconvert_exporter": "python",
   "pygments_lexer": "ipython3",
   "version": "3.6.5"
  }
 },
 "nbformat": 4,
 "nbformat_minor": 2
}
